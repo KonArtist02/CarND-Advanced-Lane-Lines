{
 "cells": [
  {
   "cell_type": "code",
   "execution_count": null,
   "metadata": {
    "collapsed": true,
    "deletable": true,
    "editable": true
   },
   "outputs": [],
   "source": [
    "from moviepy.editor import VideoFileClip\n",
    "import cv2\n",
    "import glob\n",
    "import numpy as np\n",
    "import matplotlib.pyplot as plt\n",
    "import matplotlib.image as mpimg\n",
    "%matplotlib inline"
   ]
  },
  {
   "cell_type": "code",
   "execution_count": 4,
   "metadata": {
    "collapsed": false,
    "deletable": true,
    "editable": true,
    "scrolled": true
   },
   "outputs": [
    {
     "name": "stdout",
     "output_type": "stream",
     "text": [
      "[[  1.15396100e+03   0.00000000e+00   6.69706490e+02]\n",
      " [  0.00000000e+00   1.14802504e+03   3.85655584e+02]\n",
      " [  0.00000000e+00   0.00000000e+00   1.00000000e+00]]\n"
     ]
    }
   ],
   "source": [
    "# Calibrating camera\n",
    "\n",
    "obj_points = []\n",
    "img_points = []\n",
    "\n",
    "nx = 9\n",
    "ny = 6\n",
    "\n",
    "cal_paths = glob.glob('./camera_cal/*.jpg')\n",
    "\n",
    "objp = np.zeros((nx*ny,3),np.float32)\n",
    "objp[:,:2] = np.mgrid[0:nx,0:ny].T.reshape(-1,2)\n",
    "\n",
    "for i, path in enumerate(cal_paths):\n",
    "    img = cv2.imread(path)\n",
    "    gray = cv2.cvtColor(img, cv2.COLOR_BGR2GRAY)\n",
    "    \n",
    "    ret, corners = cv2.findChessboardCorners(gray,(nx,ny))\n",
    "    if ret == True:\n",
    "        obj_points.append(objp)\n",
    "        img_points.append(corners)\n",
    "        img = cv2.drawChessboardCorners(img, (nx,ny), corners, ret) \n",
    "        plt.figure(i)\n",
    "        plt.imshow(img)\n",
    "        \n",
    "retval, cameraMatrix, distCoeffs, rvecs, tvecs = cv2.calibrateCamera(obj_points, img_points, \n",
    "                                                                     gray.shape, None, None) \n",
    "print (cameraMatrix)"
   ]
  },
  {
   "cell_type": "code",
   "execution_count": null,
   "metadata": {
    "collapsed": true
   },
   "outputs": [],
   "source": []
  },
  {
   "cell_type": "code",
   "execution_count": 5,
   "metadata": {
    "collapsed": false
   },
   "outputs": [
    {
     "ename": "IndexError",
     "evalue": "list index out of range",
     "output_type": "error",
     "traceback": [
      "\u001b[0;31m---------------------------------------------------------------------------\u001b[0m",
      "\u001b[0;31mIndexError\u001b[0m                                Traceback (most recent call last)",
      "\u001b[0;32m<ipython-input-5-c8af442d198a>\u001b[0m in \u001b[0;36m<module>\u001b[0;34m()\u001b[0m\n\u001b[1;32m     24\u001b[0m     \u001b[0mimg_id\u001b[0m \u001b[0;34m=\u001b[0m \u001b[0mcv2\u001b[0m\u001b[0;34m.\u001b[0m\u001b[0mgetTrackbarPos\u001b[0m\u001b[0;34m(\u001b[0m\u001b[0;34m'Image number'\u001b[0m\u001b[0;34m,\u001b[0m\u001b[0;34m'image'\u001b[0m\u001b[0;34m)\u001b[0m\u001b[0;34m\u001b[0m\u001b[0m\n\u001b[1;32m     25\u001b[0m \u001b[0;34m\u001b[0m\u001b[0m\n\u001b[0;32m---> 26\u001b[0;31m     \u001b[0mimg\u001b[0m \u001b[0;34m=\u001b[0m \u001b[0mmpimg\u001b[0m\u001b[0;34m.\u001b[0m\u001b[0mimread\u001b[0m\u001b[0;34m(\u001b[0m\u001b[0mtest_paths\u001b[0m\u001b[0;34m[\u001b[0m\u001b[0mimg_id\u001b[0m\u001b[0;34m]\u001b[0m\u001b[0;34m)\u001b[0m\u001b[0;34m\u001b[0m\u001b[0m\n\u001b[0m\u001b[1;32m     27\u001b[0m     \u001b[0;31m#cv2.imshow('image',img)\u001b[0m\u001b[0;34m\u001b[0m\u001b[0;34m\u001b[0m\u001b[0m\n\u001b[1;32m     28\u001b[0m     \u001b[0mk\u001b[0m \u001b[0;34m=\u001b[0m \u001b[0mcv2\u001b[0m\u001b[0;34m.\u001b[0m\u001b[0mwaitKey\u001b[0m\u001b[0;34m(\u001b[0m\u001b[0;36m1\u001b[0m\u001b[0;34m)\u001b[0m \u001b[0;34m&\u001b[0m \u001b[0;36m0xFF\u001b[0m\u001b[0;34m\u001b[0m\u001b[0m\n",
      "\u001b[0;31mIndexError\u001b[0m: list index out of range"
     ]
    }
   ],
   "source": [
    "from moviepy.editor import VideoFileClip\n",
    "import cv2\n",
    "import glob\n",
    "import numpy as np\n",
    "import matplotlib.pyplot as plt\n",
    "import matplotlib.image as mpimg\n",
    "\n",
    "def nothing(img):\n",
    "    pass\n",
    "\n",
    "\n",
    "#cv2.startWindowThread()\n",
    "cv2.namedWindow('image')\n",
    "\n",
    "test_paths = glob.glob('./test_images/*.jpg')\n",
    "#img = np.zeros((300,512,3), np.uint8)\n",
    "cv2.createTrackbar('Sobel kernel','image',1,3,nothing)\n",
    "cv2.createTrackbar('Image number','image',0,len(test_paths),nothing)\n",
    "\n",
    "\n",
    "while(1):\n",
    "    # get current positions of four trackbars\n",
    "    kernel_size = 1 + 2*cv2.getTrackbarPos('Sobel kernel','image')\n",
    "    img_id = cv2.getTrackbarPos('Image number','image')\n",
    "\n",
    "    img = mpimg.imread(test_paths[img_id])\n",
    "    #cv2.imshow('image',img)\n",
    "    k = cv2.waitKey(1) & 0xFF\n",
    "    if k == 27:\n",
    "        break\n",
    "    #cv2.imshow('image',img)\n",
    "    img_undist = cv2.undistort(img, cameraMatrix, distCoeffs)\n",
    "    img_hls = cv2.cvtColor(img_undist,cv2.COLOR_RGB2HLS)\n",
    "    img_sat = img_hls[:,:,2]\n",
    "    sobel_x = cv2.Sobel(img_sat,cv2.CV_64F,1,0,ksize=kernel_size)\n",
    "    sobel_y = cv2.Sobel(img_sat,cv2.CV_64F,0,1,ksize=kernel_size)\n",
    "    sobel_x = np.absolute(sobel_x)\n",
    "    sobel_y = np.absolute(sobel_y)\n",
    "    grad = np.sqrt(np.power(sobel_x,2)+np.power(sobel_y,2))\n",
    "    img_bin = np.asarray(255*grad/np.max(grad),dtype=np.uint8)\n",
    "    cv2.imshow('image',img_bin)"
   ]
  },
  {
   "cell_type": "code",
   "execution_count": null,
   "metadata": {
    "collapsed": false
   },
   "outputs": [],
   "source": [
    "from moviepy.editor import VideoFileClip\n",
    "import cv2\n",
    "import glob\n",
    "import numpy as np\n",
    "import matplotlib.pyplot as plt\n",
    "import matplotlib.image as mpimg\n",
    "\n",
    "def nothing(x):\n",
    "    pass\n",
    "\n",
    "# Create a black image, a window\n",
    "img = np.zeros((300,512,3), np.uint8)\n",
    "cv2.namedWindow('image')\n",
    "\n",
    "# create trackbars for color change\n",
    "cv2.createTrackbar('R','image',0,255,nothing)\n",
    "cv2.createTrackbar('G','image',0,255,nothing)\n",
    "cv2.createTrackbar('B','image',0,255,nothing)\n",
    "\n",
    "# create switch for ON/OFF functionality\n",
    "switch = '0 : OFF \\n1 : ON'\n",
    "cv2.createTrackbar(switch, 'image',0,1,nothing)\n",
    "\n",
    "while(1):\n",
    "    cv2.imshow('image',img)\n",
    "    k = cv2.waitKey(1) & 0xFF\n",
    "    if k == 27:\n",
    "        break\n",
    "\n",
    "    # get current positions of four trackbars\n",
    "    r = cv2.getTrackbarPos('R','image')\n",
    "    g = cv2.getTrackbarPos('G','image')\n",
    "    b = cv2.getTrackbarPos('B','image')\n",
    "    s = cv2.getTrackbarPos(switch,'image')\n",
    "\n",
    "    if s == 0:\n",
    "        img[:] = 0\n",
    "    else:\n",
    "        img[:] = [b,g,r]\n",
    "\n",
    "cv2.destroyAllWindows()"
   ]
  },
  {
   "cell_type": "code",
   "execution_count": null,
   "metadata": {
    "collapsed": false
   },
   "outputs": [],
   "source": [
    "test_paths = glob.glob('./test_images/*.jpg')\n",
    "cv2.startWindowThread()\n",
    "cv2.namedWindow('image')\n",
    "\n",
    "cv2.createTrackbar('Sobel kernel','image',0,3,nothing)\n",
    "\n",
    "for i, path in enumerate(test_paths):\n",
    "    img = mpimg.imread(path)\n",
    "    cv2.imshow('image',img)\n",
    "    img_undist = cv2.undistort(img, cameraMatrix, distCoeffs)\n",
    "    \n",
    "    img_hls = cv2.cvtColor(img_undist,cv2.COLOR_RGB2HLS)\n",
    "    img_sat = img_hls[:,:,2]\n",
    "    sobel_x = cv2.Sobel(img_sat,cv2.CV_64F,1,0,ksize=5)\n",
    "    sobel_y = cv2.Sobel(img_sat,cv2.CV_64F,0,1,ksize=5)\n",
    "    sobel_x = np.absolute(sobel_x)\n",
    "    sobel_y = np.absolute(sobel_y)\n",
    "    grad = np.sqrt(np.power(sobel_x,2)+np.power(sobel_y,2))\n",
    "    img_bin = np.asarray(255*grad/np.max(grad),dtype=np.uint8)\n",
    "    \n",
    "    plt.figure(i,figsize=(20,10))\n",
    "    plt.subplot(121)\n",
    "    plt.imshow(img_undist)\n",
    "    plt.subplot(122)\n",
    "    plt.imshow(img_bin, cmap='gray')"
   ]
  },
  {
   "cell_type": "code",
   "execution_count": null,
   "metadata": {
    "collapsed": true
   },
   "outputs": [],
   "source": []
  },
  {
   "cell_type": "code",
   "execution_count": null,
   "metadata": {
    "collapsed": false
   },
   "outputs": [],
   "source": [
    "test_paths = glob.glob('./test_images/*.jpg')\n",
    "\n",
    "for i, path in enumerate(test_paths):\n",
    "    img = mpimg.imread(path)\n",
    "    img_undist = cv2.undistort(img, cameraMatrix, distCoeffs)\n",
    "    #plt.figure(i,figsize=(20,10))\n",
    "    #plt.subplot(121)\n",
    "    #plt.imshow(img)\n",
    "    #plt.subplot(122)\n",
    "    #plt.imshow(img_undist)\n",
    "\n",
    "    img_draw = img.copy()\n",
    "    src = np.int32([[580,458],[700,458],[1032,671],[274,671]])\n",
    "    dst = np.int32([[274+50,0],[1032-50,0],[1032-50,img.shape[1]],[274+50,img.shape[1]]])\n",
    "    cv2.polylines(img_draw, [src], True, (0,255,0),5)\n",
    "    cv2.polylines(img_draw, [dst], True, (0,0,255),5)\n",
    "\n",
    "    M = cv2.getPerspectiveTransform(np.asarray(src,dtype=np.float32),np.asarray(dst,dtype=np.float32))\n",
    "    img_warp = cv2.warpPerspective(img_undist, M, (img.shape[1],img.shape[0]))\n",
    "\n",
    "    plt.figure(i,figsize=(20,10))\n",
    "    plt.subplot(121)\n",
    "    plt.imshow(img_draw)\n",
    "    plt.subplot(122)\n",
    "    plt.imshow(img_warp)"
   ]
  },
  {
   "cell_type": "code",
   "execution_count": null,
   "metadata": {
    "collapsed": false
   },
   "outputs": [],
   "source": []
  },
  {
   "cell_type": "code",
   "execution_count": null,
   "metadata": {
    "collapsed": true
   },
   "outputs": [],
   "source": []
  }
 ],
 "metadata": {
  "anaconda-cloud": {},
  "kernelspec": {
   "display_name": "Python [conda env:cv2]",
   "language": "python",
   "name": "conda-env-cv2-py"
  },
  "language_info": {
   "codemirror_mode": {
    "name": "ipython",
    "version": 3
   },
   "file_extension": ".py",
   "mimetype": "text/x-python",
   "name": "python",
   "nbconvert_exporter": "python",
   "pygments_lexer": "ipython3",
   "version": "3.5.2"
  },
  "widgets": {
   "state": {},
   "version": "1.1.2"
  }
 },
 "nbformat": 4,
 "nbformat_minor": 1
}
