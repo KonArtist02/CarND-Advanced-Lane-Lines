{
 "cells": [
  {
   "cell_type": "code",
   "execution_count": null,
   "metadata": {
    "collapsed": true,
    "deletable": true,
    "editable": true
   },
   "outputs": [],
   "source": [
    "from moviepy.editor import VideoFileClip\n",
    "import cv2\n",
    "import glob\n",
    "import numpy as np\n",
    "import matplotlib.pyplot as plt\n",
    "import matplotlib.image as mpimg\n",
    "%matplotlib inline"
   ]
  },
  {
   "cell_type": "code",
   "execution_count": null,
   "metadata": {
    "collapsed": false,
    "deletable": true,
    "editable": true,
    "scrolled": true
   },
   "outputs": [],
   "source": [
    "# Calibrating camera\n",
    "\n",
    "obj_points = []\n",
    "img_points = []\n",
    "\n",
    "nx = 9\n",
    "ny = 6\n",
    "\n",
    "cal_paths = glob.glob('./camera_cal/*.jpg')\n",
    "\n",
    "objp = np.zeros((nx*ny,3),np.float32)\n",
    "objp[:,:2] = np.mgrid[0:nx,0:ny].T.reshape(-1,2)\n",
    "\n",
    "for i, path in enumerate(cal_paths):\n",
    "    img = cv2.imread(path)\n",
    "    gray = cv2.cvtColor(img, cv2.COLOR_BGR2GRAY)\n",
    "    \n",
    "    ret, corners = cv2.findChessboardCorners(gray,(nx,ny))\n",
    "    if ret == True:\n",
    "        obj_points.append(objp)\n",
    "        img_points.append(corners)\n",
    "        #img = cv2.drawChessboardCorners(img, (nx,ny), corners, ret) \n",
    "        #plt.figure(i)\n",
    "        #plt.imshow(img)\n",
    "        \n",
    "retval, cameraMatrix, distCoeffs, rvecs, tvecs = cv2.calibrateCamera(obj_points, img_points, \n",
    "                                                                     gray.shape, None, None) \n",
    "print (cameraMatrix)\n",
    "print (distCoeffs)"
   ]
  },
  {
   "cell_type": "code",
   "execution_count": null,
   "metadata": {
    "collapsed": false,
    "deletable": true,
    "editable": true,
    "scrolled": false
   },
   "outputs": [],
   "source": [
    "def region_of_interest(img, vertices):\n",
    "    \"\"\"\n",
    "    Applies an image mask.\n",
    "    \n",
    "    Only keeps the region of the image defined by the polygon\n",
    "    formed from `vertices`. The rest of the image is set to black.\n",
    "    \"\"\"\n",
    "    #defining a blank mask to start with\n",
    "    mask = np.zeros_like(img)   \n",
    "    \n",
    "    #defining a 3 channel or 1 channel color to fill the mask with depending on the input image\n",
    "    if len(img.shape) > 2:\n",
    "        channel_count = img.shape[2]  # i.e. 3 or 4 depending on your image\n",
    "        ignore_mask_color = (255,) * channel_count\n",
    "    else:\n",
    "        ignore_mask_color = 255\n",
    "        \n",
    "    #filling pixels inside the polygon defined by \"vertices\" with the fill color    \n",
    "    cv2.fillPoly(mask, vertices, ignore_mask_color)\n",
    "    \n",
    "    #returning the image only where mask pixels are nonzero\n",
    "    masked_image = cv2.bitwise_and(img, mask)\n",
    "    return masked_image\n",
    "\n",
    "test_paths = glob.glob('./test_images/*.jpg')\n",
    "\n",
    "for i, path in enumerate(test_paths):\n",
    "    img = mpimg.imread(path)\n",
    "    img_undist = cv2.undistort(img, cameraMatrix, distCoeffs)\n",
    "    #plt.figure(i,figsize=(20,10))\n",
    "    #plt.subplot(121)\n",
    "    #plt.imshow(img)\n",
    "    #plt.subplot(122)\n",
    "    #plt.imshow(img_undist)\n",
    "    vertices = np.array([[(590,438),(img.shape[1]-590,438),(img.shape[1]-200,671),(200,671)]], dtype=np.int32)\n",
    "    img_undist = region_of_interest(img_undist, vertices)\n",
    "    \n",
    "    img_draw = img_undist.copy()\n",
    "    src = np.int32([[610,438],[670,438],[1039,671],[285,671]])\n",
    "    dst = np.int32([[274+50,0],[1032-50,0],[1032-50,img.shape[0]],[274+50,img.shape[0]]])\n",
    "    cv2.polylines(img_draw, [src], True, (0,255,0),2)\n",
    "    cv2.polylines(img_draw, [dst], True, (0,0,255),5)\n",
    "\n",
    "    M = cv2.getPerspectiveTransform(np.asarray(src,dtype=np.float32),np.asarray(dst,dtype=np.float32))\n",
    "    img_warp = cv2.warpPerspective(img_undist, M, (img.shape[1],img.shape[0]))\n",
    "\n",
    "    plt.figure(i,figsize=(20,10))\n",
    "    plt.subplot(121)\n",
    "    plt.imshow(img_draw)\n",
    "    plt.subplot(122)\n",
    "    plt.imshow(img_warp)"
   ]
  },
  {
   "cell_type": "code",
   "execution_count": null,
   "metadata": {
    "collapsed": false,
    "deletable": true,
    "editable": true,
    "scrolled": true
   },
   "outputs": [],
   "source": [
    "from moviepy.editor import VideoFileClip\n",
    "import cv2\n",
    "import glob\n",
    "import numpy as np\n",
    "import matplotlib.pyplot as plt\n",
    "import matplotlib.image as mpimg\n",
    "\n",
    "def nothing(img):\n",
    "    pass\n",
    "\n",
    "cameraMatrix = np.array([[  1.15396100e+03,   0.00000000e+00,   6.69706490e+02],\n",
    " [  0.00000000e+00,   1.14802504e+03,   3.85655584e+02],\n",
    " [  0.00000000e+00,   0.00000000e+00,   1.00000000e+00]])\n",
    "\n",
    "distCoeffs = np.array([[ -2.41018756e-01,  -5.30666106e-02,  -1.15811356e-03,  -1.28285248e-04,\n",
    "    2.67027151e-02]])\n",
    "\n",
    "#cv2.startWindowThread()\n",
    "cv2.namedWindow('trackbar')\n",
    "cv2.namedWindow('original')\n",
    "cv2.namedWindow('blur')\n",
    "cv2.namedWindow('edge')\n",
    "cv2.namedWindow('warp')\n",
    "\n",
    "test_paths = glob.glob('./test_images/*.jpg')\n",
    "#img = np.zeros((300,512,3), np.uint8)\n",
    "cv2.createTrackbar('Blur kernel','trackbar',1,5,nothing)\n",
    "cv2.createTrackbar('Edge detection method','trackbar',0,2,nothing)\n",
    "cv2.createTrackbar('Edge filter kernel','trackbar',1,5,nothing)\n",
    "cv2.createTrackbar('Image number','trackbar',0,len(test_paths)-1,nothing)\n",
    "cv2.createTrackbar('Color space','trackbar',0,1,nothing)\n",
    "cv2.createTrackbar('Color channel','trackbar',2,2,nothing)\n",
    "\n",
    "cv2.createTrackbar('Gradient high threshold','trackbar',255,400,nothing)\n",
    "cv2.createTrackbar('Gradient low threshold','trackbar',20,400,nothing)\n",
    "\n",
    "\n",
    "\n",
    "# Set initial parameters\n",
    "cv2.setTrackbarPos('Edge filter kernel','trackbar',2)\n",
    "cv2.setTrackbarPos('Color channel','trackbar',2)\n",
    "cv2.setTrackbarPos('Gradient high threshold','trackbar',255)\n",
    "cv2.setTrackbarPos('Gradient low threshold','trackbar',20)\n",
    "\n",
    "HLS = 0\n",
    "HSV = 1\n",
    "SOBEL = 0\n",
    "LAPLACE = 1\n",
    "CANNY = 2\n",
    "\n",
    "while(1):\n",
    "    # get current positions of four trackbars\n",
    "    kernel_size_blur = 3 + 2*cv2.getTrackbarPos('Blur kernel','trackbar')\n",
    "    edge_method = cv2.getTrackbarPos('Edge detection method','trackbar')\n",
    "    kernel_size_edge = 3 + 2*cv2.getTrackbarPos('Edge filter kernel','trackbar')\n",
    "    img_id = cv2.getTrackbarPos('Image number','trackbar')\n",
    "    color_space = cv2.getTrackbarPos('Color space','trackbar')\n",
    "    channel = cv2.getTrackbarPos('Color channel','trackbar')\n",
    "    high_thresh = cv2.getTrackbarPos('Gradient high threshold','trackbar')\n",
    "    low_thresh = cv2.getTrackbarPos('Gradient low threshold','trackbar')\n",
    "\n",
    "    img_origin = cv2.imread(test_paths[img_id])\n",
    "    k = cv2.waitKey(1) & 0xFF\n",
    "    if k == 27:\n",
    "        break\n",
    "\n",
    "    img_undist = cv2.undistort(img_origin, cameraMatrix, distCoeffs)\n",
    "    #img_undist = img_undist[400:img_undist.shape[0],:,:] # Cropping\n",
    "\n",
    "    img_blur = cv2.GaussianBlur(img_undist, (kernel_size_blur,kernel_size_blur), 0)\n",
    "\n",
    "    # Color space conversion\n",
    "    if (color_space == HLS):\n",
    "        img_cvtColor = cv2.cvtColor(img_blur,cv2.COLOR_BGR2HLS)\n",
    "    elif (color_space == HSV):\n",
    "        img_cvtColor = cv2.cvtColor(img_blur,cv2.COLOR_BGR2HSV)\n",
    "    \n",
    "    img_channel = img_cvtColor[:,:,channel]\n",
    "    img_bin = np.zeros_like(img_channel)\n",
    "\n",
    "    if (edge_method == SOBEL):\n",
    "        sobel_x = cv2.Sobel(img_channel,cv2.CV_64F,1,0,ksize=kernel_size_edge)\n",
    "        sobel_y = cv2.Sobel(img_channel,cv2.CV_64F,0,1,ksize=kernel_size_edge)\n",
    "        angle = np.arctan2(sobel_y,sobel_x)\n",
    "        sobel_x = np.absolute(sobel_x)\n",
    "        sobel_y = np.absolute(sobel_y)\n",
    "        img_edge = np.sqrt(np.power(sobel_x,2)+np.power(sobel_y,2))\n",
    "        #img_bin = np.zeros_like(img_edge)\n",
    "        #img_bin[(img_edge > low_thresh) & (img_edge < high_thresh)] = 255\n",
    "    elif (edge_method == LAPLACE):\n",
    "        img_edge = cv2.Laplacian(img_channel,cv2.CV_64F,ksize=kernel_size_edge)\n",
    "        #img_bin = img_edge\n",
    "        print ('min value of laplace',np.min(img_edge))\n",
    "    elif (edge_method == CANNY):\n",
    "        print(kernel_size_edge)\n",
    "        img_edge = cv2.Canny(img_channel,low_thresh, high_thresh, apertureSize=kernel_size_edge)\n",
    "        img_bin = img_edge\n",
    "\n",
    "    if ((edge_method == SOBEL) | (edge_method == LAPLACE)):\n",
    "        img_edge = np.asarray(255*img_edge/np.max(img_edge),dtype=np.uint8)\n",
    "        img_bin[(img_edge > low_thresh) & (img_edge < high_thresh)] = 255\n",
    "    \n",
    "\n",
    "    src = np.int32([[580,458],[700,458],[1039,671],[285,671]])\n",
    "    dst = np.int32([[274+100,0],[1032-100,0],[1032-100,img_origin.shape[0]],[274+100,img_origin.shape[0]]])\n",
    "    M = cv2.getPerspectiveTransform(np.asarray(src,dtype=np.float32),np.asarray(dst,dtype=np.float32))\n",
    "    img_warp = cv2.warpPerspective(img_bin, M, (img_origin.shape[1],img_origin.shape[0]))\n",
    "    \n",
    "\n",
    "    # Resize images\n",
    "    img_undist = cv2.resize(img_undist,(0,0), fx=0.5,fy=0.5) \n",
    "    img_blur = cv2.resize(img_blur,(0,0), fx=0.5,fy=0.5)\n",
    "    img_bin = cv2.resize(img_bin,(0,0), fx=0.5,fy=0.5)\n",
    "    img_warp = cv2.resize(img_warp,(0,0), fx=0.5,fy=0.5)\n",
    "\n",
    "    \n",
    "    cv2.imshow('original', img_undist)\n",
    "    cv2.imshow('blur', img_blur)\n",
    "    cv2.imshow('edge', img_bin)\n",
    "    cv2.imshow('warp', img_warp)\n",
    "\n",
    "cv2.destroyAllWindows()"
   ]
  },
  {
   "cell_type": "code",
   "execution_count": null,
   "metadata": {
    "collapsed": false,
    "deletable": true,
    "editable": true,
    "scrolled": false
   },
   "outputs": [],
   "source": [
    "test_paths = glob.glob('./test_images/*.jpg')\n",
    "\n",
    "kernel_size=3\n",
    "low_thresh = 20\n",
    "high_thresh = 255\n",
    "\n",
    "for i, path in enumerate(test_paths):\n",
    "    img = mpimg.imread(path)\n",
    "    \n",
    "    img_undist = cv2.undistort(img, cameraMatrix, distCoeffs)\n",
    "    #img_undist = img_undist[400:img_undist.shape[0],:,:]\n",
    "    img_hls = cv2.cvtColor(img_undist,cv2.COLOR_RGB2HLS)\n",
    "    img_sat = img_hls[:,:,2]\n",
    "    sobel_x = cv2.Sobel(img_sat,cv2.CV_64F,1,0,ksize=kernel_size)\n",
    "    sobel_y = cv2.Sobel(img_sat,cv2.CV_64F,0,1,ksize=kernel_size)\n",
    "    #angle = np.arctan2(sobel_y,sobel_x)\n",
    "    sobel_x = np.absolute(sobel_x)\n",
    "    sobel_y = np.absolute(sobel_y)\n",
    "    grad = np.sqrt(np.power(sobel_x,2)+np.power(sobel_y,2))\n",
    "    img_bin = np.asarray(255*grad/np.max(grad),dtype=np.uint8)\n",
    "    img_out = np.zeros_like(img_bin)\n",
    "    img_out[(img_bin > low_thresh) & (img_bin < high_thresh)] = 255\n",
    "\n",
    "    img_draw = img.copy()\n",
    "    src = np.int32([[580,458],[700,458],[1039,671],[285,671]])\n",
    "    dst = np.int32([[274+100,0],[1032-100,0],[1032-100,img.shape[0]],[274+100,img.shape[0]]])\n",
    "    cv2.polylines(img_draw, [src], True, (0,255,0),5)\n",
    "    cv2.polylines(img_draw, [dst], True, (0,0,255),5)\n",
    "    M = cv2.getPerspectiveTransform(np.asarray(src,dtype=np.float32),np.asarray(dst,dtype=np.float32))\n",
    "    img_warp = cv2.warpPerspective(img_out, M, (img.shape[1],img.shape[0]))\n",
    "\n",
    "    plt.figure(i,figsize=(20,10))\n",
    "    plt.subplot(131)\n",
    "    plt.imshow(img_draw)\n",
    "    plt.subplot(133)\n",
    "    plt.imshow(img_warp, cmap='gray')\n",
    "    plt.subplot(132)\n",
    "    plt.imshow(img_out, cmap='gray')"
   ]
  },
  {
   "cell_type": "markdown",
   "metadata": {
    "deletable": true,
    "editable": true
   },
   "source": [
    "#### To-do\n",
    "- threshold fo color channels"
   ]
  },
  {
   "cell_type": "code",
   "execution_count": 1,
   "metadata": {
    "collapsed": false,
    "deletable": true,
    "editable": true,
    "scrolled": false
   },
   "outputs": [
    {
     "data": {
      "text/plain": [
       "<matplotlib.image.AxesImage at 0x7f1e78948e80>"
      ]
     },
     "execution_count": 1,
     "metadata": {},
     "output_type": "execute_result"
    },
    {
     "data": {
      "image/png": "[encoded data removed]",
      "text/plain": [
       "<matplotlib.figure.Figure at 0x7f1ec46946d8>"
      ]
     },
     "metadata": {},
     "output_type": "display_data"
    },
    {
     "data": {
      "image/png": "[encoded data removed]",
      "text/plain": [
       "<matplotlib.figure.Figure at 0x7f1e789a7d68>"
      ]
     },
     "metadata": {},
     "output_type": "display_data"
    }
   ],
   "source": [
    "from moviepy.editor import VideoFileClip\n",
    "import cv2\n",
    "import glob\n",
    "import numpy as np\n",
    "import matplotlib.pyplot as plt\n",
    "import matplotlib.image as mpimg\n",
    "%matplotlib inline\n",
    "\n",
    "def region_of_interest(img, vertices):\n",
    "    \"\"\"\n",
    "    Applies an image mask.\n",
    "    \n",
    "    Only keeps the region of the image defined by the polygon\n",
    "    formed from `vertices`. The rest of the image is set to black.\n",
    "    \"\"\"\n",
    "    #defining a blank mask to start with\n",
    "    mask = np.zeros_like(img)   \n",
    "    \n",
    "    #defining a 3 channel or 1 channel color to fill the mask with depending on the input image\n",
    "    if len(img.shape) > 2:\n",
    "        channel_count = img.shape[2]  # i.e. 3 or 4 depending on your image\n",
    "        ignore_mask_color = (255,) * channel_count\n",
    "    else:\n",
    "        ignore_mask_color = 255\n",
    "        \n",
    "    #filling pixels inside the polygon defined by \"vertices\" with the fill color    \n",
    "    cv2.fillPoly(mask, vertices, ignore_mask_color)\n",
    "    \n",
    "    #returning the image only where mask pixels are nonzero\n",
    "    masked_image = cv2.bitwise_and(img, mask)\n",
    "    return masked_image\n",
    "\n",
    "cameraMatrix = np.array([[  1.15396100e+03,   0.00000000e+00,   6.69706490e+02],\n",
    " [  0.00000000e+00,   1.14802504e+03,   3.85655584e+02],\n",
    " [  0.00000000e+00,   0.00000000e+00,   1.00000000e+00]])\n",
    "\n",
    "distCoeffs = np.array([[ -2.41018756e-01,  -5.30666106e-02,  -1.15811356e-03,  -1.28285248e-04,\n",
    "    2.67027151e-02]])\n",
    "\n",
    "img_origin = cv2.imread('./test_images/straight_lines2.jpg')\n",
    "\n",
    "img_undist = cv2.undistort(img_origin, cameraMatrix, distCoeffs)\n",
    "\n",
    "img_blur = cv2.GaussianBlur(img_undist, (3,3), 0)\n",
    "\n",
    "img_cvtColor = cv2.cvtColor(img_blur,cv2.COLOR_BGR2HLS)\n",
    "img_channel = img_cvtColor[:,:,2]\n",
    "img_bin = np.zeros_like(img_channel)\n",
    "\n",
    "sobel_x = cv2.Sobel(img_channel,cv2.CV_64F,1,0,ksize=5)\n",
    "#sobel_y = cv2.Sobel(img_channel,cv2.CV_64F,0,1,ksize=kernel_size_edge)\n",
    "\n",
    "sobel_x = np.absolute(sobel_x)\n",
    "#sobel_y = np.absolute(sobel_y)\n",
    "#img_edge = np.sqrt(np.power(sobel_x,2)+np.power(sobel_y,2))\n",
    "img_edge = sobel_x\n",
    "img_edge = np.asarray(255*img_edge/np.max(img_edge),dtype=np.uint8)\n",
    "img_bin[(img_edge > 8) & (img_edge <= 255)] = 255\n",
    "\n",
    "vertices = np.array([[(520,458),(img_origin.shape[1]-520,458),(img_origin.shape[1]-200,671),(200,671)]], dtype=np.int32)\n",
    "img_bin = region_of_interest(img_bin, vertices)\n",
    "\n",
    "src = np.int32([[580,458],[700,458],[1039,671],[285,671]])\n",
    "dst = np.int32([[274+100,0],[1032-100,0],[1032-100,img_origin.shape[0]],[274+100,img_origin.shape[0]]])\n",
    "M = cv2.getPerspectiveTransform(np.asarray(src,dtype=np.float32),np.asarray(dst,dtype=np.float32))\n",
    "img_warp = cv2.warpPerspective(img_bin, M, (img_origin.shape[1],img_origin.shape[0]))\n",
    "\n",
    "\n",
    "#plt.figure(figsize=(8,8))\n",
    "#plt.imshow(cv2.cvtColor(region_of_interest(img_origin, vertices),cv2.COLOR_BGR2RGB))\n",
    "\n",
    "#plt.figure(figsize=(8,8))\n",
    "#plt.imshow(img_bin,cmap='gray')\n",
    "\n",
    "#plt.figure(figsize=(8,8))\n",
    "#plt.imshow(img_warp,cmap='gray')\n",
    "\n",
    "# Resize images\n",
    "#img_undist = cv2.resize(img_undist,(0,0), fx=0.5,fy=0.5) \n",
    "#img_blur = cv2.resize(img_blur,(0,0), fx=0.5,fy=0.5)\n",
    "#img_bin = cv2.resize(img_bin,(0,0), fx=0.5,fy=0.5)\n",
    "#img_warp = cv2.resize(img_warp,(0,0), fx=0.5,fy=0.5)\n",
    "\n",
    "#plt.figure(figsize=(8,8))\n",
    "#histogram = np.sum(img_warp[img_warp.shape[0]/2:,:], axis=0)\n",
    "#plt.plot(histogram)\n",
    "\n",
    "binary_warped = img_warp\n",
    "\n",
    "# Assuming you have created a warped binary image called \"binary_warped\"\n",
    "# Take a histogram of the bottom half of the image\n",
    "histogram = np.sum(binary_warped[binary_warped.shape[0]/2:,:], axis=0)\n",
    "# Create an output image to draw on and  visualize the result\n",
    "img_poly = np.dstack((binary_warped, binary_warped, binary_warped))*255\n",
    "# Find the peak of the left and right halves of the histogram\n",
    "# These will be the starting point for the left and right lines\n",
    "midpoint = np.int(histogram.shape[0]/2)\n",
    "leftx_base = np.argmax(histogram[:midpoint])\n",
    "rightx_base = np.argmax(histogram[midpoint:]) + midpoint\n",
    "\n",
    "# Choose the number of sliding windows\n",
    "nwindows = 9\n",
    "# Set height of windows\n",
    "window_height = np.int(binary_warped.shape[0]/nwindows)\n",
    "# Identify the x and y positions of all nonzero pixels in the image\n",
    "nonzero = binary_warped.nonzero()\n",
    "nonzeroy = np.array(nonzero[0])\n",
    "nonzerox = np.array(nonzero[1])\n",
    "# Current positions to be updated for each window\n",
    "leftx_current = leftx_base\n",
    "rightx_current = rightx_base\n",
    "# Set the width of the windows +/- margin\n",
    "margin = 100\n",
    "# Set minimum number of pixels found to recenter window\n",
    "minpix = 50\n",
    "# Create empty lists to receive left and right lane pixel indices\n",
    "left_lane_inds = []\n",
    "right_lane_inds = []\n",
    "\n",
    "# Step through the windows one by one\n",
    "for window in range(nwindows):\n",
    "    # Identify window boundaries in x and y (and right and left)\n",
    "    win_y_low = binary_warped.shape[0] - (window+1)*window_height\n",
    "    win_y_high = binary_warped.shape[0] - window*window_height\n",
    "    win_xleft_low = leftx_current - margin\n",
    "    win_xleft_high = leftx_current + margin\n",
    "    win_xright_low = rightx_current - margin\n",
    "    win_xright_high = rightx_current + margin\n",
    "    # Draw the windows on the visualization image\n",
    "    cv2.rectangle(img_poly,(win_xleft_low,win_y_low),(win_xleft_high,win_y_high),(0,255,0), 2) \n",
    "    cv2.rectangle(img_poly,(win_xright_low,win_y_low),(win_xright_high,win_y_high),(0,255,0), 2) \n",
    "    # Identify the nonzero pixels in x and y within the window\n",
    "    good_left_inds = ((nonzeroy >= win_y_low) & (nonzeroy < win_y_high) & (nonzerox >= win_xleft_low) & (nonzerox < win_xleft_high)).nonzero()[0]\n",
    "    good_right_inds = ((nonzeroy >= win_y_low) & (nonzeroy < win_y_high) & (nonzerox >= win_xright_low) & (nonzerox < win_xright_high)).nonzero()[0]\n",
    "    # Append these indices to the lists\n",
    "    left_lane_inds.append(good_left_inds)\n",
    "    right_lane_inds.append(good_right_inds)\n",
    "    # If you found > minpix pixels, recenter next window on their mean position\n",
    "    if len(good_left_inds) > minpix:\n",
    "        leftx_current = np.int(np.mean(nonzerox[good_left_inds]))\n",
    "    if len(good_right_inds) > minpix:        \n",
    "        rightx_current = np.int(np.mean(nonzerox[good_right_inds]))\n",
    "\n",
    "# Concatenate the arrays of indices\n",
    "left_lane_inds = np.concatenate(left_lane_inds)\n",
    "right_lane_inds = np.concatenate(right_lane_inds)\n",
    "\n",
    "\n",
    "\n",
    "# Extract left and right line pixel positions\n",
    "leftx = nonzerox[left_lane_inds]\n",
    "lefty = nonzeroy[left_lane_inds] \n",
    "rightx = nonzerox[right_lane_inds]\n",
    "righty = nonzeroy[right_lane_inds] \n",
    "\n",
    "# Fit a second order polynomial to each\n",
    "left_fit = np.polyfit(lefty, leftx, 2)\n",
    "right_fit = np.polyfit(righty, rightx, 2)\n",
    "\n",
    "\n",
    "# Generate x and y values for plotting\n",
    "ploty = np.linspace(0, binary_warped.shape[0]-1, binary_warped.shape[0] )\n",
    "left_fitx = left_fit[0]*ploty**2 + left_fit[1]*ploty + left_fit[2]\n",
    "right_fitx = right_fit[0]*ploty**2 + right_fit[1]*ploty + right_fit[2]\n",
    "\n",
    "poly_draw_left = np.dstack((left_fitx,ploty))\n",
    "poly_draw_left = np.asarray(poly_draw_left, dtype=np.int32)\n",
    "poly_draw_right = np.dstack((right_fitx,ploty))\n",
    "poly_draw_right = np.asarray(poly_draw_right, dtype=np.int32)\n",
    "\n",
    "img_poly[nonzeroy[left_lane_inds], nonzerox[left_lane_inds]] = [255, 0, 0]\n",
    "img_poly[nonzeroy[right_lane_inds], nonzerox[right_lane_inds]] = [0, 0, 255]\n",
    "\n",
    "cv2.polylines(img_poly, poly_draw_left, False, (255,255,0),thickness=5)\n",
    "cv2.polylines(img_poly, poly_draw_right, False, (255,255,0),thickness=5)\n",
    "\n",
    "plt.figure(figsize=(15,15))\n",
    "plt.imshow(img_poly)\n",
    "\n",
    "\n",
    "plt.figure(figsize=(15,15))\n",
    "\n",
    "M = cv2.getPerspectiveTransform(np.asarray(dst,dtype=np.float32),np.asarray(src,dtype=np.float32))\n",
    "img_warp = cv2.warpPerspective(img_poly, M, (img_origin.shape[1],img_origin.shape[0]))\n",
    "\n",
    "\n",
    "img_origin = cv2.cvtColor(img_origin,cv2.COLOR_RGB2BGR)\n",
    "img_out = cv2.bitwise_or(img_origin,img_warp)\n",
    "\n",
    "plt.imshow(img_out)\n"
   ]
  },
  {
   "cell_type": "code",
   "execution_count": 34,
   "metadata": {
    "collapsed": false
   },
   "outputs": [],
   "source": [
    "def region_of_interest(img, vertices):\n",
    "    \"\"\"\n",
    "    Applies an image mask.\n",
    "    \n",
    "    Only keeps the region of the image defined by the polygon\n",
    "    formed from `vertices`. The rest of the image is set to black.\n",
    "    \"\"\"\n",
    "    #defining a blank mask to start with\n",
    "    mask = np.zeros_like(img)   \n",
    "    \n",
    "    #defining a 3 channel or 1 channel color to fill the mask with depending on the input image\n",
    "    if len(img.shape) > 2:\n",
    "        channel_count = img.shape[2]  # i.e. 3 or 4 depending on your image\n",
    "        ignore_mask_color = (255,) * channel_count\n",
    "    else:\n",
    "        ignore_mask_color = 255\n",
    "        \n",
    "    #filling pixels inside the polygon defined by \"vertices\" with the fill color    \n",
    "    cv2.fillPoly(mask, vertices, ignore_mask_color)\n",
    "    \n",
    "    #returning the image only where mask pixels are nonzero\n",
    "    masked_image = cv2.bitwise_and(img, mask)\n",
    "    return masked_image\n",
    "\n",
    "lane_found = False\n",
    "left_fit = []\n",
    "right_fit = []\n",
    "\n",
    "def find_lane(img_origin):\n",
    "    \n",
    "    global lane_found, left_fit, right_fit\n",
    "    \n",
    "    cameraMatrix = np.array([[  1.15396100e+03,   0.00000000e+00,   6.69706490e+02],\n",
    "         [  0.00000000e+00,   1.14802504e+03,   3.85655584e+02],\n",
    "         [  0.00000000e+00,   0.00000000e+00,   1.00000000e+00]])\n",
    "\n",
    "    distCoeffs = np.array([[ -2.41018756e-01,  -5.30666106e-02,  -1.15811356e-03,  -1.28285248e-04,\n",
    "            2.67027151e-02]])\n",
    "    \n",
    "    img_undist = cv2.undistort(img_origin, cameraMatrix, distCoeffs)\n",
    "\n",
    "    img_blur = cv2.GaussianBlur(img_undist, (3,3), 0)\n",
    "\n",
    "    img_cvtColor = cv2.cvtColor(img_blur,cv2.COLOR_BGR2HLS)\n",
    "    img_channel = img_cvtColor[:,:,2]\n",
    "    img_bin = np.zeros_like(img_channel)\n",
    "\n",
    "    sobel_x = cv2.Sobel(img_channel,cv2.CV_64F,1,0,ksize=5)\n",
    "    #sobel_y = cv2.Sobel(img_channel,cv2.CV_64F,0,1,ksize=kernel_size_edge)\n",
    "\n",
    "    sobel_x = np.absolute(sobel_x)\n",
    "    #sobel_y = np.absolute(sobel_y)\n",
    "    #img_edge = np.sqrt(np.power(sobel_x,2)+np.power(sobel_y,2))\n",
    "    img_edge = sobel_x\n",
    "    img_edge = np.asarray(255*img_edge/np.max(img_edge),dtype=np.uint8)\n",
    "    img_bin[(img_edge > 10) & (img_edge <= 255)] = 255\n",
    "    \n",
    "    #vertices = np.array([[(590,438),(img.shape[1]-590,438),(img.shape[1]-200,671),(200,671)]], dtype=np.int32)\n",
    "    #img_undist = region_of_interest(img_undist, vertices)\n",
    "    \n",
    "    #img_draw = img_undist.copy()\n",
    "    #src = np.int32([[610,438],[670,438],[1039,671],[285,671]])\n",
    "    #dst = np.int32([[274+50,0],[1032-50,0],[1032-50,img.shape[1]],[274+50,img.shape[1]]])\n",
    "    \n",
    "    \n",
    "    vertices = np.array([[(520,458),(img_origin.shape[1]-520,458),(img_origin.shape[1]-200,671),(200,671)]], dtype=np.int32)\n",
    "    #vertices = np.array([[(590,438),(img_origin.shape[1]-590,438),(img_origin.shape[1]-200,671),(200,671)]], dtype=np.int32)\n",
    "    img_bin = region_of_interest(img_bin, vertices)\n",
    "\n",
    "    src = np.int32([[580,458],[700,458],[1039,671],[285,671]])\n",
    "    dst = np.int32([[274+100,0],[1032-100,0],[1032-100,img_origin.shape[0]],[274+100,img_origin.shape[0]]])\n",
    "    #src = np.int32([[610,438],[670,438],[1039,671],[285,671]])\n",
    "    #dst = np.int32([[274+50,0],[1032-50,0],[1032-50,img_origin.shape[0]],[274+50,img_origin.shape[0]]])\n",
    "    M = cv2.getPerspectiveTransform(np.asarray(src,dtype=np.float32),np.asarray(dst,dtype=np.float32))\n",
    "    binary_warped = cv2.warpPerspective(img_bin, M, (img_origin.shape[1],img_origin.shape[0]))\n",
    "\n",
    "    \n",
    "    img_poly = np.dstack((binary_warped, binary_warped, binary_warped))*255\n",
    "    if (lane_found == False):\n",
    "        # Assuming you have created a warped binary image called \"binary_warped\"\n",
    "        # Take a histogram of the bottom half of the image\n",
    "        histogram = np.sum(binary_warped[binary_warped.shape[0]/2:,:], axis=0)\n",
    "        # Create an output image to draw on and  visualize the result\n",
    "        img_poly = np.dstack((binary_warped, binary_warped, binary_warped))*255\n",
    "        # Find the peak of the left and right halves of the histogram\n",
    "        # These will be the starting point for the left and right lines\n",
    "        midpoint = np.int(histogram.shape[0]/2)\n",
    "        leftx_base = np.argmax(histogram[:midpoint])\n",
    "        rightx_base = np.argmax(histogram[midpoint:]) + midpoint\n",
    "\n",
    "        # Choose the number of sliding windows\n",
    "        nwindows = 9\n",
    "        # Set height of windows\n",
    "        window_height = np.int(binary_warped.shape[0]/nwindows)\n",
    "        # Identify the x and y positions of all nonzero pixels in the image\n",
    "        nonzero = binary_warped.nonzero()\n",
    "        nonzeroy = np.array(nonzero[0])\n",
    "        nonzerox = np.array(nonzero[1])\n",
    "        # Current positions to be updated for each window\n",
    "        leftx_current = leftx_base\n",
    "        rightx_current = rightx_base\n",
    "        # Set the width of the windows +/- margin\n",
    "        margin = 100\n",
    "        # Set minimum number of pixels found to recenter window\n",
    "        minpix = 50\n",
    "        # Create empty lists to receive left and right lane pixel indices\n",
    "        left_lane_inds = []\n",
    "        right_lane_inds = []\n",
    "\n",
    "        # Step through the windows one by one\n",
    "        for window in range(nwindows):\n",
    "            # Identify window boundaries in x and y (and right and left)\n",
    "            win_y_low = binary_warped.shape[0] - (window+1)*window_height\n",
    "            win_y_high = binary_warped.shape[0] - window*window_height\n",
    "            win_xleft_low = leftx_current - margin\n",
    "            win_xleft_high = leftx_current + margin\n",
    "            win_xright_low = rightx_current - margin\n",
    "            win_xright_high = rightx_current + margin\n",
    "            # Draw the windows on the visualization image\n",
    "            cv2.rectangle(img_poly,(win_xleft_low,win_y_low),(win_xleft_high,win_y_high),(0,255,0), 2) \n",
    "            cv2.rectangle(img_poly,(win_xright_low,win_y_low),(win_xright_high,win_y_high),(0,255,0), 2) \n",
    "            # Identify the nonzero pixels in x and y within the window\n",
    "            good_left_inds = ((nonzeroy >= win_y_low) & (nonzeroy < win_y_high) & (nonzerox >= win_xleft_low) & (nonzerox < win_xleft_high)).nonzero()[0]\n",
    "            good_right_inds = ((nonzeroy >= win_y_low) & (nonzeroy < win_y_high) & (nonzerox >= win_xright_low) & (nonzerox < win_xright_high)).nonzero()[0]\n",
    "            # Append these indices to the lists\n",
    "            left_lane_inds.append(good_left_inds)\n",
    "            right_lane_inds.append(good_right_inds)\n",
    "            # If you found > minpix pixels, recenter next window on their mean position\n",
    "            if len(good_left_inds) > minpix:\n",
    "                leftx_current = np.int(np.mean(nonzerox[good_left_inds]))\n",
    "            if len(good_right_inds) > minpix:        \n",
    "                rightx_current = np.int(np.mean(nonzerox[good_right_inds]))\n",
    "\n",
    "        # Concatenate the arrays of indices\n",
    "        left_lane_inds = np.concatenate(left_lane_inds)\n",
    "        right_lane_inds = np.concatenate(right_lane_inds)\n",
    "        lane_found = True\n",
    "        \n",
    "    elif (lane_found == True):\n",
    "        nonzero = binary_warped.nonzero()\n",
    "        nonzeroy = np.array(nonzero[0])\n",
    "        nonzerox = np.array(nonzero[1])\n",
    "        margin = 100\n",
    "        left_lane_inds = ((nonzerox > (left_fit[0]*(nonzeroy**2) + left_fit[1]*nonzeroy + left_fit[2] - margin)) & (nonzerox < (left_fit[0]*(nonzeroy**2) + left_fit[1]*nonzeroy + left_fit[2] + margin))) \n",
    "        right_lane_inds = ((nonzerox > (right_fit[0]*(nonzeroy**2) + right_fit[1]*nonzeroy + right_fit[2] - margin)) & (nonzerox < (right_fit[0]*(nonzeroy**2) + right_fit[1]*nonzeroy + right_fit[2] + margin)))  \n",
    "        \n",
    "    # Extract left and right line pixel positions\n",
    "    leftx = nonzerox[left_lane_inds]\n",
    "    lefty = nonzeroy[left_lane_inds] \n",
    "    rightx = nonzerox[right_lane_inds]\n",
    "    righty = nonzeroy[right_lane_inds]   \n",
    "\n",
    "    if ((len(lefty) >= 3) & (len(righty) >=3) ):\n",
    "        lane_found = True\n",
    "    else:\n",
    "        lane_found = False\n",
    "        \n",
    "    if (lane_found == True):\n",
    "        # Fit a second order polynomial to each\n",
    "        left_fit = np.polyfit(lefty, leftx, 2)\n",
    "        right_fit = np.polyfit(righty, rightx, 2)\n",
    "        print (len(left_fit))\n",
    "        print (right_fit)\n",
    "        print (left_fit-right_fit)\n",
    "        print (np.sum(np.absolute(left_fit-right_fit)))\n",
    "\n",
    "        # Generate x and y values for plotting\n",
    "        ploty = np.linspace(0, binary_warped.shape[0]-1, binary_warped.shape[0] )\n",
    "        left_fitx = left_fit[0]*ploty**2 + left_fit[1]*ploty + left_fit[2]\n",
    "        right_fitx = right_fit[0]*ploty**2 + right_fit[1]*ploty + right_fit[2]\n",
    "        \n",
    "        poly_draw_left = np.dstack((left_fitx,ploty))\n",
    "        poly_draw_left = np.asarray(poly_draw_left, dtype=np.int32)\n",
    "        poly_draw_right = np.dstack((right_fitx,ploty))\n",
    "        poly_draw_right = np.asarray(poly_draw_right, dtype=np.int32)\n",
    "\n",
    "        img_poly[nonzeroy[left_lane_inds], nonzerox[left_lane_inds]] = [255, 0, 0]\n",
    "        img_poly[nonzeroy[right_lane_inds], nonzerox[right_lane_inds]] = [255, 0, 0]\n",
    "\n",
    "        cv2.polylines(img_poly, poly_draw_left, False, (255,255,0),thickness=5)\n",
    "        cv2.polylines(img_poly, poly_draw_right, False, (255,255,0),thickness=5)\n",
    "\n",
    "        M = cv2.getPerspectiveTransform(np.asarray(dst,dtype=np.float32),np.asarray(src,dtype=np.float32))\n",
    "        img_warp = cv2.warpPerspective(img_poly, M, (img_origin.shape[1],img_origin.shape[0]))\n",
    "        \n",
    "        #img_origin = cv2.cvtColor(img_origin,cv2.COLOR_RGB2BGR)\n",
    "        img_out = cv2.bitwise_or(img_origin,img_warp)\n",
    "        \n",
    "        y_eval = 550\n",
    "        # Define conversions in x and y from pixels space to meters\n",
    "        ym_per_pix = 30/720 # meters per pixel in y dimension\n",
    "        xm_per_pix = 3.7/700 # meters per pixel in x dimension\n",
    "\n",
    "        # Fit new polynomials to x,y in world space\n",
    "        left_fit_cr = np.polyfit(lefty*ym_per_pix, leftx*xm_per_pix, 2)\n",
    "        right_fit_cr = np.polyfit(righty*ym_per_pix, rightx*xm_per_pix, 2)\n",
    "        # Calculate the new radii of curvature\n",
    "        left_curverad = ((1 + (2*left_fit_cr[0]*y_eval*ym_per_pix + left_fit_cr[1])**2)**1.5) / np.absolute(2*left_fit_cr[0])\n",
    "        right_curverad = ((1 + (2*right_fit_cr[0]*y_eval*ym_per_pix + right_fit_cr[1])**2)**1.5) / np.absolute(2*right_fit_cr[0])\n",
    "        cv2.putText(img_out, 'Curvature' + str(left_curverad), (50,200), cv2.FONT_HERSHEY_SIMPLEX, 1, (255,255,255))\n",
    "        \n",
    "\n",
    "        return img_out\n",
    "    \n",
    "    elif (lane_found == False):\n",
    "        return img_origin\n"
   ]
  },
  {
   "cell_type": "code",
   "execution_count": null,
   "metadata": {
    "collapsed": false,
    "deletable": true,
    "editable": true
   },
   "outputs": [
    {
     "name": "stdout",
     "output_type": "stream",
     "text": [
      "3\n",
      "[  1.26445318e-05   1.18907778e-01   9.01387546e+02]\n",
      "[ -2.18904199e-04   1.34608070e-01  -5.61746053e+02]\n",
      "561.880879525\n",
      "[MoviePy] >>>> Building video lane_detection.mp4\n",
      "[MoviePy] Writing video lane_detection.mp4\n"
     ]
    },
    {
     "name": "stderr",
     "output_type": "stream",
     "text": [
      "\n",
      "\n",
      "\n",
      "\n",
      "\n",
      "\n",
      "\n",
      "  0%|          | 0/1261 [00:00<?, ?it/s]\u001b[A\u001b[A\u001b[A\u001b[A\u001b[A\u001b[A\u001b[A\n",
      "\n",
      "\n",
      "\n",
      "\n",
      "\n",
      "\n",
      "  0%|          | 1/1261 [00:00<02:44,  7.68it/s]"
     ]
    },
    {
     "name": "stdout",
     "output_type": "stream",
     "text": [
      "3\n",
      "[  1.26445318e-05   1.18907778e-01   9.01387546e+02]\n",
      "[ -2.18904199e-04   1.34608070e-01  -5.61746053e+02]\n",
      "561.880879525\n"
     ]
    },
    {
     "name": "stderr",
     "output_type": "stream",
     "text": [
      "\u001b[A\u001b[A\u001b[A\u001b[A\u001b[A\u001b[A\u001b[A\n",
      "\n",
      "\n",
      "\n",
      "\n",
      "\n",
      "\n",
      "  0%|          | 2/1261 [00:00<02:57,  7.10it/s]"
     ]
    },
    {
     "name": "stdout",
     "output_type": "stream",
     "text": [
      "3\n",
      "[ -1.21666125e-04   2.35801175e-01   8.76807579e+02]\n",
      "[ -9.88836656e-05   3.00730493e-02  -5.38544788e+02]\n",
      "538.574959679\n"
     ]
    },
    {
     "name": "stderr",
     "output_type": "stream",
     "text": [
      "\u001b[A\u001b[A\u001b[A\u001b[A\u001b[A\u001b[A\u001b[A\n",
      "\n",
      "\n",
      "\n",
      "\n",
      "\n",
      "\n",
      "  0%|          | 3/1261 [00:00<02:55,  7.15it/s]"
     ]
    },
    {
     "name": "stdout",
     "output_type": "stream",
     "text": [
      "3\n",
      "[ -7.45511675e-05   1.88985330e-01   8.85050549e+02]\n",
      "[ -1.50711045e-04   8.35976220e-02  -5.48284812e+02]\n",
      "548.368559893\n"
     ]
    },
    {
     "name": "stderr",
     "output_type": "stream",
     "text": [
      "\u001b[A\u001b[A\u001b[A\u001b[A\u001b[A\u001b[A\u001b[A\n",
      "\n",
      "\n",
      "\n",
      "\n",
      "\n",
      "\n",
      "  0%|          | 4/1261 [00:00<02:58,  7.03it/s]"
     ]
    },
    {
     "name": "stdout",
     "output_type": "stream",
     "text": [
      "3\n",
      "[ -1.10284435e-04   2.24318728e-01   8.75536937e+02]\n",
      "[ -1.18794664e-04   5.30001867e-02  -5.39871087e+02]\n",
      "539.924206336\n"
     ]
    },
    {
     "name": "stderr",
     "output_type": "stream",
     "text": [
      "\u001b[A\u001b[A\u001b[A\u001b[A\u001b[A\u001b[A\u001b[A\n",
      "\n",
      "\n",
      "\n",
      "\n",
      "\n",
      "\n",
      "  0%|          | 5/1261 [00:00<02:55,  7.18it/s]"
     ]
    },
    {
     "name": "stdout",
     "output_type": "stream",
     "text": [
      "3\n",
      "[ -9.13118300e-05   1.99095921e-01   8.82315926e+02]\n",
      "[ -1.40064470e-04   8.20654499e-02  -5.47639777e+02]\n",
      "547.721982315\n"
     ]
    },
    {
     "name": "stderr",
     "output_type": "stream",
     "text": [
      "\u001b[A\u001b[A\u001b[A\u001b[A\u001b[A\u001b[A\u001b[A\n",
      "\n",
      "\n",
      "\n",
      "\n",
      "\n",
      "\n",
      "  0%|          | 6/1261 [00:00<02:55,  7.14it/s]"
     ]
    },
    {
     "name": "stdout",
     "output_type": "stream",
     "text": [
      "3\n",
      "[ -6.26732204e-05   1.59012758e-01   8.91609614e+02]\n",
      "[ -1.79548692e-04   1.37780594e-01  -5.61328032e+02]\n",
      "561.4659925\n"
     ]
    },
    {
     "name": "stderr",
     "output_type": "stream",
     "text": [
      "\u001b[A\u001b[A\u001b[A\u001b[A\u001b[A\u001b[A\u001b[A\n",
      "\n",
      "\n",
      "\n",
      "\n",
      "\n",
      "\n",
      "  1%|          | 7/1261 [00:00<02:55,  7.13it/s]"
     ]
    },
    {
     "name": "stdout",
     "output_type": "stream",
     "text": [
      "3\n",
      "[  7.33155011e-05   5.26667731e-02   9.14849859e+02]\n",
      "[ -2.92766929e-04   2.32087566e-01  -5.85362885e+02]\n",
      "585.595265665\n"
     ]
    },
    {
     "name": "stderr",
     "output_type": "stream",
     "text": [
      "\u001b[A\u001b[A\u001b[A\u001b[A\u001b[A\u001b[A\u001b[A\n",
      "\n",
      "\n",
      "\n",
      "\n",
      "\n",
      "\n",
      "  1%|          | 8/1261 [00:01<02:57,  7.05it/s]"
     ]
    },
    {
     "name": "stdout",
     "output_type": "stream",
     "text": [
      "3\n",
      "[ -1.15310469e-04   2.53799183e-01   8.60394605e+02]\n",
      "[ -1.02865825e-04   3.34825281e-02  -5.31317702e+02]\n",
      "531.351287079\n"
     ]
    },
    {
     "name": "stderr",
     "output_type": "stream",
     "text": [
      "\u001b[A\u001b[A\u001b[A\u001b[A\u001b[A\u001b[A\u001b[A\n",
      "\n",
      "\n",
      "\n",
      "\n",
      "\n",
      "\n",
      "  1%|          | 9/1261 [00:01<03:00,  6.94it/s]"
     ]
    },
    {
     "name": "stdout",
     "output_type": "stream",
     "text": [
      "3\n",
      "[ -8.94587417e-05   2.23917727e-01   8.70147998e+02]\n",
      "[ -1.07868090e-04   4.88018860e-02  -5.41092709e+02]\n",
      "541.141619248\n"
     ]
    },
    {
     "name": "stderr",
     "output_type": "stream",
     "text": [
      "\u001b[A\u001b[A\u001b[A\u001b[A\u001b[A\u001b[A\u001b[A\n",
      "\n",
      "\n",
      "\n",
      "\n",
      "\n",
      "\n",
      "  1%|          | 10/1261 [00:01<03:01,  6.88it/s]"
     ]
    },
    {
     "name": "stdout",
     "output_type": "stream",
     "text": [
      "3\n",
      "[ -1.69031059e-04   2.98832114e-01   8.52699220e+02]\n",
      "[ -2.39406275e-05  -2.62237677e-02  -5.25811489e+02]\n",
      "525.837736903\n"
     ]
    },
    {
     "name": "stderr",
     "output_type": "stream",
     "text": [
      "\u001b[A\u001b[A\u001b[A\u001b[A\u001b[A\u001b[A\u001b[A\n",
      "\n",
      "\n",
      "\n",
      "\n",
      "\n",
      "\n",
      "  1%|          | 11/1261 [00:01<02:59,  6.97it/s]"
     ]
    },
    {
     "name": "stdout",
     "output_type": "stream",
     "text": [
      "3\n",
      "[ -3.20800318e-04   4.20874632e-01   8.28875981e+02]\n",
      "[  1.40364790e-04  -1.54656689e-01  -5.02563580e+02]\n",
      "502.718376961\n"
     ]
    },
    {
     "name": "stderr",
     "output_type": "stream",
     "text": [
      "\u001b[A\u001b[A\u001b[A\u001b[A\u001b[A\u001b[A\u001b[A\n",
      "\n",
      "\n",
      "\n",
      "\n",
      "\n",
      "\n",
      "  1%|          | 12/1261 [00:01<02:57,  7.05it/s]"
     ]
    },
    {
     "name": "stdout",
     "output_type": "stream",
     "text": [
      "3\n",
      "[ -2.48699646e-04   3.51481957e-01   8.50793098e+02]\n",
      "[  7.66643705e-05  -8.33739591e-02  -5.31432972e+02]\n",
      "531.516422558\n"
     ]
    },
    {
     "name": "stderr",
     "output_type": "stream",
     "text": [
      "\u001b[A\u001b[A\u001b[A\u001b[A\u001b[A\u001b[A\u001b[A\n",
      "\n",
      "\n",
      "\n",
      "\n",
      "\n",
      "\n",
      "  1%|          | 13/1261 [00:01<02:56,  7.08it/s]"
     ]
    },
    {
     "name": "stdout",
     "output_type": "stream",
     "text": [
      "3\n",
      "[ -1.67154716e-04   2.99442402e-01   8.53012121e+02]\n",
      "[  1.57182756e-05  -4.67329326e-02  -5.31868609e+02]\n",
      "531.915357188\n"
     ]
    },
    {
     "name": "stderr",
     "output_type": "stream",
     "text": [
      "\u001b[A\u001b[A\u001b[A\u001b[A\u001b[A\u001b[A\u001b[A\n",
      "\n",
      "\n",
      "\n",
      "\n",
      "\n",
      "\n",
      "  1%|          | 14/1261 [00:02<02:56,  7.05it/s]"
     ]
    },
    {
     "name": "stdout",
     "output_type": "stream",
     "text": [
      "3\n",
      "[ -2.01263180e-05   1.79817294e-01   8.70818195e+02]\n",
      "[ -1.23939468e-04   6.73631580e-02  -5.48820407e+02]\n",
      "548.887894523\n"
     ]
    },
    {
     "name": "stderr",
     "output_type": "stream",
     "text": [
      "\u001b[A\u001b[A\u001b[A\u001b[A\u001b[A\u001b[A\u001b[A\n",
      "\n",
      "\n",
      "\n",
      "\n",
      "\n",
      "\n",
      "  1%|          | 15/1261 [00:02<02:57,  7.00it/s]"
     ]
    },
    {
     "name": "stdout",
     "output_type": "stream",
     "text": [
      "3\n",
      "[  4.97723151e-05   1.22209120e-01   8.73752515e+02]\n",
      "[ -2.06970687e-04   1.33791894e-01  -5.51804362e+02]\n",
      "551.938361004\n"
     ]
    },
    {
     "name": "stderr",
     "output_type": "stream",
     "text": [
      "\u001b[A\u001b[A\u001b[A\u001b[A\u001b[A\u001b[A\u001b[A\n",
      "\n",
      "\n",
      "\n",
      "\n",
      "\n",
      "\n",
      "  1%|▏         | 16/1261 [00:02<02:56,  7.04it/s]"
     ]
    },
    {
     "name": "stdout",
     "output_type": "stream",
     "text": [
      "3\n",
      "[ -4.79117917e-05   2.14831372e-01   8.48559191e+02]\n",
      "[ -1.24004078e-04   5.16293220e-02  -5.27314297e+02]\n",
      "527.36605003\n"
     ]
    },
    {
     "name": "stderr",
     "output_type": "stream",
     "text": [
      "\u001b[A\u001b[A\u001b[A\u001b[A\u001b[A\u001b[A\u001b[A\n",
      "\n",
      "\n",
      "\n",
      "\n",
      "\n",
      "\n",
      "  1%|▏         | 17/1261 [00:02<02:54,  7.11it/s]"
     ]
    },
    {
     "name": "stdout",
     "output_type": "stream",
     "text": [
      "3\n",
      "[  2.25823330e-05   1.40581885e-01   8.64460981e+02]\n",
      "[ -1.88753555e-04   1.18991458e-01  -5.42472529e+02]\n",
      "542.591708748\n"
     ]
    },
    {
     "name": "stderr",
     "output_type": "stream",
     "text": [
      "\u001b[A\u001b[A\u001b[A\u001b[A\u001b[A\u001b[A\u001b[A\n",
      "\n",
      "\n",
      "\n",
      "\n",
      "\n",
      "\n",
      "  1%|▏         | 18/1261 [00:02<02:53,  7.17it/s]"
     ]
    },
    {
     "name": "stdout",
     "output_type": "stream",
     "text": [
      "3\n",
      "[  1.23850203e-04   2.78594887e-02   8.90895929e+02]\n",
      "[ -2.94320488e-04   2.34385069e-01  -5.69231836e+02]\n",
      "569.466515343\n"
     ]
    },
    {
     "name": "stderr",
     "output_type": "stream",
     "text": [
      "\u001b[A\u001b[A\u001b[A\u001b[A\u001b[A\u001b[A\u001b[A\n",
      "\n",
      "\n",
      "\n",
      "\n",
      "\n",
      "\n",
      "  2%|▏         | 19/1261 [00:02<02:54,  7.13it/s]"
     ]
    },
    {
     "name": "stdout",
     "output_type": "stream",
     "text": [
      "3\n",
      "[  1.35116793e-04  -1.51339342e-02   9.11326259e+02]\n",
      "[ -2.92965320e-04   2.68636844e-01  -5.90912030e+02]\n",
      "591.180959709\n"
     ]
    },
    {
     "name": "stderr",
     "output_type": "stream",
     "text": [
      "\u001b[A\u001b[A\u001b[A\u001b[A\u001b[A\u001b[A\u001b[A\n",
      "\n",
      "\n",
      "\n",
      "\n",
      "\n",
      "\n",
      "  2%|▏         | 20/1261 [00:02<02:53,  7.17it/s]"
     ]
    },
    {
     "name": "stdout",
     "output_type": "stream",
     "text": [
      "3\n",
      "[  5.36610444e-04  -3.75844711e-01   9.95422844e+02]\n",
      "[ -6.87266945e-04   6.24742221e-01  -6.76650293e+02]\n",
      "677.275722245\n"
     ]
    },
    {
     "name": "stderr",
     "output_type": "stream",
     "text": [
      "\u001b[A\u001b[A\u001b[A\u001b[A\u001b[A\u001b[A\u001b[A\n",
      "\n",
      "\n",
      "\n",
      "\n",
      "\n",
      "\n",
      "  2%|▏         | 21/1261 [00:02<02:52,  7.18it/s]"
     ]
    },
    {
     "name": "stdout",
     "output_type": "stream",
     "text": [
      "3\n",
      "[  4.16688293e-04  -3.04567855e-01   9.92867518e+02]\n",
      "[ -5.62841116e-04   5.50625839e-01  -6.75843950e+02]\n",
      "676.395138389\n"
     ]
    },
    {
     "name": "stderr",
     "output_type": "stream",
     "text": [
      "\u001b[A\u001b[A\u001b[A\u001b[A\u001b[A\u001b[A\u001b[A\n",
      "\n",
      "\n",
      "\n",
      "\n",
      "\n",
      "\n",
      "  2%|▏         | 22/1261 [00:03<02:53,  7.15it/s]"
     ]
    },
    {
     "name": "stdout",
     "output_type": "stream",
     "text": [
      "3\n",
      "[  4.70971645e-04  -3.82742037e-01   1.02304394e+03]\n",
      "[ -5.95068540e-04   6.13482562e-01  -7.07016435e+02]\n",
      "707.630512437\n"
     ]
    },
    {
     "name": "stderr",
     "output_type": "stream",
     "text": [
      "\u001b[A\u001b[A\u001b[A\u001b[A\u001b[A\u001b[A\u001b[A\n",
      "\n",
      "\n",
      "\n",
      "\n",
      "\n",
      "\n",
      "  2%|▏         | 23/1261 [00:03<02:53,  7.15it/s]"
     ]
    },
    {
     "name": "stdout",
     "output_type": "stream",
     "text": [
      "3\n",
      "[  3.91874923e-04  -3.31445691e-01   1.02082838e+03]\n",
      "[ -5.28519858e-04   5.71506834e-01  -7.08542739e+02]\n",
      "709.114774154\n"
     ]
    },
    {
     "name": "stderr",
     "output_type": "stream",
     "text": [
      "\u001b[A\u001b[A\u001b[A\u001b[A\u001b[A\u001b[A\u001b[A\n",
      "\n",
      "\n",
      "\n",
      "\n",
      "\n",
      "\n",
      "  2%|▏         | 24/1261 [00:03<02:53,  7.12it/s]"
     ]
    },
    {
     "name": "stdout",
     "output_type": "stream",
     "text": [
      "3\n",
      "[  8.62906700e-05  -2.40910747e-02   9.43833114e+02]\n",
      "[ -2.20383548e-04   2.55733921e-01  -6.27696969e+02]\n",
      "627.95292368\n"
     ]
    },
    {
     "name": "stderr",
     "output_type": "stream",
     "text": [
      "\u001b[A\u001b[A\u001b[A\u001b[A\u001b[A\u001b[A\u001b[A\n",
      "\n",
      "\n",
      "\n",
      "\n",
      "\n",
      "\n",
      "  2%|▏         | 25/1261 [00:03<02:51,  7.20it/s]"
     ]
    },
    {
     "name": "stdout",
     "output_type": "stream",
     "text": [
      "3\n",
      "[ -1.49820299e-04   2.15625475e-01   8.83913102e+02]\n",
      "[ -2.25436323e-06   2.66822743e-02  -5.68139774e+02]\n",
      "568.166458724\n"
     ]
    },
    {
     "name": "stderr",
     "output_type": "stream",
     "text": [
      "\u001b[A\u001b[A\u001b[A\u001b[A\u001b[A\u001b[A\u001b[A\n",
      "\n",
      "\n",
      "\n",
      "\n",
      "\n",
      "\n",
      "  2%|▏         | 26/1261 [00:03<02:52,  7.17it/s]"
     ]
    },
    {
     "name": "stdout",
     "output_type": "stream",
     "text": [
      "3\n",
      "[ -2.70785794e-04   3.55202192e-01   8.48434261e+02]\n",
      "[  1.39630613e-04  -1.29604772e-01  -5.32352918e+02]\n",
      "532.482662115\n"
     ]
    },
    {
     "name": "stderr",
     "output_type": "stream",
     "text": [
      "\u001b[A\u001b[A\u001b[A\u001b[A\u001b[A\u001b[A\u001b[A\n",
      "\n",
      "\n",
      "\n",
      "\n",
      "\n",
      "\n",
      "  2%|▏         | 27/1261 [00:03<02:53,  7.10it/s]"
     ]
    },
    {
     "name": "stdout",
     "output_type": "stream",
     "text": [
      "3\n",
      "[ -2.43176440e-04   3.31347428e-01   8.55260543e+02]\n",
      "[  1.05549643e-04  -1.02738029e-01  -5.39900592e+02]\n",
      "540.003435995\n"
     ]
    },
    {
     "name": "stderr",
     "output_type": "stream",
     "text": [
      "\u001b[A\u001b[A\u001b[A\u001b[A\u001b[A\u001b[A\u001b[A\n",
      "\n",
      "\n",
      "\n",
      "\n",
      "\n",
      "\n",
      "  2%|▏         | 28/1261 [00:03<02:57,  6.96it/s]"
     ]
    },
    {
     "name": "stdout",
     "output_type": "stream",
     "text": [
      "3\n",
      "[ -2.79410788e-04   3.65542892e-01   8.52105203e+02]\n",
      "[  1.33541610e-04  -1.29243422e-01  -5.40430475e+02]\n",
      "540.559851507\n"
     ]
    },
    {
     "name": "stderr",
     "output_type": "stream",
     "text": [
      "\u001b[A\u001b[A\u001b[A\u001b[A\u001b[A\u001b[A\u001b[A\n",
      "\n",
      "\n",
      "\n",
      "\n",
      "\n",
      "\n",
      "  2%|▏         | 29/1261 [00:04<02:57,  6.96it/s]"
     ]
    },
    {
     "name": "stdout",
     "output_type": "stream",
     "text": [
      "3\n",
      "[ -1.99935664e-04   3.03950482e-01   8.57638433e+02]\n",
      "[  4.40643328e-05  -6.36712949e-02  -5.44233289e+02]\n",
      "544.297004392\n"
     ]
    },
    {
     "name": "stderr",
     "output_type": "stream",
     "text": [
      "\u001b[A\u001b[A\u001b[A\u001b[A\u001b[A\u001b[A\u001b[A\n",
      "\n",
      "\n",
      "\n",
      "\n",
      "\n",
      "\n",
      "  2%|▏         | 30/1261 [00:04<02:55,  7.01it/s]"
     ]
    },
    {
     "name": "stdout",
     "output_type": "stream",
     "text": [
      "3\n",
      "[ -2.44674992e-04   3.62379270e-01   8.36936936e+02]\n",
      "[  6.01200812e-05  -1.06028832e-01  -5.22079881e+02]\n",
      "522.185969794\n"
     ]
    },
    {
     "name": "stderr",
     "output_type": "stream",
     "text": [
      "\u001b[A\u001b[A\u001b[A\u001b[A\u001b[A\u001b[A\u001b[A\n",
      "\n",
      "\n",
      "\n",
      "\n",
      "\n",
      "\n",
      "  2%|▏         | 31/1261 [00:04<03:00,  6.80it/s]"
     ]
    },
    {
     "name": "stdout",
     "output_type": "stream",
     "text": [
      "3\n",
      "[ -1.84891925e-04   3.00936421e-01   8.47956246e+02]\n",
      "[ -3.33971473e-05  -2.51786961e-02  -5.30648071e+02]\n",
      "530.673282796\n"
     ]
    },
    {
     "name": "stderr",
     "output_type": "stream",
     "text": [
      "\u001b[A\u001b[A\u001b[A\u001b[A\u001b[A\u001b[A\u001b[A\n",
      "\n",
      "\n",
      "\n",
      "\n",
      "\n",
      "\n",
      "  3%|▎         | 32/1261 [00:04<03:00,  6.79it/s]"
     ]
    },
    {
     "name": "stdout",
     "output_type": "stream",
     "text": [
      "3\n",
      "[ -1.89366449e-04   2.99051869e-01   8.45315520e+02]\n",
      "[ -5.71529534e-05  -1.65131963e-03  -5.28464678e+02]\n",
      "528.466386333\n"
     ]
    },
    {
     "name": "stderr",
     "output_type": "stream",
     "text": [
      "\u001b[A\u001b[A\u001b[A\u001b[A\u001b[A\u001b[A\u001b[A\n",
      "\n",
      "\n",
      "\n",
      "\n",
      "\n",
      "\n",
      "  3%|▎         | 33/1261 [00:04<02:58,  6.88it/s]"
     ]
    },
    {
     "name": "stdout",
     "output_type": "stream",
     "text": [
      "3\n",
      "[  3.66887480e-04  -2.27141664e-01   9.72507864e+02]\n",
      "[ -6.12010942e-04   5.22097156e-01  -6.55790055e+02]\n",
      "656.312763893\n"
     ]
    },
    {
     "name": "stderr",
     "output_type": "stream",
     "text": [
      "\u001b[A\u001b[A\u001b[A\u001b[A\u001b[A\u001b[A\u001b[A\n",
      "\n",
      "\n",
      "\n",
      "\n",
      "\n",
      "\n",
      "  3%|▎         | 34/1261 [00:04<03:00,  6.79it/s]"
     ]
    },
    {
     "name": "stdout",
     "output_type": "stream",
     "text": [
      "3\n",
      "[  3.11213333e-04  -1.95557517e-01   9.69697005e+02]\n",
      "[ -5.68293181e-04   5.01038485e-01  -6.53171024e+02]\n",
      "653.672630797\n"
     ]
    },
    {
     "name": "stderr",
     "output_type": "stream",
     "text": [
      "\u001b[A\u001b[A\u001b[A\u001b[A\u001b[A\u001b[A\u001b[A\n",
      "\n",
      "\n",
      "\n",
      "\n",
      "\n",
      "\n",
      "  3%|▎         | 35/1261 [00:05<03:01,  6.77it/s]"
     ]
    },
    {
     "name": "stdout",
     "output_type": "stream",
     "text": [
      "3\n",
      "[ -1.37579411e-04   2.72988656e-01   8.49769983e+02]\n",
      "[ -1.31604493e-04   4.16124085e-02  -5.33711115e+02]\n",
      "533.75285853\n"
     ]
    },
    {
     "name": "stderr",
     "output_type": "stream",
     "text": [
      "\u001b[A\u001b[A\u001b[A\u001b[A\u001b[A\u001b[A\u001b[A\n",
      "\n",
      "\n",
      "\n",
      "\n",
      "\n",
      "\n",
      "  3%|▎         | 36/1261 [00:05<03:00,  6.78it/s]"
     ]
    },
    {
     "name": "stdout",
     "output_type": "stream",
     "text": [
      "3\n",
      "[  1.61587366e-04  -7.70414781e-02   9.48171955e+02]\n",
      "[ -4.41564506e-04   4.07389628e-01  -6.35010010e+02]\n",
      "635.417841681\n"
     ]
    },
    {
     "name": "stderr",
     "output_type": "stream",
     "text": [
      "\u001b[A\u001b[A\u001b[A\u001b[A\u001b[A\u001b[A\u001b[A\n",
      "\n",
      "\n",
      "\n",
      "\n",
      "\n",
      "\n",
      "  3%|▎         | 37/1261 [00:05<02:56,  6.93it/s]"
     ]
    },
    {
     "name": "stdout",
     "output_type": "stream",
     "text": [
      "3\n",
      "[ -1.88391781e-04   3.34336088e-01   8.28090010e+02]\n",
      "[ -9.77683843e-05   1.37769976e-03  -5.15059944e+02]\n",
      "515.061419845\n"
     ]
    },
    {
     "name": "stderr",
     "output_type": "stream",
     "text": [
      "\u001b[A\u001b[A\u001b[A\u001b[A\u001b[A\u001b[A\u001b[A\n",
      "\n",
      "\n",
      "\n",
      "\n",
      "\n",
      "\n",
      "  3%|▎         | 38/1261 [00:05<02:56,  6.91it/s]"
     ]
    },
    {
     "name": "stdout",
     "output_type": "stream",
     "text": [
      "3\n",
      "[ -3.21306458e-04   4.52495990e-01   8.03391171e+02]\n",
      "[  3.60507008e-05  -1.15032103e-01  -4.90166322e+02]\n",
      "490.281390177\n"
     ]
    },
    {
     "name": "stderr",
     "output_type": "stream",
     "text": [
      "\u001b[A\u001b[A\u001b[A\u001b[A\u001b[A\u001b[A\u001b[A\n",
      "\n",
      "\n",
      "\n",
      "\n",
      "\n",
      "\n",
      "  3%|▎         | 39/1261 [00:05<02:54,  7.01it/s]"
     ]
    },
    {
     "name": "stdout",
     "output_type": "stream",
     "text": [
      "3\n",
      "[ -1.92893974e-04   3.58989509e-01   8.11809707e+02]\n",
      "[ -1.14058302e-04  -2.91216072e-03  -5.00886593e+02]\n",
      "500.889619514\n"
     ]
    },
    {
     "name": "stderr",
     "output_type": "stream",
     "text": [
      "\u001b[A\u001b[A\u001b[A\u001b[A\u001b[A\u001b[A\u001b[A\n",
      "\n",
      "\n",
      "\n",
      "\n",
      "\n",
      "\n",
      "  3%|▎         | 40/1261 [00:05<02:52,  7.06it/s]"
     ]
    },
    {
     "name": "stdout",
     "output_type": "stream",
     "text": [
      "3\n",
      "[ -1.92375163e-04   3.54081916e-01   8.15561394e+02]\n",
      "[ -1.04054076e-04   8.50049473e-05  -5.07245356e+02]\n",
      "507.245544897\n"
     ]
    },
    {
     "name": "stderr",
     "output_type": "stream",
     "text": [
      "\u001b[A\u001b[A\u001b[A\u001b[A\u001b[A\u001b[A\u001b[A\n",
      "\n",
      "\n",
      "\n",
      "\n",
      "\n",
      "\n",
      "  3%|▎         | 41/1261 [00:05<02:53,  7.01it/s]"
     ]
    },
    {
     "name": "stdout",
     "output_type": "stream",
     "text": [
      "3\n",
      "[ -1.26731118e-04   2.87382330e-01   8.30950990e+02]\n",
      "[ -1.62545869e-04   6.38385020e-02  -5.22934474e+02]\n",
      "522.998474579\n"
     ]
    },
    {
     "name": "stderr",
     "output_type": "stream",
     "text": [
      "\u001b[A\u001b[A\u001b[A\u001b[A\u001b[A\u001b[A\u001b[A\n",
      "\n",
      "\n",
      "\n",
      "\n",
      "\n",
      "\n",
      "  3%|▎         | 42/1261 [00:05<02:51,  7.10it/s]"
     ]
    },
    {
     "name": "stdout",
     "output_type": "stream",
     "text": [
      "3\n",
      "[ -1.13336943e-04   2.64699044e-01   8.39708534e+02]\n",
      "[ -1.81429734e-04   9.36586822e-02  -5.33635364e+02]\n",
      "533.729204368\n"
     ]
    },
    {
     "name": "stderr",
     "output_type": "stream",
     "text": [
      "\u001b[A\u001b[A\u001b[A\u001b[A\u001b[A\u001b[A\u001b[A\n",
      "\n",
      "\n",
      "\n",
      "\n",
      "\n",
      "\n",
      "  3%|▎         | 43/1261 [00:06<03:01,  6.71it/s]"
     ]
    },
    {
     "name": "stdout",
     "output_type": "stream",
     "text": [
      "3\n",
      "[ -8.21493639e-05   2.27273012e-01   8.51172770e+02]\n",
      "[ -2.03433709e-04   1.28533760e-01  -5.46741460e+02]\n",
      "546.870196985\n"
     ]
    },
    {
     "name": "stderr",
     "output_type": "stream",
     "text": [
      "\u001b[A\u001b[A\u001b[A\u001b[A\u001b[A\u001b[A\u001b[A"
     ]
    },
    {
     "name": "stdout",
     "output_type": "stream",
     "text": [
      "3\n",
      "[  3.06662629e-05   8.29452800e-02   8.94428182e+02]\n",
      "[ -3.07060919e-04   2.70541805e-01  -5.92627284e+02]\n",
      "592.898132926\n"
     ]
    },
    {
     "name": "stderr",
     "output_type": "stream",
     "text": [
      "\n",
      "\n",
      "\n",
      "\n",
      "\n",
      "\n",
      "\n",
      "  3%|▎         | 44/1261 [00:06<03:13,  6.29it/s]\u001b[A\u001b[A\u001b[A\u001b[A\u001b[A\u001b[A\u001b[A\n",
      "\n",
      "\n",
      "\n",
      "\n",
      "\n",
      "\n",
      "  4%|▎         | 45/1261 [00:06<03:10,  6.38it/s]"
     ]
    },
    {
     "name": "stdout",
     "output_type": "stream",
     "text": [
      "3\n",
      "[ -1.11758371e-05   1.25562096e-01   8.87897929e+02]\n",
      "[ -2.43972811e-04   2.16125047e-01  -5.86906419e+02]\n",
      "587.122788284\n"
     ]
    },
    {
     "name": "stderr",
     "output_type": "stream",
     "text": [
      "\u001b[A\u001b[A\u001b[A\u001b[A\u001b[A\u001b[A\u001b[A\n",
      "\n",
      "\n",
      "\n",
      "\n",
      "\n",
      "\n",
      "  4%|▎         | 46/1261 [00:06<03:04,  6.60it/s]"
     ]
    },
    {
     "name": "stdout",
     "output_type": "stream",
     "text": [
      "3\n",
      "[  3.54361559e-04  -2.09059813e-01   9.65148253e+02]\n",
      "[ -5.99458067e-04   5.43026879e-01  -6.63558764e+02]\n",
      "664.102390222\n"
     ]
    },
    {
     "name": "stderr",
     "output_type": "stream",
     "text": [
      "\u001b[A\u001b[A\u001b[A\u001b[A\u001b[A\u001b[A\u001b[A\n",
      "\n",
      "\n",
      "\n",
      "\n",
      "\n",
      "\n",
      "  4%|▎         | 47/1261 [00:06<03:02,  6.67it/s]"
     ]
    },
    {
     "name": "stdout",
     "output_type": "stream",
     "text": [
      "3\n",
      "[  2.11011032e-04  -8.49839773e-02   9.41416469e+02]\n",
      "[ -4.41737278e-04   4.10778005e-01  -6.40858326e+02]\n",
      "641.269545823\n"
     ]
    },
    {
     "name": "stderr",
     "output_type": "stream",
     "text": [
      "\u001b[A\u001b[A\u001b[A\u001b[A\u001b[A\u001b[A\u001b[A\n",
      "\n",
      "\n",
      "\n",
      "\n",
      "\n",
      "\n",
      "  4%|▍         | 48/1261 [00:06<03:04,  6.59it/s]"
     ]
    },
    {
     "name": "stdout",
     "output_type": "stream",
     "text": [
      "3\n",
      "[  2.67625808e-04  -1.66392453e-01   9.66830558e+02]\n",
      "[ -4.89929843e-04   4.86668372e-01  -6.65934400e+02]\n",
      "666.421558134\n"
     ]
    },
    {
     "name": "stderr",
     "output_type": "stream",
     "text": [
      "\u001b[A\u001b[A\u001b[A\u001b[A\u001b[A\u001b[A\u001b[A\n",
      "\n",
      "\n",
      "\n",
      "\n",
      "\n",
      "\n",
      "  4%|▍         | 49/1261 [00:07<03:05,  6.53it/s]"
     ]
    },
    {
     "name": "stdout",
     "output_type": "stream",
     "text": [
      "3\n",
      "[  1.87951731e-05   7.08035244e-02   9.14121065e+02]\n",
      "[ -2.21711081e-04   2.37769607e-01  -6.14342912e+02]\n",
      "614.580903071\n"
     ]
    },
    {
     "name": "stderr",
     "output_type": "stream",
     "text": [
      "\u001b[A\u001b[A\u001b[A\u001b[A\u001b[A\u001b[A\u001b[A\n",
      "\n",
      "\n",
      "\n",
      "\n",
      "\n",
      "\n",
      "  4%|▍         | 50/1261 [00:07<03:07,  6.46it/s]"
     ]
    },
    {
     "name": "stdout",
     "output_type": "stream",
     "text": [
      "3\n",
      "[  5.44247379e-04  -5.02292020e-01   1.07039521e+03]\n",
      "[ -7.31404629e-04   8.00581700e-01  -7.70354272e+02]\n",
      "771.155585485\n"
     ]
    },
    {
     "name": "stderr",
     "output_type": "stream",
     "text": [
      "\u001b[A\u001b[A\u001b[A\u001b[A\u001b[A\u001b[A\u001b[A\n",
      "\n",
      "\n",
      "\n",
      "\n",
      "\n",
      "\n",
      "  4%|▍         | 51/1261 [00:07<03:05,  6.54it/s]"
     ]
    },
    {
     "name": "stdout",
     "output_type": "stream",
     "text": [
      "3\n",
      "[ -1.56059652e-04   2.85790135e-01   8.49417910e+02]\n",
      "[ -1.41617989e-05   5.46207329e-04  -5.48624437e+02]\n",
      "548.62499753\n"
     ]
    },
    {
     "name": "stderr",
     "output_type": "stream",
     "text": [
      "\u001b[A\u001b[A\u001b[A\u001b[A\u001b[A\u001b[A\u001b[A\n",
      "\n",
      "\n",
      "\n",
      "\n",
      "\n",
      "\n",
      "  4%|▍         | 52/1261 [00:07<03:06,  6.48it/s]"
     ]
    },
    {
     "name": "stdout",
     "output_type": "stream",
     "text": [
      "3\n",
      "[ -1.90518353e-04   3.43737089e-01   8.25142189e+02]\n",
      "[  2.24368091e-05  -5.96711961e-02  -5.23326134e+02]\n",
      "523.385827766\n"
     ]
    },
    {
     "name": "stderr",
     "output_type": "stream",
     "text": [
      "\u001b[A\u001b[A\u001b[A\u001b[A\u001b[A\u001b[A\u001b[A\n",
      "\n",
      "\n",
      "\n",
      "\n",
      "\n",
      "\n",
      "  4%|▍         | 53/1261 [00:07<03:10,  6.34it/s]"
     ]
    },
    {
     "name": "stdout",
     "output_type": "stream",
     "text": [
      "3\n",
      "[ -1.83714103e-04   3.44400399e-01   8.19976454e+02]\n",
      "[  1.73179426e-05  -6.58358492e-02  -5.15854522e+02]\n",
      "515.920375128\n"
     ]
    },
    {
     "name": "stderr",
     "output_type": "stream",
     "text": [
      "\u001b[A\u001b[A\u001b[A\u001b[A\u001b[A\u001b[A\u001b[A\n",
      "\n",
      "\n",
      "\n",
      "\n",
      "\n",
      "\n",
      "  4%|▍         | 54/1261 [00:07<03:13,  6.22it/s]"
     ]
    },
    {
     "name": "stdout",
     "output_type": "stream",
     "text": [
      "3\n",
      "[ -2.17886789e-04   3.83892452e-01   8.06888583e+02]\n",
      "[  5.23515083e-05  -1.02994250e-01  -5.04955441e+02]\n",
      "505.058488092\n"
     ]
    },
    {
     "name": "stderr",
     "output_type": "stream",
     "text": [
      "\u001b[A\u001b[A\u001b[A\u001b[A\u001b[A\u001b[A\u001b[A"
     ]
    },
    {
     "name": "stdout",
     "output_type": "stream",
     "text": [
      "3\n",
      "[ -1.48182058e-04   3.07999730e-01   8.26570319e+02]\n",
      "[  3.91704252e-06  -4.69629106e-02  -5.22100561e+02]\n",
      "522.147527975\n"
     ]
    },
    {
     "name": "stderr",
     "output_type": "stream",
     "text": [
      "\n",
      "\n",
      "\n",
      "\n",
      "\n",
      "\n",
      "\n",
      "  4%|▍         | 55/1261 [00:08<03:22,  5.96it/s]\u001b[A\u001b[A\u001b[A\u001b[A\u001b[A\u001b[A\u001b[A"
     ]
    },
    {
     "name": "stdout",
     "output_type": "stream",
     "text": [
      "3\n",
      "[ -8.55354992e-05   2.33205181e-01   8.47357982e+02]\n",
      "[ -4.92228604e-05   1.81396418e-02  -5.41842686e+02]\n",
      "541.860875308\n"
     ]
    },
    {
     "name": "stderr",
     "output_type": "stream",
     "text": [
      "\n",
      "\n",
      "\n",
      "\n",
      "\n",
      "\n",
      "\n",
      "  4%|▍         | 56/1261 [00:08<03:26,  5.83it/s]\u001b[A\u001b[A\u001b[A\u001b[A\u001b[A\u001b[A\u001b[A\n",
      "\n",
      "\n",
      "\n",
      "\n",
      "\n",
      "\n",
      "  5%|▍         | 57/1261 [00:08<03:22,  5.95it/s]"
     ]
    },
    {
     "name": "stdout",
     "output_type": "stream",
     "text": [
      "3\n",
      "[ -6.79437218e-05   2.00065803e-01   8.57941329e+02]\n",
      "[ -7.20480385e-05   5.39000412e-02  -5.52297138e+02]\n",
      "552.351110009\n"
     ]
    },
    {
     "name": "stderr",
     "output_type": "stream",
     "text": [
      "\u001b[A\u001b[A\u001b[A\u001b[A\u001b[A\u001b[A\u001b[A\n",
      "\n",
      "\n",
      "\n",
      "\n",
      "\n",
      "\n",
      "  5%|▍         | 58/1261 [00:08<03:20,  6.01it/s]"
     ]
    },
    {
     "name": "stdout",
     "output_type": "stream",
     "text": [
      "3\n",
      "[  1.83573220e-04  -3.21007413e-03   9.00150276e+02]\n",
      "[ -3.25701440e-04   2.57226498e-01  -5.95078069e+02]\n",
      "595.335621344\n"
     ]
    },
    {
     "name": "stderr",
     "output_type": "stream",
     "text": [
      "\u001b[A\u001b[A\u001b[A\u001b[A\u001b[A\u001b[A\u001b[A"
     ]
    },
    {
     "name": "stdout",
     "output_type": "stream",
     "text": [
      "3\n",
      "[  3.60058167e-04  -1.96007180e-01   9.46140294e+02]\n",
      "[ -5.27841797e-04   4.63905078e-01  -6.39306075e+02]\n",
      "639.770508039\n"
     ]
    },
    {
     "name": "stderr",
     "output_type": "stream",
     "text": [
      "\n",
      "\n",
      "\n",
      "\n",
      "\n",
      "\n",
      "\n",
      "  5%|▍         | 59/1261 [00:08<03:21,  5.97it/s]\u001b[A\u001b[A\u001b[A\u001b[A\u001b[A\u001b[A\u001b[A\n",
      "\n",
      "\n",
      "\n",
      "\n",
      "\n",
      "\n",
      "  5%|▍         | 60/1261 [00:08<03:14,  6.19it/s]"
     ]
    },
    {
     "name": "stdout",
     "output_type": "stream",
     "text": [
      "3\n",
      "[ -1.34117360e-04   3.15166610e-01   8.10988764e+02]\n",
      "[ -3.55985647e-05  -5.14393633e-02  -5.00356766e+02]\n",
      "500.408241066\n"
     ]
    },
    {
     "name": "stderr",
     "output_type": "stream",
     "text": [
      "\u001b[A\u001b[A\u001b[A\u001b[A\u001b[A\u001b[A\u001b[A\n",
      "\n",
      "\n",
      "\n",
      "\n",
      "\n",
      "\n",
      "  5%|▍         | 61/1261 [00:09<03:13,  6.21it/s]"
     ]
    },
    {
     "name": "stdout",
     "output_type": "stream",
     "text": [
      "3\n",
      "[ -5.87950683e-05   2.79127439e-01   8.07212645e+02]\n",
      "[ -1.11998933e-04  -2.12629037e-02  -4.93291853e+02]\n",
      "493.313227915\n"
     ]
    },
    {
     "name": "stderr",
     "output_type": "stream",
     "text": [
      "\u001b[A\u001b[A\u001b[A\u001b[A\u001b[A\u001b[A\u001b[A"
     ]
    },
    {
     "name": "stdout",
     "output_type": "stream",
     "text": [
      "3\n",
      "[ -1.13690497e-04   3.27575629e-01   7.93962199e+02]\n",
      "[ -5.80139029e-05  -7.24859537e-02  -4.77673911e+02]\n",
      "477.74645495\n"
     ]
    },
    {
     "name": "stderr",
     "output_type": "stream",
     "text": [
      "\n",
      "\n",
      "\n",
      "\n",
      "\n",
      "\n",
      "\n",
      "  5%|▍         | 62/1261 [00:09<03:18,  6.04it/s]\u001b[A\u001b[A\u001b[A\u001b[A\u001b[A\u001b[A\u001b[A\n",
      "\n",
      "\n",
      "\n",
      "\n",
      "\n",
      "\n",
      "  5%|▍         | 63/1261 [00:09<03:16,  6.09it/s]"
     ]
    },
    {
     "name": "stdout",
     "output_type": "stream",
     "text": [
      "3\n",
      "[ -5.29081603e-05   2.67343743e-01   8.08503600e+02]\n",
      "[ -1.25457452e-04  -8.33007449e-03  -4.93665662e+02]\n",
      "493.674117763\n"
     ]
    },
    {
     "name": "stderr",
     "output_type": "stream",
     "text": [
      "\u001b[A\u001b[A\u001b[A\u001b[A\u001b[A\u001b[A\u001b[A\n",
      "\n",
      "\n",
      "\n",
      "\n",
      "\n",
      "\n",
      "  5%|▌         | 64/1261 [00:09<03:19,  5.99it/s]"
     ]
    },
    {
     "name": "stdout",
     "output_type": "stream",
     "text": [
      "3\n",
      "[  3.99929765e-06   2.11563999e-01   8.18839321e+02]\n",
      "[ -1.88119252e-04   4.76079504e-02  -5.02094234e+02]\n",
      "502.142029618\n"
     ]
    },
    {
     "name": "stderr",
     "output_type": "stream",
     "text": [
      "\u001b[A\u001b[A\u001b[A\u001b[A\u001b[A\u001b[A\u001b[A\n",
      "\n",
      "\n",
      "\n",
      "\n",
      "\n",
      "\n",
      "  5%|▌         | 65/1261 [00:09<03:19,  6.00it/s]"
     ]
    },
    {
     "name": "stdout",
     "output_type": "stream",
     "text": [
      "3\n",
      "[ -1.13334053e-05   2.06676119e-01   8.26351766e+02]\n",
      "[ -1.96567621e-04   7.13770900e-02  -5.13993321e+02]\n",
      "514.064894773\n"
     ]
    },
    {
     "name": "stderr",
     "output_type": "stream",
     "text": [
      "\u001b[A\u001b[A\u001b[A\u001b[A\u001b[A\u001b[A\u001b[A\n",
      "\n",
      "\n",
      "\n",
      "\n",
      "\n",
      "\n",
      "  5%|▌         | 66/1261 [00:09<03:17,  6.06it/s]"
     ]
    },
    {
     "name": "stdout",
     "output_type": "stream",
     "text": [
      "3\n",
      "[ -2.72284698e-07   1.87091976e-01   8.31244238e+02]\n",
      "[ -1.93177000e-04   7.63862281e-02  -5.14926014e+02]\n",
      "515.002593785\n"
     ]
    },
    {
     "name": "stderr",
     "output_type": "stream",
     "text": [
      "\u001b[A\u001b[A\u001b[A\u001b[A\u001b[A\u001b[A\u001b[A"
     ]
    },
    {
     "name": "stdout",
     "output_type": "stream",
     "text": [
      "3\n",
      "[  4.97941049e-05   1.22989170e-01   8.49409185e+02]\n",
      "[ -2.46562994e-04   1.38745989e-01  -5.32130367e+02]\n",
      "532.269359157\n"
     ]
    },
    {
     "name": "stderr",
     "output_type": "stream",
     "text": [
      "\n",
      "\n",
      "\n",
      "\n",
      "\n",
      "\n",
      "\n",
      "  5%|▌         | 67/1261 [00:10<03:20,  5.96it/s]\u001b[A\u001b[A\u001b[A\u001b[A\u001b[A\u001b[A\u001b[A"
     ]
    },
    {
     "name": "stdout",
     "output_type": "stream",
     "text": [
      "3\n",
      "[  6.03757904e-05   9.97936354e-02   8.59195569e+02]\n",
      "[ -2.45164950e-04   1.51371819e-01  -5.41113168e+02]\n",
      "541.264785202\n"
     ]
    },
    {
     "name": "stderr",
     "output_type": "stream",
     "text": [
      "\n",
      "\n",
      "\n",
      "\n",
      "\n",
      "\n",
      "\n",
      "  5%|▌         | 68/1261 [00:10<03:24,  5.84it/s]\u001b[A\u001b[A\u001b[A\u001b[A\u001b[A\u001b[A\u001b[A\n",
      "\n",
      "\n",
      "\n",
      "\n",
      "\n",
      "\n",
      "  5%|▌         | 69/1261 [00:10<03:19,  5.98it/s]"
     ]
    },
    {
     "name": "stdout",
     "output_type": "stream",
     "text": [
      "3\n",
      "[  1.48575386e-04  -3.35494229e-03   8.85352036e+02]\n",
      "[ -3.24522216e-04   2.46818360e-01  -5.65095749e+02]\n",
      "565.342892086\n"
     ]
    },
    {
     "name": "stderr",
     "output_type": "stream",
     "text": [
      "\u001b[A\u001b[A\u001b[A\u001b[A\u001b[A\u001b[A\u001b[A\n",
      "\n",
      "\n",
      "\n",
      "\n",
      "\n",
      "\n",
      "  6%|▌         | 70/1261 [00:10<03:21,  5.91it/s]"
     ]
    },
    {
     "name": "stdout",
     "output_type": "stream",
     "text": [
      "3\n",
      "[ -1.57167261e-04   2.98367234e-01   8.17284657e+02]\n",
      "[ -1.71554250e-05  -5.37499172e-02  -4.99978582e+02]\n",
      "500.032349238\n"
     ]
    },
    {
     "name": "stderr",
     "output_type": "stream",
     "text": [
      "\u001b[A\u001b[A\u001b[A\u001b[A\u001b[A\u001b[A\u001b[A\n",
      "\n",
      "\n",
      "\n",
      "\n",
      "\n",
      "\n",
      "  6%|▌         | 71/1261 [00:10<03:19,  5.96it/s]"
     ]
    },
    {
     "name": "stdout",
     "output_type": "stream",
     "text": [
      "3\n",
      "[  6.26175063e-04  -4.54111359e-01   9.95978560e+02]\n",
      "[ -7.94918031e-04   6.93208999e-01  -6.77170419e+02]\n",
      "677.864423282\n"
     ]
    },
    {
     "name": "stderr",
     "output_type": "stream",
     "text": [
      "\u001b[A\u001b[A\u001b[A\u001b[A\u001b[A\u001b[A\u001b[A\n",
      "\n",
      "\n",
      "\n",
      "\n",
      "\n",
      "\n",
      "  6%|▌         | 72/1261 [00:10<03:15,  6.09it/s]"
     ]
    },
    {
     "name": "stdout",
     "output_type": "stream",
     "text": [
      "3\n",
      "[ -1.02728722e-04   2.43554913e-01   8.32138973e+02]\n",
      "[ -3.78128907e-05  -2.32234841e-02  -5.13216992e+02]\n",
      "513.240253722\n"
     ]
    },
    {
     "name": "stderr",
     "output_type": "stream",
     "text": [
      "\u001b[A\u001b[A\u001b[A\u001b[A\u001b[A\u001b[A\u001b[A"
     ]
    },
    {
     "name": "stdout",
     "output_type": "stream",
     "text": [
      "3\n",
      "[ -3.83946694e-05   1.95729073e-01   8.40449408e+02]\n",
      "[ -1.07317426e-04   3.15572899e-02  -5.24554917e+02]\n",
      "524.586581966\n"
     ]
    },
    {
     "name": "stderr",
     "output_type": "stream",
     "text": [
      "\n",
      "\n",
      "\n",
      "\n",
      "\n",
      "\n",
      "\n",
      "  6%|▌         | 73/1261 [00:11<03:20,  5.94it/s]\u001b[A\u001b[A\u001b[A\u001b[A\u001b[A\u001b[A\u001b[A\n",
      "\n",
      "\n",
      "\n",
      "\n",
      "\n",
      "\n",
      "  6%|▌         | 74/1261 [00:11<03:13,  6.13it/s]"
     ]
    },
    {
     "name": "stdout",
     "output_type": "stream",
     "text": [
      "3\n",
      "[ -3.22347690e-05   1.82677438e-01   8.44396805e+02]\n",
      "[ -9.40483551e-05   2.98741016e-02  -5.26998535e+02]\n",
      "527.028503381\n"
     ]
    },
    {
     "name": "stderr",
     "output_type": "stream",
     "text": [
      "\u001b[A\u001b[A\u001b[A\u001b[A\u001b[A\u001b[A\u001b[A\n",
      "\n",
      "\n",
      "\n",
      "\n",
      "\n",
      "\n",
      "  6%|▌         | 75/1261 [00:11<03:16,  6.04it/s]"
     ]
    },
    {
     "name": "stdout",
     "output_type": "stream",
     "text": [
      "3\n",
      "[ -7.64705014e-05   2.11690087e-01   8.43182284e+02]\n",
      "[ -4.35512423e-05  -3.62457023e-03  -5.27447110e+02]\n",
      "527.450778458\n"
     ]
    },
    {
     "name": "stderr",
     "output_type": "stream",
     "text": [
      "\u001b[A\u001b[A\u001b[A\u001b[A\u001b[A\u001b[A\u001b[A\n",
      "\n",
      "\n",
      "\n",
      "\n",
      "\n",
      "\n",
      "  6%|▌         | 76/1261 [00:11<03:17,  6.01it/s]"
     ]
    },
    {
     "name": "stdout",
     "output_type": "stream",
     "text": [
      "3\n",
      "[ -4.19750405e-05   1.81027297e-01   8.48256217e+02]\n",
      "[ -7.50521016e-05   2.32545434e-02  -5.31419101e+02]\n",
      "531.442430655\n"
     ]
    },
    {
     "name": "stderr",
     "output_type": "stream",
     "text": [
      "\u001b[A\u001b[A\u001b[A\u001b[A\u001b[A\u001b[A\u001b[A"
     ]
    },
    {
     "name": "stdout",
     "output_type": "stream",
     "text": [
      "3\n",
      "[ -1.77591367e-04   2.93274300e-01   8.33072479e+02]\n",
      "[  6.37894609e-05  -8.80271678e-02  -5.21118073e+02]\n",
      "521.206163972\n"
     ]
    },
    {
     "name": "stderr",
     "output_type": "stream",
     "text": [
      "\n",
      "\n",
      "\n",
      "\n",
      "\n",
      "\n",
      "\n",
      "  6%|▌         | 77/1261 [00:11<03:18,  5.96it/s]\u001b[A\u001b[A\u001b[A\u001b[A\u001b[A\u001b[A\u001b[A"
     ]
    },
    {
     "name": "stdout",
     "output_type": "stream",
     "text": [
      "3\n",
      "[ -3.82486567e-05   1.62773753e-01   8.60974407e+02]\n",
      "[ -3.35002111e-05   6.08196178e-03  -5.43736777e+02]\n",
      "543.742892392\n"
     ]
    },
    {
     "name": "stderr",
     "output_type": "stream",
     "text": [
      "\n",
      "\n",
      "\n",
      "\n",
      "\n",
      "\n",
      "\n",
      "  6%|▌         | 78/1261 [00:11<03:20,  5.91it/s]\u001b[A\u001b[A\u001b[A\u001b[A\u001b[A\u001b[A\u001b[A\n",
      "\n",
      "\n",
      "\n",
      "\n",
      "\n",
      "\n",
      "  6%|▋         | 79/1261 [00:12<03:19,  5.91it/s]"
     ]
    },
    {
     "name": "stdout",
     "output_type": "stream",
     "text": [
      "3\n",
      "[ -2.19028530e-06   1.16003358e-01   8.75447728e+02]\n",
      "[ -7.46081680e-05   5.29729190e-02  -5.58825951e+02]\n",
      "558.878998153\n"
     ]
    },
    {
     "name": "stderr",
     "output_type": "stream",
     "text": [
      "\u001b[A\u001b[A\u001b[A\u001b[A\u001b[A\u001b[A\u001b[A\n",
      "\n",
      "\n",
      "\n",
      "\n",
      "\n",
      "\n",
      "  6%|▋         | 80/1261 [00:12<03:17,  5.99it/s]"
     ]
    },
    {
     "name": "stdout",
     "output_type": "stream",
     "text": [
      "3\n",
      "[ -1.13662571e-05   1.19278975e-01   8.75924399e+02]\n",
      "[ -4.87397816e-05   3.14108941e-02  -5.55674329e+02]\n",
      "555.705788571\n"
     ]
    },
    {
     "name": "stderr",
     "output_type": "stream",
     "text": [
      "\u001b[A\u001b[A\u001b[A\u001b[A\u001b[A\u001b[A\u001b[A"
     ]
    },
    {
     "name": "stdout",
     "output_type": "stream",
     "text": [
      "3\n",
      "[  6.10824401e-05   4.15419871e-02   8.93166143e+02]\n",
      "[ -1.42978526e-04   1.21201587e-01  -5.73148940e+02]\n",
      "573.270284575\n"
     ]
    },
    {
     "name": "stderr",
     "output_type": "stream",
     "text": [
      "\n",
      "\n",
      "\n",
      "\n",
      "\n",
      "\n",
      "\n",
      "  6%|▋         | 81/1261 [00:12<03:21,  5.85it/s]\u001b[A\u001b[A\u001b[A\u001b[A\u001b[A\u001b[A\u001b[A"
     ]
    },
    {
     "name": "stdout",
     "output_type": "stream",
     "text": [
      "3\n",
      "[  4.59655327e-05   4.56195232e-02   8.96921130e+02]\n",
      "[ -1.36094158e-04   1.21555863e-01  -5.78745985e+02]\n",
      "578.867676483\n"
     ]
    },
    {
     "name": "stderr",
     "output_type": "stream",
     "text": [
      "\n",
      "\n",
      "\n",
      "\n",
      "\n",
      "\n",
      "\n",
      "  7%|▋         | 82/1261 [00:12<03:20,  5.87it/s]\u001b[A\u001b[A\u001b[A\u001b[A\u001b[A\u001b[A\u001b[A"
     ]
    },
    {
     "name": "stdout",
     "output_type": "stream",
     "text": [
      "3\n",
      "[  2.56085520e-04  -1.27226908e-01   9.34021579e+02]\n",
      "[ -3.51772791e-04   2.95852047e-01  -6.15884822e+02]\n",
      "616.181026006\n"
     ]
    },
    {
     "name": "stderr",
     "output_type": "stream",
     "text": [
      "\n",
      "\n",
      "\n",
      "\n",
      "\n",
      "\n",
      "\n",
      "  7%|▋         | 83/1261 [00:12<03:23,  5.79it/s]\u001b[A\u001b[A\u001b[A\u001b[A\u001b[A\u001b[A\u001b[A\n",
      "\n",
      "\n",
      "\n",
      "\n",
      "\n",
      "\n",
      "  7%|▋         | 84/1261 [00:12<03:17,  5.95it/s]"
     ]
    },
    {
     "name": "stdout",
     "output_type": "stream",
     "text": [
      "3\n",
      "[  2.89306365e-04  -1.91368661e-01   9.62439323e+02]\n",
      "[ -3.82402032e-04   3.58754577e-01  -6.48073788e+02]\n",
      "648.432925369\n"
     ]
    },
    {
     "name": "stderr",
     "output_type": "stream",
     "text": [
      "\u001b[A\u001b[A\u001b[A\u001b[A\u001b[A\u001b[A\u001b[A\n",
      "\n",
      "\n",
      "\n",
      "\n",
      "\n",
      "\n",
      "  7%|▋         | 85/1261 [00:13<03:16,  5.98it/s]"
     ]
    },
    {
     "name": "stdout",
     "output_type": "stream",
     "text": [
      "3\n",
      "[  2.74132236e-04  -1.97037914e-01   9.70004136e+02]\n",
      "[ -3.82235110e-04   3.73350833e-01  -6.55751020e+02]\n",
      "656.124752716\n"
     ]
    },
    {
     "name": "stderr",
     "output_type": "stream",
     "text": [
      "\u001b[A\u001b[A\u001b[A\u001b[A\u001b[A\u001b[A\u001b[A"
     ]
    },
    {
     "name": "stdout",
     "output_type": "stream",
     "text": [
      "3\n",
      "[ -1.60538398e-04   2.64163426e-01   8.49676830e+02]\n",
      "[  4.31616468e-05  -8.35731212e-02  -5.34599993e+02]\n",
      "534.683609412\n"
     ]
    },
    {
     "name": "stderr",
     "output_type": "stream",
     "text": [
      "\n",
      "\n",
      "\n",
      "\n",
      "\n",
      "\n",
      "\n",
      "  7%|▋         | 86/1261 [00:13<03:18,  5.93it/s]\u001b[A\u001b[A\u001b[A\u001b[A\u001b[A\u001b[A\u001b[A\n",
      "\n",
      "\n",
      "\n",
      "\n",
      "\n",
      "\n",
      "  7%|▋         | 87/1261 [00:13<03:18,  5.91it/s]"
     ]
    },
    {
     "name": "stdout",
     "output_type": "stream",
     "text": [
      "3\n",
      "[ -1.31652838e-04   2.54377871e-01   8.42018786e+02]\n",
      "[ -1.76913059e-05  -5.77919290e-02  -5.22034814e+02]\n",
      "522.092623349\n"
     ]
    },
    {
     "name": "stderr",
     "output_type": "stream",
     "text": [
      "\u001b[A\u001b[A\u001b[A\u001b[A\u001b[A\u001b[A\u001b[A"
     ]
    },
    {
     "name": "stdout",
     "output_type": "stream",
     "text": [
      "3\n",
      "[ -1.63760814e-04   2.97617431e-01   8.24481954e+02]\n",
      "[ -3.19825931e-08  -9.47144600e-02  -5.00752487e+02]\n",
      "500.847201868\n"
     ]
    },
    {
     "name": "stderr",
     "output_type": "stream",
     "text": [
      "\n",
      "\n",
      "\n",
      "\n",
      "\n",
      "\n",
      "\n",
      "  7%|▋         | 88/1261 [00:13<03:23,  5.77it/s]\u001b[A\u001b[A\u001b[A\u001b[A\u001b[A\u001b[A\u001b[A\n",
      "\n",
      "\n",
      "\n",
      "\n",
      "\n",
      "\n",
      "  7%|▋         | 89/1261 [00:13<03:17,  5.93it/s]"
     ]
    },
    {
     "name": "stdout",
     "output_type": "stream",
     "text": [
      "3\n",
      "[ -1.81214630e-04   3.19391339e-01   8.15902016e+02]\n",
      "[ -1.00456125e-05  -9.86876441e-02  -4.91257286e+02]\n",
      "491.35598347\n"
     ]
    },
    {
     "name": "stderr",
     "output_type": "stream",
     "text": [
      "\u001b[A\u001b[A\u001b[A\u001b[A\u001b[A\u001b[A\u001b[A\n",
      "\n",
      "\n",
      "\n",
      "\n",
      "\n",
      "\n",
      "  7%|▋         | 90/1261 [00:13<03:18,  5.89it/s]"
     ]
    },
    {
     "name": "stdout",
     "output_type": "stream",
     "text": [
      "3\n",
      "[ -7.74697444e-05   2.40550674e-01   8.22313636e+02]\n",
      "[ -1.32131013e-04  -9.63427490e-03  -4.94063713e+02]\n",
      "494.073479752\n"
     ]
    },
    {
     "name": "stderr",
     "output_type": "stream",
     "text": [
      "\u001b[A\u001b[A\u001b[A\u001b[A\u001b[A\u001b[A\u001b[A"
     ]
    },
    {
     "name": "stdout",
     "output_type": "stream",
     "text": [
      "3\n",
      "[ -1.14351124e-04   2.61791393e-01   8.24522744e+02]\n",
      "[ -8.66095053e-05  -3.73430541e-02  -4.95799912e+02]\n",
      "495.837341725\n"
     ]
    },
    {
     "name": "stderr",
     "output_type": "stream",
     "text": [
      "\n",
      "\n",
      "\n",
      "\n",
      "\n",
      "\n",
      "\n",
      "  7%|▋         | 91/1261 [00:14<03:17,  5.91it/s]\u001b[A\u001b[A\u001b[A\u001b[A\u001b[A\u001b[A\u001b[A\n",
      "\n",
      "\n",
      "\n",
      "\n",
      "\n",
      "\n",
      "  7%|▋         | 92/1261 [00:14<03:17,  5.93it/s]"
     ]
    },
    {
     "name": "stdout",
     "output_type": "stream",
     "text": [
      "3\n",
      "[ -1.11830829e-04   2.51192377e-01   8.29982145e+02]\n",
      "[ -7.55429369e-05  -3.64959819e-02  -4.99898589e+02]\n",
      "499.93516093\n"
     ]
    },
    {
     "name": "stderr",
     "output_type": "stream",
     "text": [
      "\u001b[A\u001b[A\u001b[A\u001b[A\u001b[A\u001b[A\u001b[A\n",
      "\n",
      "\n",
      "\n",
      "\n",
      "\n",
      "\n",
      "  7%|▋         | 93/1261 [00:14<03:18,  5.89it/s]"
     ]
    },
    {
     "name": "stdout",
     "output_type": "stream",
     "text": [
      "3\n",
      "[ -1.15197493e-04   2.57088126e-01   8.26076843e+02]\n",
      "[ -9.08967243e-05  -3.06110318e-02  -4.94884162e+02]\n",
      "494.914864182\n"
     ]
    },
    {
     "name": "stderr",
     "output_type": "stream",
     "text": [
      "\u001b[A\u001b[A\u001b[A\u001b[A\u001b[A\u001b[A\u001b[A"
     ]
    },
    {
     "name": "stdout",
     "output_type": "stream",
     "text": [
      "3\n",
      "[  1.70469463e-04  -5.46477553e-02   9.03842832e+02]\n",
      "[ -3.79216546e-04   2.85656672e-01  -5.72828347e+02]\n",
      "573.114382546\n"
     ]
    },
    {
     "name": "stderr",
     "output_type": "stream",
     "text": [
      "\n",
      "\n",
      "\n",
      "\n",
      "\n",
      "\n",
      "\n",
      "  7%|▋         | 94/1261 [00:14<03:23,  5.73it/s]\u001b[A\u001b[A\u001b[A\u001b[A\u001b[A\u001b[A\u001b[A"
     ]
    },
    {
     "name": "stdout",
     "output_type": "stream",
     "text": [
      "3\n",
      "[ -8.83819534e-05   2.13956754e-01   8.40734758e+02]\n",
      "[ -1.16868892e-04   1.65869518e-02  -5.11487582e+02]\n",
      "511.504285557\n"
     ]
    },
    {
     "name": "stderr",
     "output_type": "stream",
     "text": [
      "\n",
      "\n",
      "\n",
      "\n",
      "\n",
      "\n",
      "\n",
      "  8%|▊         | 95/1261 [00:14<03:22,  5.77it/s]\u001b[A\u001b[A\u001b[A\u001b[A\u001b[A\u001b[A\u001b[A"
     ]
    },
    {
     "name": "stdout",
     "output_type": "stream",
     "text": [
      "3\n",
      "[ -2.79390188e-04   3.74805959e-01   8.08280031e+02]\n",
      "[  7.94547800e-05  -1.47050880e-01  -4.79012432e+02]\n",
      "479.159562313\n"
     ]
    },
    {
     "name": "stderr",
     "output_type": "stream",
     "text": [
      "\n",
      "\n",
      "\n",
      "\n",
      "\n",
      "\n",
      "\n",
      "  8%|▊         | 96/1261 [00:14<03:18,  5.86it/s]\u001b[A\u001b[A\u001b[A\u001b[A\u001b[A\u001b[A\u001b[A\n",
      "\n",
      "\n",
      "\n",
      "\n",
      "\n",
      "\n",
      "  8%|▊         | 97/1261 [00:15<03:18,  5.88it/s]"
     ]
    },
    {
     "name": "stdout",
     "output_type": "stream",
     "text": [
      "3\n",
      "[ -2.61099151e-04   3.55926118e-01   8.13418681e+02]\n",
      "[  8.65909000e-05  -1.45733574e-01  -4.81541622e+02]\n",
      "481.687442405\n"
     ]
    },
    {
     "name": "stderr",
     "output_type": "stream",
     "text": [
      "\u001b[A\u001b[A\u001b[A\u001b[A\u001b[A\u001b[A\u001b[A\n",
      "\n",
      "\n",
      "\n",
      "\n",
      "\n",
      "\n",
      "  8%|▊         | 98/1261 [00:15<03:16,  5.91it/s]"
     ]
    },
    {
     "name": "stdout",
     "output_type": "stream",
     "text": [
      "3\n",
      "[ -2.52163063e-04   3.50513544e-01   8.17598471e+02]\n",
      "[  6.78121398e-05  -1.31408637e-01  -4.88507120e+02]\n",
      "488.63859654\n"
     ]
    },
    {
     "name": "stderr",
     "output_type": "stream",
     "text": [
      "\u001b[A\u001b[A\u001b[A\u001b[A\u001b[A\u001b[A\u001b[A\n",
      "\n",
      "\n",
      "\n",
      "\n",
      "\n",
      "\n",
      "  8%|▊         | 99/1261 [00:15<03:13,  6.00it/s]"
     ]
    },
    {
     "name": "stdout",
     "output_type": "stream",
     "text": [
      "3\n",
      "[ -2.12951751e-04   3.32479543e-01   8.15151447e+02]\n",
      "[  3.04275647e-05  -1.11252999e-01  -4.86035179e+02]\n",
      "486.146462406\n"
     ]
    },
    {
     "name": "stderr",
     "output_type": "stream",
     "text": [
      "\u001b[A\u001b[A\u001b[A\u001b[A\u001b[A\u001b[A\u001b[A"
     ]
    },
    {
     "name": "stdout",
     "output_type": "stream",
     "text": [
      "3\n",
      "[ -1.67684638e-04   2.88566460e-01   8.27051286e+02]\n",
      "[  4.79414689e-06  -8.11994009e-02  -4.96896265e+02]\n",
      "496.977469094\n"
     ]
    },
    {
     "name": "stderr",
     "output_type": "stream",
     "text": [
      "\n",
      "\n",
      "\n",
      "\n",
      "\n",
      "\n",
      "\n",
      "  8%|▊         | 100/1261 [00:15<03:20,  5.79it/s]\u001b[A\u001b[A\u001b[A\u001b[A\u001b[A\u001b[A\u001b[A"
     ]
    },
    {
     "name": "stdout",
     "output_type": "stream",
     "text": [
      "3\n",
      "[ -1.94280660e-04   3.08299246e-01   8.24641194e+02]\n",
      "[  3.18139877e-05  -1.00047434e-01  -4.93920316e+02]\n",
      "494.020394752\n"
     ]
    },
    {
     "name": "stderr",
     "output_type": "stream",
     "text": [
      "\n",
      "\n",
      "\n",
      "\n",
      "\n",
      "\n",
      "\n",
      "  8%|▊         | 101/1261 [00:15<03:22,  5.73it/s]\u001b[A\u001b[A\u001b[A\u001b[A\u001b[A\u001b[A\u001b[A\n",
      "\n",
      "\n",
      "\n",
      "\n",
      "\n",
      "\n",
      "  8%|▊         | 102/1261 [00:16<03:19,  5.81it/s]"
     ]
    },
    {
     "name": "stdout",
     "output_type": "stream",
     "text": [
      "3\n",
      "[ -2.15906641e-04   3.33189060e-01   8.16550407e+02]\n",
      "[  3.33960215e-05  -1.08681880e-01  -4.86821697e+02]\n",
      "486.930412752\n"
     ]
    },
    {
     "name": "stderr",
     "output_type": "stream",
     "text": [
      "\u001b[A\u001b[A\u001b[A\u001b[A\u001b[A\u001b[A\u001b[A\n",
      "\n",
      "\n",
      "\n",
      "\n",
      "\n",
      "\n",
      "  8%|▊         | 103/1261 [00:16<03:17,  5.87it/s]"
     ]
    },
    {
     "name": "stdout",
     "output_type": "stream",
     "text": [
      "3\n",
      "[ -1.73473433e-04   2.88985886e-01   8.29389268e+02]\n",
      "[ -1.12154096e-05  -6.34003507e-02  -4.99209351e+02]\n",
      "499.272762402\n"
     ]
    },
    {
     "name": "stderr",
     "output_type": "stream",
     "text": [
      "\u001b[A\u001b[A\u001b[A\u001b[A\u001b[A\u001b[A\u001b[A\n",
      "\n",
      "\n",
      "\n",
      "\n",
      "\n",
      "\n",
      "  8%|▊         | 104/1261 [00:16<03:15,  5.93it/s]"
     ]
    },
    {
     "name": "stdout",
     "output_type": "stream",
     "text": [
      "3\n",
      "[ -1.19054603e-04   2.35315305e-01   8.41707396e+02]\n",
      "[ -7.68069895e-05  -1.70339514e-03  -5.11519298e+02]\n",
      "511.521078685\n"
     ]
    },
    {
     "name": "stderr",
     "output_type": "stream",
     "text": [
      "\u001b[A\u001b[A\u001b[A\u001b[A\u001b[A\u001b[A\u001b[A\n",
      "\n",
      "\n",
      "\n",
      "\n",
      "\n",
      "\n",
      "  8%|▊         | 105/1261 [00:16<03:14,  5.94it/s]"
     ]
    },
    {
     "name": "stdout",
     "output_type": "stream",
     "text": [
      "3\n",
      "[ -6.90845831e-05   1.71578094e-01   8.64883620e+02]\n",
      "[ -1.08129604e-04   4.83084096e-02  -5.35021812e+02]\n",
      "535.070228048\n"
     ]
    },
    {
     "name": "stderr",
     "output_type": "stream",
     "text": [
      "\u001b[A\u001b[A\u001b[A\u001b[A\u001b[A\u001b[A\u001b[A"
     ]
    },
    {
     "name": "stdout",
     "output_type": "stream",
     "text": [
      "3\n",
      "[ -2.43118147e-05   1.17666644e-01   8.82612976e+02]\n",
      "[ -1.41952316e-04   9.56186949e-02  -5.52955767e+02]\n",
      "553.051527612\n"
     ]
    },
    {
     "name": "stderr",
     "output_type": "stream",
     "text": [
      "\n",
      "\n",
      "\n",
      "\n",
      "\n",
      "\n",
      "\n",
      "  8%|▊         | 106/1261 [00:16<03:16,  5.88it/s]\u001b[A\u001b[A\u001b[A\u001b[A\u001b[A\u001b[A\u001b[A"
     ]
    },
    {
     "name": "stdout",
     "output_type": "stream",
     "text": [
      "3\n",
      "[  2.75736578e-06   7.58469208e-02   9.00546279e+02]\n",
      "[ -1.90018655e-04   1.56754311e-01  -5.75218796e+02]\n",
      "575.375740121\n"
     ]
    },
    {
     "name": "stderr",
     "output_type": "stream",
     "text": [
      "\n",
      "\n",
      "\n",
      "\n",
      "\n",
      "\n",
      "\n",
      "  8%|▊         | 107/1261 [00:16<03:17,  5.85it/s]\u001b[A\u001b[A\u001b[A\u001b[A\u001b[A\u001b[A\u001b[A\n",
      "\n",
      "\n",
      "\n",
      "\n",
      "\n",
      "\n",
      "  9%|▊         | 108/1261 [00:16<03:06,  6.19it/s]"
     ]
    },
    {
     "name": "stdout",
     "output_type": "stream",
     "text": [
      "3\n",
      "[  1.70544175e-04  -5.25046340e-02   9.23856985e+02]\n",
      "[ -3.84021206e-04   3.03860410e-01  -5.97766428e+02]\n",
      "598.070671953\n"
     ]
    },
    {
     "name": "stderr",
     "output_type": "stream",
     "text": [
      "\u001b[A\u001b[A\u001b[A\u001b[A\u001b[A\u001b[A\u001b[A\n",
      "\n",
      "\n",
      "\n",
      "\n",
      "\n",
      "\n",
      "  9%|▊         | 109/1261 [00:17<03:06,  6.17it/s]"
     ]
    },
    {
     "name": "stdout",
     "output_type": "stream",
     "text": [
      "3\n",
      "[  2.18961799e-04  -1.08976172e-01   9.40773710e+02]\n",
      "[ -4.33134804e-04   3.60878989e-01  -6.14483222e+02]\n",
      "614.844534007\n"
     ]
    },
    {
     "name": "stderr",
     "output_type": "stream",
     "text": [
      "\u001b[A\u001b[A\u001b[A\u001b[A\u001b[A\u001b[A\u001b[A"
     ]
    },
    {
     "name": "stdout",
     "output_type": "stream",
     "text": [
      "3\n",
      "[  2.76484884e-04  -1.90309551e-01   9.68609181e+02]\n",
      "[ -4.88329886e-04   4.40220787e-01  -6.41439998e+02]\n",
      "641.880706809\n"
     ]
    },
    {
     "name": "stderr",
     "output_type": "stream",
     "text": [
      "\n",
      "\n",
      "\n",
      "\n",
      "\n",
      "\n",
      "\n",
      "  9%|▊         | 110/1261 [00:17<03:14,  5.91it/s]\u001b[A\u001b[A\u001b[A\u001b[A\u001b[A\u001b[A\u001b[A"
     ]
    },
    {
     "name": "stdout",
     "output_type": "stream",
     "text": [
      "3\n",
      "[  2.22924623e-04  -1.46520626e-01   9.60668677e+02]\n",
      "[ -4.50536643e-04   4.09740183e-01  -6.34572524e+02]\n",
      "634.982714696\n"
     ]
    },
    {
     "name": "stderr",
     "output_type": "stream",
     "text": [
      "\n",
      "\n",
      "\n",
      "\n",
      "\n",
      "\n",
      "\n",
      "  9%|▉         | 111/1261 [00:17<03:14,  5.91it/s]\u001b[A\u001b[A\u001b[A\u001b[A\u001b[A\u001b[A\u001b[A\n",
      "\n",
      "\n",
      "\n",
      "\n",
      "\n",
      "\n",
      "  9%|▉         | 112/1261 [00:17<03:14,  5.92it/s]"
     ]
    },
    {
     "name": "stdout",
     "output_type": "stream",
     "text": [
      "3\n",
      "[  7.98742416e-05  -2.34546531e-02   9.40545048e+02]\n",
      "[ -2.82426395e-04   2.69437088e-01  -6.14265257e+02]\n",
      "614.534976644\n"
     ]
    },
    {
     "name": "stderr",
     "output_type": "stream",
     "text": [
      "\u001b[A\u001b[A\u001b[A\u001b[A\u001b[A\u001b[A\u001b[A\n",
      "\n",
      "\n",
      "\n",
      "\n",
      "\n",
      "\n",
      "  9%|▉         | 113/1261 [00:17<03:14,  5.91it/s]"
     ]
    },
    {
     "name": "stdout",
     "output_type": "stream",
     "text": [
      "3\n",
      "[ -2.46806449e-04   3.35422496e-01   8.40813869e+02]\n",
      "[  2.89139777e-05  -7.77073840e-02  -5.13734466e+02]\n",
      "513.812201873\n"
     ]
    },
    {
     "name": "stderr",
     "output_type": "stream",
     "text": [
      "\u001b[A\u001b[A\u001b[A\u001b[A\u001b[A\u001b[A\u001b[A\n",
      "\n",
      "\n",
      "\n",
      "\n",
      "\n",
      "\n",
      "  9%|▉         | 114/1261 [00:18<03:10,  6.02it/s]"
     ]
    },
    {
     "name": "stdout",
     "output_type": "stream",
     "text": [
      "3\n",
      "[ -2.02382714e-04   3.02480652e-01   8.46059164e+02]\n",
      "[ -2.52875145e-05  -3.68535017e-02  -5.19224017e+02]\n",
      "519.260895656\n"
     ]
    },
    {
     "name": "stderr",
     "output_type": "stream",
     "text": [
      "\u001b[A\u001b[A\u001b[A\u001b[A\u001b[A\u001b[A\u001b[A"
     ]
    },
    {
     "name": "stdout",
     "output_type": "stream",
     "text": [
      "3\n",
      "[ -8.02168059e-05   1.97665167e-01   8.63700312e+02]\n",
      "[ -1.62511044e-04   7.80263695e-02  -5.35405643e+02]\n",
      "535.483832233\n"
     ]
    },
    {
     "name": "stderr",
     "output_type": "stream",
     "text": [
      "\n",
      "\n",
      "\n",
      "\n",
      "\n",
      "\n",
      "\n",
      "  9%|▉         | 115/1261 [00:18<03:14,  5.91it/s]\u001b[A\u001b[A\u001b[A\u001b[A\u001b[A\u001b[A\u001b[A\n",
      "\n",
      "\n",
      "\n",
      "\n",
      "\n",
      "\n",
      "  9%|▉         | 116/1261 [00:18<03:12,  5.96it/s]"
     ]
    },
    {
     "name": "stdout",
     "output_type": "stream",
     "text": [
      "3\n",
      "[ -5.08549190e-05   1.77249967e-01   8.63117388e+02]\n",
      "[ -2.04352163e-04   1.10686984e-01  -5.36588157e+02]\n",
      "536.699048026\n"
     ]
    },
    {
     "name": "stderr",
     "output_type": "stream",
     "text": [
      "\u001b[A\u001b[A\u001b[A\u001b[A\u001b[A\u001b[A\u001b[A\n",
      "\n",
      "\n",
      "\n",
      "\n",
      "\n",
      "\n",
      "  9%|▉         | 117/1261 [00:18<03:08,  6.06it/s]"
     ]
    },
    {
     "name": "stdout",
     "output_type": "stream",
     "text": [
      "3\n",
      "[ -1.02583031e-04   2.19600221e-01   8.57147529e+02]\n",
      "[ -1.52824092e-04   6.78886474e-02  -5.30639953e+02]\n",
      "530.707994056\n"
     ]
    },
    {
     "name": "stderr",
     "output_type": "stream",
     "text": [
      "\u001b[A\u001b[A\u001b[A\u001b[A\u001b[A\u001b[A\u001b[A\n",
      "\n",
      "\n",
      "\n",
      "\n",
      "\n",
      "\n",
      "  9%|▉         | 118/1261 [00:18<03:09,  6.02it/s]"
     ]
    },
    {
     "name": "stdout",
     "output_type": "stream",
     "text": [
      "3\n",
      "[ -4.90407077e-05   1.60752197e-01   8.71908685e+02]\n",
      "[ -2.11190864e-04   1.33083086e-01  -5.46766060e+02]\n",
      "546.899354596\n"
     ]
    },
    {
     "name": "stderr",
     "output_type": "stream",
     "text": [
      "\u001b[A\u001b[A\u001b[A\u001b[A\u001b[A\u001b[A\u001b[A"
     ]
    },
    {
     "name": "stdout",
     "output_type": "stream",
     "text": [
      "3\n",
      "[ -2.81355477e-05   1.32720022e-01   8.80899301e+02]\n",
      "[ -2.29939504e-04   1.61664839e-01  -5.56106337e+02]\n",
      "556.268231993\n"
     ]
    },
    {
     "name": "stderr",
     "output_type": "stream",
     "text": [
      "\n",
      "\n",
      "\n",
      "\n",
      "\n",
      "\n",
      "\n",
      "  9%|▉         | 119/1261 [00:18<03:17,  5.77it/s]\u001b[A\u001b[A\u001b[A\u001b[A\u001b[A\u001b[A\u001b[A\n",
      "\n",
      "\n",
      "\n",
      "\n",
      "\n",
      "\n",
      " 10%|▉         | 120/1261 [00:19<03:12,  5.93it/s]"
     ]
    },
    {
     "name": "stdout",
     "output_type": "stream",
     "text": [
      "3\n",
      "[ -7.89798093e-05   1.88480138e-01   8.65486857e+02]\n",
      "[ -1.70056728e-04   1.01266787e-01  -5.38616892e+02]\n",
      "538.718328895\n"
     ]
    },
    {
     "name": "stderr",
     "output_type": "stream",
     "text": [
      "\u001b[A\u001b[A\u001b[A\u001b[A\u001b[A\u001b[A\u001b[A\n",
      "\n",
      "\n",
      "\n",
      "\n",
      "\n",
      "\n",
      " 10%|▉         | 121/1261 [00:19<03:07,  6.08it/s]"
     ]
    },
    {
     "name": "stdout",
     "output_type": "stream",
     "text": [
      "3\n",
      "[  2.84854879e-04  -1.55830366e-01   9.49258570e+02]\n",
      "[ -5.35102299e-04   4.49720003e-01  -6.24092791e+02]\n",
      "624.543046409\n"
     ]
    },
    {
     "name": "stderr",
     "output_type": "stream",
     "text": [
      "\u001b[A\u001b[A\u001b[A\u001b[A\u001b[A\u001b[A\u001b[A"
     ]
    },
    {
     "name": "stdout",
     "output_type": "stream",
     "text": [
      "3\n",
      "[  2.23300534e-04  -1.07522540e-01   9.40942333e+02]\n",
      "[ -4.64416320e-04   3.96885502e-01  -6.15230422e+02]\n",
      "615.627771487\n"
     ]
    },
    {
     "name": "stderr",
     "output_type": "stream",
     "text": [
      "\n",
      "\n",
      "\n",
      "\n",
      "\n",
      "\n",
      "\n",
      " 10%|▉         | 122/1261 [00:19<03:15,  5.83it/s]\u001b[A\u001b[A\u001b[A\u001b[A\u001b[A\u001b[A\u001b[A"
     ]
    },
    {
     "name": "stdout",
     "output_type": "stream",
     "text": [
      "3\n",
      "[ -2.04019494e-04   3.39139367e-01   8.23940835e+02]\n",
      "[ -5.58969086e-05  -3.41635929e-02  -4.99026725e+02]\n",
      "499.060944132\n"
     ]
    },
    {
     "name": "stderr",
     "output_type": "stream",
     "text": [
      "\n",
      "\n",
      "\n",
      "\n",
      "\n",
      "\n",
      "\n",
      " 10%|▉         | 123/1261 [00:19<03:18,  5.74it/s]\u001b[A\u001b[A\u001b[A\u001b[A\u001b[A\u001b[A\u001b[A\n",
      "\n",
      "\n",
      "\n",
      "\n",
      "\n",
      "\n",
      " 10%|▉         | 124/1261 [00:19<03:14,  5.84it/s]"
     ]
    },
    {
     "name": "stdout",
     "output_type": "stream",
     "text": [
      "3\n",
      "[  2.63650805e-04  -1.85190800e-01   9.69615042e+02]\n",
      "[ -5.09918014e-04   4.80178884e-01  -6.42824285e+02]\n",
      "643.30497372\n"
     ]
    },
    {
     "name": "stderr",
     "output_type": "stream",
     "text": [
      "\u001b[A\u001b[A\u001b[A\u001b[A\u001b[A\u001b[A\u001b[A\n",
      "\n",
      "\n",
      "\n",
      "\n",
      "\n",
      "\n",
      " 10%|▉         | 125/1261 [00:19<03:09,  5.99it/s]"
     ]
    },
    {
     "name": "stdout",
     "output_type": "stream",
     "text": [
      "3\n",
      "[ -2.73421016e-04   3.99571247e-01   8.11897940e+02]\n",
      "[  3.57525919e-05  -1.09439877e-01  -4.84385896e+02]\n",
      "484.495371467\n"
     ]
    },
    {
     "name": "stderr",
     "output_type": "stream",
     "text": [
      "\u001b[A\u001b[A\u001b[A\u001b[A\u001b[A\u001b[A\u001b[A"
     ]
    },
    {
     "name": "stdout",
     "output_type": "stream",
     "text": [
      "3\n",
      "[  3.96737248e-04  -3.67726089e-01   1.03489802e+03]\n",
      "[ -6.25228086e-04   6.55381835e-01  -7.10534600e+02]\n",
      "711.19060692\n"
     ]
    },
    {
     "name": "stderr",
     "output_type": "stream",
     "text": [
      "\n",
      "\n",
      "\n",
      "\n",
      "\n",
      "\n",
      "\n",
      " 10%|▉         | 126/1261 [00:20<03:12,  5.88it/s]\u001b[A\u001b[A\u001b[A\u001b[A\u001b[A\u001b[A\u001b[A"
     ]
    },
    {
     "name": "stdout",
     "output_type": "stream",
     "text": [
      "3\n",
      "[ -2.37213597e-04   3.73416969e-01   8.18989226e+02]\n",
      "[  1.17233442e-05  -8.59089405e-02  -4.94597247e+02]\n",
      "494.683167925\n"
     ]
    },
    {
     "name": "stderr",
     "output_type": "stream",
     "text": [
      "\n",
      "\n",
      "\n",
      "\n",
      "\n",
      "\n",
      "\n",
      " 10%|█         | 127/1261 [00:20<03:12,  5.88it/s]\u001b[A\u001b[A\u001b[A\u001b[A\u001b[A\u001b[A\u001b[A\n",
      "\n",
      "\n",
      "\n",
      "\n",
      "\n",
      "\n",
      " 10%|█         | 128/1261 [00:20<03:10,  5.96it/s]"
     ]
    },
    {
     "name": "stdout",
     "output_type": "stream",
     "text": [
      "3\n",
      "[ -2.16912130e-04   3.60361967e-01   8.21056547e+02]\n",
      "[  2.05014849e-05  -9.29963734e-02  -4.94884946e+02]\n",
      "494.977962934\n"
     ]
    },
    {
     "name": "stderr",
     "output_type": "stream",
     "text": [
      "\u001b[A\u001b[A\u001b[A\u001b[A\u001b[A\u001b[A\u001b[A\n",
      "\n",
      "\n",
      "\n",
      "\n",
      "\n",
      "\n",
      " 10%|█         | 129/1261 [00:20<03:09,  5.98it/s]"
     ]
    },
    {
     "name": "stdout",
     "output_type": "stream",
     "text": [
      "3\n",
      "[ -1.92544363e-04   3.55360392e-01   8.12205682e+02]\n",
      "[ -8.49364297e-06  -8.38914633e-02  -4.84472477e+02]\n",
      "484.556376723\n"
     ]
    },
    {
     "name": "stderr",
     "output_type": "stream",
     "text": [
      "\u001b[A\u001b[A\u001b[A\u001b[A\u001b[A\u001b[A\u001b[A"
     ]
    },
    {
     "name": "stdout",
     "output_type": "stream",
     "text": [
      "3\n",
      "[ -2.79472672e-04   4.36145726e-01   7.96049289e+02]\n",
      "[  7.58088549e-05  -1.64300151e-01  -4.68409120e+02]\n",
      "468.573495611\n"
     ]
    },
    {
     "name": "stderr",
     "output_type": "stream",
     "text": [
      "\n",
      "\n",
      "\n",
      "\n",
      "\n",
      "\n",
      "\n",
      " 10%|█         | 130/1261 [00:20<03:12,  5.88it/s]\u001b[A\u001b[A\u001b[A\u001b[A\u001b[A\u001b[A\u001b[A"
     ]
    },
    {
     "name": "stdout",
     "output_type": "stream",
     "text": [
      "3\n",
      "[ -3.32941790e-04   5.02259746e-01   7.76254266e+02]\n",
      "[  1.32844141e-04  -2.33694843e-01  -4.47614619e+02]\n",
      "447.848447133\n"
     ]
    },
    {
     "name": "stderr",
     "output_type": "stream",
     "text": [
      "\n",
      "\n",
      "\n",
      "\n",
      "\n",
      "\n",
      "\n",
      " 10%|█         | 131/1261 [00:20<03:12,  5.88it/s]\u001b[A\u001b[A\u001b[A\u001b[A\u001b[A\u001b[A\u001b[A"
     ]
    },
    {
     "name": "stdout",
     "output_type": "stream",
     "text": [
      "3\n",
      "[ -1.56516229e-04   3.10667295e-01   8.23161782e+02]\n",
      "[ -4.51351386e-05  -4.20317650e-02  -4.92543999e+02]\n",
      "492.586075479\n"
     ]
    },
    {
     "name": "stderr",
     "output_type": "stream",
     "text": [
      "\n",
      "\n",
      "\n",
      "\n",
      "\n",
      "\n",
      "\n",
      " 10%|█         | 132/1261 [00:21<03:17,  5.73it/s]\u001b[A\u001b[A\u001b[A\u001b[A\u001b[A\u001b[A\u001b[A\n",
      "\n",
      "\n",
      "\n",
      "\n",
      "\n",
      "\n",
      " 11%|█         | 133/1261 [00:21<03:11,  5.90it/s]"
     ]
    },
    {
     "name": "stdout",
     "output_type": "stream",
     "text": [
      "3\n",
      "[ -1.17108376e-04   2.45301990e-01   8.47135236e+02]\n",
      "[ -8.69151005e-05   2.68216568e-02  -5.17847797e+02]\n",
      "517.874705851\n"
     ]
    },
    {
     "name": "stderr",
     "output_type": "stream",
     "text": [
      "\u001b[A\u001b[A\u001b[A\u001b[A\u001b[A\u001b[A\u001b[A"
     ]
    },
    {
     "name": "stdout",
     "output_type": "stream",
     "text": [
      "3\n",
      "[  5.76155530e-06   1.42279090e-01   8.69269016e+02]\n",
      "[ -2.07456904e-04   1.28649274e-01  -5.39372083e+02]\n",
      "539.500940028\n"
     ]
    },
    {
     "name": "stderr",
     "output_type": "stream",
     "text": [
      "\n",
      "\n",
      "\n",
      "\n",
      "\n",
      "\n",
      "\n",
      " 11%|█         | 134/1261 [00:21<03:16,  5.73it/s]\u001b[A\u001b[A\u001b[A\u001b[A\u001b[A\u001b[A\u001b[A"
     ]
    },
    {
     "name": "stdout",
     "output_type": "stream",
     "text": [
      "3\n",
      "[  6.42029505e-05   6.70702933e-02   8.94223822e+02]\n",
      "[ -2.55564242e-04   1.97357192e-01  -5.63765374e+02]\n",
      "563.962986585\n"
     ]
    },
    {
     "name": "stderr",
     "output_type": "stream",
     "text": [
      "\n",
      "\n",
      "\n",
      "\n",
      "\n",
      "\n",
      "\n",
      " 11%|█         | 135/1261 [00:21<03:14,  5.79it/s]\u001b[A\u001b[A\u001b[A\u001b[A\u001b[A\u001b[A\u001b[A\n",
      "\n",
      "\n",
      "\n",
      "\n",
      "\n",
      "\n",
      " 11%|█         | 136/1261 [00:21<03:10,  5.90it/s]"
     ]
    },
    {
     "name": "stdout",
     "output_type": "stream",
     "text": [
      "3\n",
      "[  1.15554951e-04   2.82713725e-03   9.16683040e+02]\n",
      "[ -2.91318410e-04   2.47910159e-01  -5.83850007e+02]\n",
      "584.098208655\n"
     ]
    },
    {
     "name": "stderr",
     "output_type": "stream",
     "text": [
      "\u001b[A\u001b[A\u001b[A\u001b[A\u001b[A\u001b[A\u001b[A"
     ]
    },
    {
     "name": "stdout",
     "output_type": "stream",
     "text": [
      "3\n",
      "[ -8.93139920e-05   2.02933387e-01   8.70872666e+02]\n",
      "[ -7.54072787e-05   3.69612724e-02  -5.36669304e+02]\n",
      "536.706340802\n"
     ]
    },
    {
     "name": "stderr",
     "output_type": "stream",
     "text": [
      "\n",
      "\n",
      "\n",
      "\n",
      "\n",
      "\n",
      "\n",
      " 11%|█         | 137/1261 [00:21<03:18,  5.68it/s]\u001b[A\u001b[A\u001b[A\u001b[A\u001b[A\u001b[A\u001b[A"
     ]
    },
    {
     "name": "stdout",
     "output_type": "stream",
     "text": [
      "3\n",
      "[  6.80692852e-04  -6.48591417e-01   1.10955983e+03]\n",
      "[ -8.40317707e-04   8.84383941e-01  -7.75735139e+02]\n",
      "776.620363628\n"
     ]
    },
    {
     "name": "stderr",
     "output_type": "stream",
     "text": [
      "\n",
      "\n",
      "\n",
      "\n",
      "\n",
      "\n",
      "\n",
      " 11%|█         | 138/1261 [00:22<03:16,  5.72it/s]\u001b[A\u001b[A\u001b[A\u001b[A\u001b[A\u001b[A\u001b[A\n",
      "\n",
      "\n",
      "\n",
      "\n",
      "\n",
      "\n",
      " 11%|█         | 139/1261 [00:22<03:12,  5.83it/s]"
     ]
    },
    {
     "name": "stdout",
     "output_type": "stream",
     "text": [
      "3\n",
      "[ -1.48397145e-04   2.69187137e-01   8.57266819e+02]\n",
      "[ -9.69430364e-06  -3.39959931e-02  -5.24425372e+02]\n",
      "524.459377556\n"
     ]
    },
    {
     "name": "stderr",
     "output_type": "stream",
     "text": [
      "\u001b[A\u001b[A\u001b[A\u001b[A\u001b[A\u001b[A\u001b[A"
     ]
    },
    {
     "name": "stdout",
     "output_type": "stream",
     "text": [
      "3\n",
      "[ -9.80524185e-05   2.13669373e-01   8.74906140e+02]\n",
      "[ -6.02176838e-05   2.18711498e-02  -5.44425348e+02]\n",
      "544.447278941\n"
     ]
    },
    {
     "name": "stderr",
     "output_type": "stream",
     "text": [
      "\n",
      "\n",
      "\n",
      "\n",
      "\n",
      "\n",
      "\n",
      " 11%|█         | 140/1261 [00:22<03:11,  5.86it/s]\u001b[A\u001b[A\u001b[A\u001b[A\u001b[A\u001b[A\u001b[A"
     ]
    },
    {
     "name": "stdout",
     "output_type": "stream",
     "text": [
      "3\n",
      "[ -1.78697156e-04   3.09976811e-01   8.45466068e+02]\n",
      "[  2.34872716e-05  -7.79067033e-02  -5.14114676e+02]\n",
      "514.192606518\n"
     ]
    },
    {
     "name": "stderr",
     "output_type": "stream",
     "text": [
      "\n",
      "\n",
      "\n",
      "\n",
      "\n",
      "\n",
      "\n",
      " 11%|█         | 141/1261 [00:22<03:15,  5.72it/s]\u001b[A\u001b[A\u001b[A\u001b[A\u001b[A\u001b[A\u001b[A"
     ]
    },
    {
     "name": "stdout",
     "output_type": "stream",
     "text": [
      "3\n",
      "[ -1.24120050e-04   2.56750785e-01   8.55440543e+02]\n",
      "[ -3.69922302e-05  -2.33431817e-02  -5.23630211e+02]\n",
      "523.653590894\n"
     ]
    },
    {
     "name": "stderr",
     "output_type": "stream",
     "text": [
      "\n",
      "\n",
      "\n",
      "\n",
      "\n",
      "\n",
      "\n",
      " 11%|█▏        | 142/1261 [00:22<03:13,  5.78it/s]\u001b[A\u001b[A\u001b[A\u001b[A\u001b[A\u001b[A\u001b[A\n",
      "\n",
      "\n",
      "\n",
      "\n",
      "\n",
      "\n",
      " 11%|█▏        | 143/1261 [00:22<03:13,  5.78it/s]"
     ]
    },
    {
     "name": "stdout",
     "output_type": "stream",
     "text": [
      "3\n",
      "[ -4.82917443e-05   1.88277582e-01   8.64665148e+02]\n",
      "[ -1.19811991e-04   4.73715412e-02  -5.30896014e+02]\n",
      "530.943505035\n"
     ]
    },
    {
     "name": "stderr",
     "output_type": "stream",
     "text": [
      "\u001b[A\u001b[A\u001b[A\u001b[A\u001b[A\u001b[A\u001b[A"
     ]
    },
    {
     "name": "stdout",
     "output_type": "stream",
     "text": [
      "3\n",
      "[  2.11753139e-06   1.23995448e-01   8.81761843e+02]\n",
      "[ -1.72900752e-04   1.13453376e-01  -5.48497547e+02]\n",
      "548.611173118\n"
     ]
    },
    {
     "name": "stderr",
     "output_type": "stream",
     "text": [
      "\n",
      "\n",
      "\n",
      "\n",
      "\n",
      "\n",
      "\n",
      " 11%|█▏        | 144/1261 [00:23<03:15,  5.72it/s]\u001b[A\u001b[A\u001b[A\u001b[A\u001b[A\u001b[A\u001b[A"
     ]
    },
    {
     "name": "stdout",
     "output_type": "stream",
     "text": [
      "3\n",
      "[  7.45665542e-05   2.45589580e-02   9.11703558e+02]\n",
      "[ -2.44782140e-04   2.13430477e-01  -5.79313189e+02]\n",
      "579.526864604\n"
     ]
    },
    {
     "name": "stderr",
     "output_type": "stream",
     "text": [
      "\n",
      "\n",
      "\n",
      "\n",
      "\n",
      "\n",
      "\n",
      " 11%|█▏        | 145/1261 [00:23<03:17,  5.66it/s]\u001b[A\u001b[A\u001b[A\u001b[A\u001b[A\u001b[A\u001b[A"
     ]
    },
    {
     "name": "stdout",
     "output_type": "stream",
     "text": [
      "3\n",
      "[  1.80224493e-04  -4.16320876e-02   9.21474546e+02]\n",
      "[ -3.44638905e-04   2.70372046e-01  -5.84999035e+02]\n",
      "585.269751991\n"
     ]
    },
    {
     "name": "stderr",
     "output_type": "stream",
     "text": [
      "\n",
      "\n",
      "\n",
      "\n",
      "\n",
      "\n",
      "\n",
      " 12%|█▏        | 146/1261 [00:23<03:12,  5.78it/s]\u001b[A\u001b[A\u001b[A\u001b[A\u001b[A\u001b[A\u001b[A"
     ]
    },
    {
     "name": "stdout",
     "output_type": "stream",
     "text": [
      "3\n",
      "[  2.06413235e-04  -6.39653849e-02   9.29232150e+02]\n",
      "[ -3.53519289e-04   2.78909630e-01  -5.90968464e+02]\n",
      "591.247727019\n"
     ]
    },
    {
     "name": "stderr",
     "output_type": "stream",
     "text": [
      "\n",
      "\n",
      "\n",
      "\n",
      "\n",
      "\n",
      "\n",
      " 12%|█▏        | 147/1261 [00:23<03:13,  5.74it/s]\u001b[A\u001b[A\u001b[A\u001b[A\u001b[A\u001b[A\u001b[A"
     ]
    },
    {
     "name": "stdout",
     "output_type": "stream",
     "text": [
      "3\n",
      "[  1.24533900e-04   1.20698995e-02   9.06745472e+02]\n",
      "[ -2.89387692e-04   2.11571331e-01  -5.64160763e+02]\n",
      "564.372623424\n"
     ]
    },
    {
     "name": "stderr",
     "output_type": "stream",
     "text": [
      "\n",
      "\n",
      "\n",
      "\n",
      "\n",
      "\n",
      "\n",
      " 12%|█▏        | 148/1261 [00:23<03:20,  5.54it/s]\u001b[A\u001b[A\u001b[A\u001b[A\u001b[A\u001b[A\u001b[A"
     ]
    },
    {
     "name": "stdout",
     "output_type": "stream",
     "text": [
      "3\n",
      "[  6.99939445e-05   5.66113793e-02   8.98960154e+02]\n",
      "[ -2.42907437e-04   1.71014867e-01  -5.56061210e+02]\n",
      "556.232467479\n"
     ]
    },
    {
     "name": "stderr",
     "output_type": "stream",
     "text": [
      "\n",
      "\n",
      "\n",
      "\n",
      "\n",
      "\n",
      "\n",
      " 12%|█▏        | 149/1261 [00:24<03:15,  5.68it/s]\u001b[A\u001b[A\u001b[A\u001b[A\u001b[A\u001b[A\u001b[A"
     ]
    },
    {
     "name": "stdout",
     "output_type": "stream",
     "text": [
      "3\n",
      "[  1.77571625e-04  -7.44830277e-02   9.40549525e+02]\n",
      "[ -3.40648522e-04   2.96508569e-01  -5.98954233e+02]\n",
      "599.251082575\n"
     ]
    },
    {
     "name": "stderr",
     "output_type": "stream",
     "text": [
      "\n",
      "\n",
      "\n",
      "\n",
      "\n",
      "\n",
      "\n",
      " 12%|█▏        | 150/1261 [00:24<03:15,  5.68it/s]\u001b[A\u001b[A\u001b[A\u001b[A\u001b[A\u001b[A\u001b[A"
     ]
    },
    {
     "name": "stdout",
     "output_type": "stream",
     "text": [
      "3\n",
      "[ -1.60125187e-05   1.68274544e-01   8.66186911e+02]\n",
      "[ -1.42396678e-04   5.14015538e-02  -5.25704995e+02]\n",
      "525.756539193\n"
     ]
    },
    {
     "name": "stderr",
     "output_type": "stream",
     "text": [
      "\n",
      "\n",
      "\n",
      "\n",
      "\n",
      "\n",
      "\n",
      " 12%|█▏        | 151/1261 [00:24<03:18,  5.59it/s]\u001b[A\u001b[A\u001b[A\u001b[A\u001b[A\u001b[A\u001b[A\n",
      "\n",
      "\n",
      "\n",
      "\n",
      "\n",
      "\n",
      " 12%|█▏        | 152/1261 [00:24<03:09,  5.84it/s]"
     ]
    },
    {
     "name": "stdout",
     "output_type": "stream",
     "text": [
      "3\n",
      "[  2.53610495e-05   1.16529037e-01   8.81913418e+02]\n",
      "[ -1.62376541e-04   8.65229445e-02  -5.40758832e+02]\n",
      "540.845517255\n"
     ]
    },
    {
     "name": "stderr",
     "output_type": "stream",
     "text": [
      "\u001b[A\u001b[A\u001b[A\u001b[A\u001b[A\u001b[A\u001b[A\n",
      "\n",
      "\n",
      "\n",
      "\n",
      "\n",
      "\n",
      " 12%|█▏        | 153/1261 [00:24<03:03,  6.05it/s]"
     ]
    },
    {
     "name": "stdout",
     "output_type": "stream",
     "text": [
      "3\n",
      "[ -8.09393415e-05   2.23807479e-01   8.52746023e+02]\n",
      "[ -7.03417458e-05  -1.12427514e-02  -5.11458745e+02]\n",
      "511.470057829\n"
     ]
    },
    {
     "name": "stderr",
     "output_type": "stream",
     "text": [
      "\u001b[A\u001b[A\u001b[A\u001b[A\u001b[A\u001b[A\u001b[A\n",
      "\n",
      "\n",
      "\n",
      "\n",
      "\n",
      "\n",
      " 12%|█▏        | 154/1261 [00:24<03:02,  6.06it/s]"
     ]
    },
    {
     "name": "stdout",
     "output_type": "stream",
     "text": [
      "3\n",
      "[ -8.92127732e-05   2.15312432e-01   8.63119088e+02]\n",
      "[ -5.63419424e-05  -5.48077052e-03  -5.24766952e+02]\n",
      "524.77248942\n"
     ]
    },
    {
     "name": "stderr",
     "output_type": "stream",
     "text": [
      "\u001b[A\u001b[A\u001b[A\u001b[A\u001b[A\u001b[A\u001b[A"
     ]
    },
    {
     "name": "stdout",
     "output_type": "stream",
     "text": [
      "3\n",
      "[ -1.42385604e-04   2.58487963e-01   8.57529973e+02]\n",
      "[ -1.91532908e-05  -3.40381735e-02  -5.24161363e+02]\n",
      "524.195420459\n"
     ]
    },
    {
     "name": "stderr",
     "output_type": "stream",
     "text": [
      "\n",
      "\n",
      "\n",
      "\n",
      "\n",
      "\n",
      "\n",
      " 12%|█▏        | 155/1261 [00:25<03:08,  5.86it/s]\u001b[A\u001b[A\u001b[A\u001b[A\u001b[A\u001b[A\u001b[A\n",
      "\n",
      "\n",
      "\n",
      "\n",
      "\n",
      "\n",
      " 12%|█▏        | 156/1261 [00:25<03:03,  6.03it/s]"
     ]
    },
    {
     "name": "stdout",
     "output_type": "stream",
     "text": [
      "3\n",
      "[ -1.24362766e-04   2.39031592e-01   8.61004882e+02]\n",
      "[ -4.91548594e-05  -5.80500536e-03  -5.29525965e+02]\n",
      "529.531819525\n"
     ]
    },
    {
     "name": "stderr",
     "output_type": "stream",
     "text": [
      "\u001b[A\u001b[A\u001b[A\u001b[A\u001b[A\u001b[A\u001b[A"
     ]
    },
    {
     "name": "stdout",
     "output_type": "stream",
     "text": [
      "3\n",
      "[ -3.57877511e-05   1.37627697e-01   8.86469941e+02]\n",
      "[ -1.24364708e-04   8.77441746e-02  -5.56069145e+02]\n",
      "556.157013529\n"
     ]
    },
    {
     "name": "stderr",
     "output_type": "stream",
     "text": [
      "\n",
      "\n",
      "\n",
      "\n",
      "\n",
      "\n",
      "\n",
      " 12%|█▏        | 157/1261 [00:25<03:05,  5.94it/s]\u001b[A\u001b[A\u001b[A\u001b[A\u001b[A\u001b[A\u001b[A"
     ]
    },
    {
     "name": "stdout",
     "output_type": "stream",
     "text": [
      "3\n",
      "[ -7.53840696e-05   1.79092719e-01   8.71260804e+02]\n",
      "[ -1.16224380e-04   6.76414306e-02  -5.41539843e+02]\n",
      "541.607600822\n"
     ]
    },
    {
     "name": "stderr",
     "output_type": "stream",
     "text": [
      "\n",
      "\n",
      "\n",
      "\n",
      "\n",
      "\n",
      "\n",
      " 13%|█▎        | 158/1261 [00:25<03:11,  5.75it/s]\u001b[A\u001b[A\u001b[A\u001b[A\u001b[A\u001b[A\u001b[A"
     ]
    },
    {
     "name": "stdout",
     "output_type": "stream",
     "text": [
      "3\n",
      "[  4.41180167e-04  -2.93775305e-01   9.81441132e+02]\n",
      "[ -6.20395366e-04   5.31756357e-01  -6.53050505e+02]\n",
      "653.582881274\n"
     ]
    },
    {
     "name": "stderr",
     "output_type": "stream",
     "text": [
      "\n",
      "\n",
      "\n",
      "\n",
      "\n",
      "\n",
      "\n",
      " 13%|█▎        | 159/1261 [00:25<03:09,  5.81it/s]\u001b[A\u001b[A\u001b[A\u001b[A\u001b[A\u001b[A\u001b[A"
     ]
    },
    {
     "name": "stdout",
     "output_type": "stream",
     "text": [
      "3\n",
      "[  4.01335081e-04  -2.71900578e-01   9.78434820e+02]\n",
      "[ -6.18291564e-04   5.40970205e-01  -6.55417548e+02]\n",
      "655.95913634\n"
     ]
    },
    {
     "name": "stderr",
     "output_type": "stream",
     "text": [
      "\n",
      "\n",
      "\n",
      "\n",
      "\n",
      "\n",
      "\n",
      " 13%|█▎        | 160/1261 [00:25<03:15,  5.64it/s]\u001b[A\u001b[A\u001b[A\u001b[A\u001b[A\u001b[A\u001b[A"
     ]
    },
    {
     "name": "stdout",
     "output_type": "stream",
     "text": [
      "3\n",
      "[  8.36385305e-05   3.13266772e-02   9.10072473e+02]\n",
      "[ -2.74285704e-04   2.23362090e-01  -5.89260337e+02]\n",
      "589.483973291\n"
     ]
    },
    {
     "name": "stderr",
     "output_type": "stream",
     "text": [
      "\n",
      "\n",
      "\n",
      "\n",
      "\n",
      "\n",
      "\n",
      " 13%|█▎        | 161/1261 [00:26<03:15,  5.62it/s]\u001b[A\u001b[A\u001b[A\u001b[A\u001b[A\u001b[A\u001b[A"
     ]
    },
    {
     "name": "stdout",
     "output_type": "stream",
     "text": [
      "3\n",
      "[ -4.39589210e-05   1.44252477e-01   8.86930214e+02]\n",
      "[ -1.40673411e-04   1.08611230e-01  -5.68265938e+02]\n",
      "568.374690261\n"
     ]
    },
    {
     "name": "stderr",
     "output_type": "stream",
     "text": [
      "\n",
      "\n",
      "\n",
      "\n",
      "\n",
      "\n",
      "\n",
      " 13%|█▎        | 162/1261 [00:26<03:16,  5.60it/s]\u001b[A\u001b[A\u001b[A\u001b[A\u001b[A\u001b[A\u001b[A"
     ]
    },
    {
     "name": "stdout",
     "output_type": "stream",
     "text": [
      "3\n",
      "[ -3.00830094e-04   4.09599975e-01   8.21500845e+02]\n",
      "[  1.16481919e-04  -1.52777402e-01  -5.06631180e+02]\n",
      "506.784074121\n"
     ]
    },
    {
     "name": "stderr",
     "output_type": "stream",
     "text": [
      "\n",
      "\n",
      "\n",
      "\n",
      "\n",
      "\n",
      "\n",
      " 13%|█▎        | 163/1261 [00:26<03:11,  5.72it/s]\u001b[A\u001b[A\u001b[A\u001b[A\u001b[A\u001b[A\u001b[A\n",
      "\n",
      "\n",
      "\n",
      "\n",
      "\n",
      "\n",
      " 13%|█▎        | 164/1261 [00:26<03:09,  5.78it/s]"
     ]
    },
    {
     "name": "stdout",
     "output_type": "stream",
     "text": [
      "3\n",
      "[ -2.72529677e-04   4.09566136e-01   8.10628262e+02]\n",
      "[  9.76889661e-05  -1.63169562e-01  -4.92355816e+02]\n",
      "492.519083196\n"
     ]
    },
    {
     "name": "stderr",
     "output_type": "stream",
     "text": [
      "\u001b[A\u001b[A\u001b[A\u001b[A\u001b[A\u001b[A\u001b[A"
     ]
    },
    {
     "name": "stdout",
     "output_type": "stream",
     "text": [
      "3\n",
      "[ -2.40016821e-04   3.95470021e-01   8.04487020e+02]\n",
      "[  6.36391932e-05  -1.51078234e-01  -4.83332203e+02]\n",
      "483.483345103\n"
     ]
    },
    {
     "name": "stderr",
     "output_type": "stream",
     "text": [
      "\n",
      "\n",
      "\n",
      "\n",
      "\n",
      "\n",
      "\n",
      " 13%|█▎        | 165/1261 [00:26<03:06,  5.88it/s]\u001b[A\u001b[A\u001b[A\u001b[A\u001b[A\u001b[A\u001b[A"
     ]
    },
    {
     "name": "stdout",
     "output_type": "stream",
     "text": [
      "3\n",
      "[ -1.51015785e-04   3.17132761e-01   8.18486440e+02]\n",
      "[ -2.51368673e-05  -6.84265481e-02  -5.01033434e+02]\n",
      "501.101885716\n"
     ]
    },
    {
     "name": "stderr",
     "output_type": "stream",
     "text": [
      "\n",
      "\n",
      "\n",
      "\n",
      "\n",
      "\n",
      "\n",
      " 13%|█▎        | 166/1261 [00:26<03:05,  5.89it/s]\u001b[A\u001b[A\u001b[A\u001b[A\u001b[A\u001b[A\u001b[A"
     ]
    },
    {
     "name": "stdout",
     "output_type": "stream",
     "text": [
      "3\n",
      "[ -8.40228905e-05   2.53540986e-01   8.28565308e+02]\n",
      "[ -1.12686180e-04   9.03731135e-03  -5.11704397e+02]\n",
      "511.713546864\n"
     ]
    },
    {
     "name": "stderr",
     "output_type": "stream",
     "text": [
      "\n",
      "\n",
      "\n",
      "\n",
      "\n",
      "\n",
      "\n",
      " 13%|█▎        | 167/1261 [00:27<03:06,  5.86it/s]\u001b[A\u001b[A\u001b[A\u001b[A\u001b[A\u001b[A\u001b[A\n",
      "\n",
      "\n",
      "\n",
      "\n",
      "\n",
      "\n",
      " 13%|█▎        | 168/1261 [00:27<03:00,  6.06it/s]"
     ]
    },
    {
     "name": "stdout",
     "output_type": "stream",
     "text": [
      "3\n",
      "[ -1.12050452e-04   2.64931282e-01   8.34679457e+02]\n",
      "[ -5.54293455e-05  -2.12378879e-02  -5.18866474e+02]\n",
      "518.887767507\n"
     ]
    },
    {
     "name": "stderr",
     "output_type": "stream",
     "text": [
      "\u001b[A\u001b[A\u001b[A\u001b[A\u001b[A\u001b[A\u001b[A"
     ]
    },
    {
     "name": "stdout",
     "output_type": "stream",
     "text": [
      "3\n",
      "[ -2.52383271e-05   1.61203664e-01   8.64106793e+02]\n",
      "[ -1.20833943e-04   6.89981711e-02  -5.49145876e+02]\n",
      "549.214995356\n"
     ]
    },
    {
     "name": "stderr",
     "output_type": "stream",
     "text": [
      "\n",
      "\n",
      "\n",
      "\n",
      "\n",
      "\n",
      "\n",
      " 13%|█▎        | 169/1261 [00:27<03:07,  5.81it/s]\u001b[A\u001b[A\u001b[A\u001b[A\u001b[A\u001b[A\u001b[A\n",
      "\n",
      "\n",
      "\n",
      "\n",
      "\n",
      "\n",
      " 13%|█▎        | 170/1261 [00:27<02:59,  6.07it/s]"
     ]
    },
    {
     "name": "stdout",
     "output_type": "stream",
     "text": [
      "3\n",
      "[  6.54090578e-05   3.29779816e-02   9.05622624e+02]\n",
      "[ -2.08569619e-04   2.00714391e-01  -5.96089839e+02]\n",
      "596.290761869\n"
     ]
    },
    {
     "name": "stderr",
     "output_type": "stream",
     "text": [
      "\u001b[A\u001b[A\u001b[A\u001b[A\u001b[A\u001b[A\u001b[A"
     ]
    },
    {
     "name": "stdout",
     "output_type": "stream",
     "text": [
      "3\n",
      "[  3.77684735e-04  -2.62686870e-01   9.76871092e+02]\n",
      "[ -5.17294141e-04   4.92693256e-01  -6.67473851e+02]\n",
      "667.967061567\n"
     ]
    },
    {
     "name": "stderr",
     "output_type": "stream",
     "text": [
      "\n",
      "\n",
      "\n",
      "\n",
      "\n",
      "\n",
      "\n",
      " 14%|█▎        | 171/1261 [00:27<03:11,  5.69it/s]\u001b[A\u001b[A\u001b[A\u001b[A\u001b[A\u001b[A\u001b[A"
     ]
    },
    {
     "name": "stdout",
     "output_type": "stream",
     "text": [
      "3\n",
      "[  2.90384459e-04  -1.94138728e-01   9.64580141e+02]\n",
      "[ -4.35995202e-04   4.29799947e-01  -6.57436758e+02]\n",
      "657.866993446\n"
     ]
    },
    {
     "name": "stderr",
     "output_type": "stream",
     "text": [
      "\n",
      "\n",
      "\n",
      "\n",
      "\n",
      "\n",
      "\n",
      " 14%|█▎        | 172/1261 [00:27<03:14,  5.60it/s]\u001b[A\u001b[A\u001b[A\u001b[A\u001b[A\u001b[A\u001b[A"
     ]
    },
    {
     "name": "stdout",
     "output_type": "stream",
     "text": [
      "3\n",
      "[  4.09340504e-04  -3.34601068e-01   1.00348633e+03]\n",
      "[ -5.61130145e-04   5.74883597e-01  -6.96932627e+02]\n",
      "697.508072083\n"
     ]
    },
    {
     "name": "stderr",
     "output_type": "stream",
     "text": [
      "\n",
      "\n",
      "\n",
      "\n",
      "\n",
      "\n",
      "\n",
      " 14%|█▎        | 173/1261 [00:28<03:10,  5.73it/s]\u001b[A\u001b[A\u001b[A\u001b[A\u001b[A\u001b[A\u001b[A"
     ]
    },
    {
     "name": "stdout",
     "output_type": "stream",
     "text": [
      "3\n",
      "[  3.89889346e-04  -3.27879348e-01   1.00250723e+03]\n",
      "[ -5.62130086e-04   5.80373889e-01  -6.95331095e+02]\n",
      "695.912031266\n"
     ]
    },
    {
     "name": "stderr",
     "output_type": "stream",
     "text": [
      "\n",
      "\n",
      "\n",
      "\n",
      "\n",
      "\n",
      "\n",
      " 14%|█▍        | 174/1261 [00:28<03:10,  5.69it/s]\u001b[A\u001b[A\u001b[A\u001b[A\u001b[A\u001b[A\u001b[A"
     ]
    },
    {
     "name": "stdout",
     "output_type": "stream",
     "text": [
      "3\n",
      "[  1.63573454e-04  -9.85406658e-02   9.44638596e+02]\n",
      "[ -3.58768157e-04   3.69047681e-01  -6.39919865e+02]\n",
      "640.289271725\n"
     ]
    },
    {
     "name": "stderr",
     "output_type": "stream",
     "text": [
      "\n",
      "\n",
      "\n",
      "\n",
      "\n",
      "\n",
      "\n",
      " 14%|█▍        | 175/1261 [00:28<03:10,  5.70it/s]\u001b[A\u001b[A\u001b[A\u001b[A\u001b[A\u001b[A\u001b[A"
     ]
    },
    {
     "name": "stdout",
     "output_type": "stream",
     "text": [
      "3\n",
      "[ -1.83163156e-04   3.09559821e-01   8.25791798e+02]\n",
      "[ -2.31270114e-05  -3.27060780e-02  -5.21613527e+02]\n",
      "521.646255946\n"
     ]
    },
    {
     "name": "stderr",
     "output_type": "stream",
     "text": [
      "\n",
      "\n",
      "\n",
      "\n",
      "\n",
      "\n",
      "\n",
      " 14%|█▍        | 176/1261 [00:28<03:10,  5.71it/s]\u001b[A\u001b[A\u001b[A\u001b[A\u001b[A\u001b[A\u001b[A"
     ]
    },
    {
     "name": "stdout",
     "output_type": "stream",
     "text": [
      "3\n",
      "[ -2.83814561e-04   4.10151487e-01   8.04991805e+02]\n",
      "[  1.04590446e-04  -1.51072075e-01  -5.02237896e+02]\n",
      "502.389072255\n"
     ]
    },
    {
     "name": "stderr",
     "output_type": "stream",
     "text": [
      "\n",
      "\n",
      "\n",
      "\n",
      "\n",
      "\n",
      "\n",
      " 14%|█▍        | 177/1261 [00:28<03:10,  5.69it/s]\u001b[A\u001b[A\u001b[A\u001b[A\u001b[A\u001b[A\u001b[A"
     ]
    },
    {
     "name": "stdout",
     "output_type": "stream",
     "text": [
      "3\n",
      "[ -2.19673708e-04   3.49515606e-01   8.20817368e+02]\n",
      "[  3.94044283e-05  -9.16081049e-02  -5.17727637e+02]\n",
      "517.819284784\n"
     ]
    },
    {
     "name": "stderr",
     "output_type": "stream",
     "text": [
      "\n",
      "\n",
      "\n",
      "\n",
      "\n",
      "\n",
      "\n",
      " 14%|█▍        | 178/1261 [00:29<03:11,  5.66it/s]\u001b[A\u001b[A\u001b[A\u001b[A\u001b[A\u001b[A\u001b[A"
     ]
    },
    {
     "name": "stdout",
     "output_type": "stream",
     "text": [
      "3\n",
      "[ -2.10192662e-04   3.39843544e-01   8.25245787e+02]\n",
      "[  1.05413252e-05  -7.06672506e-02  -5.23098311e+02]\n",
      "523.16898885\n"
     ]
    },
    {
     "name": "stderr",
     "output_type": "stream",
     "text": [
      "\n",
      "\n",
      "\n",
      "\n",
      "\n",
      "\n",
      "\n",
      " 14%|█▍        | 179/1261 [00:29<03:10,  5.68it/s]\u001b[A\u001b[A\u001b[A\u001b[A\u001b[A\u001b[A\u001b[A"
     ]
    },
    {
     "name": "stdout",
     "output_type": "stream",
     "text": [
      "3\n",
      "[ -3.56873933e-04   4.79892107e-01   7.99654820e+02]\n",
      "[  1.43839342e-04  -2.00822610e-01  -4.99430608e+02]\n",
      "499.631574279\n"
     ]
    },
    {
     "name": "stderr",
     "output_type": "stream",
     "text": [
      "\n",
      "\n",
      "\n",
      "\n",
      "\n",
      "\n",
      "\n",
      " 14%|█▍        | 180/1261 [00:29<03:10,  5.66it/s]\u001b[A\u001b[A\u001b[A\u001b[A\u001b[A\u001b[A\u001b[A"
     ]
    },
    {
     "name": "stdout",
     "output_type": "stream",
     "text": [
      "3\n",
      "[ -2.50356083e-04   3.82806983e-01   8.16810230e+02]\n",
      "[  3.09159969e-05  -1.05622539e-01  -5.11516186e+02]\n",
      "511.621839091\n"
     ]
    },
    {
     "name": "stderr",
     "output_type": "stream",
     "text": [
      "\n",
      "\n",
      "\n",
      "\n",
      "\n",
      "\n",
      "\n",
      " 14%|█▍        | 181/1261 [00:29<03:17,  5.48it/s]\u001b[A\u001b[A\u001b[A\u001b[A\u001b[A\u001b[A\u001b[A"
     ]
    },
    {
     "name": "stdout",
     "output_type": "stream",
     "text": [
      "3\n",
      "[ -2.40559845e-04   3.58140946e-01   8.29119544e+02]\n",
      "[  1.35387792e-05  -7.63612916e-02  -5.25293171e+02]\n",
      "525.369545505\n"
     ]
    },
    {
     "name": "stderr",
     "output_type": "stream",
     "text": [
      "\n",
      "\n",
      "\n",
      "\n",
      "\n",
      "\n",
      "\n",
      " 14%|█▍        | 182/1261 [00:29<03:10,  5.68it/s]\u001b[A\u001b[A\u001b[A\u001b[A\u001b[A\u001b[A\u001b[A"
     ]
    },
    {
     "name": "stdout",
     "output_type": "stream",
     "text": [
      "3\n",
      "[ -4.83655636e-05   1.94532506e-01   8.61136643e+02]\n",
      "[ -1.97088971e-04   9.65045239e-02  -5.54865674e+02]\n",
      "554.962375688\n"
     ]
    },
    {
     "name": "stderr",
     "output_type": "stream",
     "text": [
      "\n",
      "\n",
      "\n",
      "\n",
      "\n",
      "\n",
      "\n",
      " 15%|█▍        | 183/1261 [00:29<03:10,  5.66it/s]\u001b[A\u001b[A\u001b[A\u001b[A\u001b[A\u001b[A\u001b[A"
     ]
    },
    {
     "name": "stdout",
     "output_type": "stream",
     "text": [
      "3\n",
      "[  3.66323714e-05   1.23308097e-01   8.73106517e+02]\n",
      "[ -2.88015547e-04   1.68383256e-01  -5.63940559e+02]\n",
      "564.109230068\n"
     ]
    },
    {
     "name": "stderr",
     "output_type": "stream",
     "text": [
      "\n",
      "\n",
      "\n",
      "\n",
      "\n",
      "\n",
      "\n",
      " 15%|█▍        | 184/1261 [00:30<03:15,  5.50it/s]\u001b[A\u001b[A\u001b[A\u001b[A\u001b[A\u001b[A\u001b[A"
     ]
    },
    {
     "name": "stdout",
     "output_type": "stream",
     "text": [
      "3\n",
      "[  2.20115725e-04  -1.08152635e-01   9.39912779e+02]\n",
      "[ -4.77318046e-04   4.03064872e-01  -6.28705127e+02]\n",
      "629.108669651\n"
     ]
    },
    {
     "name": "stderr",
     "output_type": "stream",
     "text": [
      "\n",
      "\n",
      "\n",
      "\n",
      "\n",
      "\n",
      "\n",
      " 15%|█▍        | 185/1261 [00:30<03:19,  5.39it/s]\u001b[A\u001b[A\u001b[A\u001b[A\u001b[A\u001b[A\u001b[A"
     ]
    },
    {
     "name": "stdout",
     "output_type": "stream",
     "text": [
      "3\n",
      "[  5.28859003e-05   8.97870746e-02   8.78342062e+02]\n",
      "[ -3.49535773e-04   2.34460544e-01  -5.66630252e+02]\n",
      "566.865061926\n"
     ]
    },
    {
     "name": "stderr",
     "output_type": "stream",
     "text": [
      "\n",
      "\n",
      "\n",
      "\n",
      "\n",
      "\n",
      "\n",
      " 15%|█▍        | 186/1261 [00:30<03:23,  5.29it/s]\u001b[A\u001b[A\u001b[A\u001b[A\u001b[A\u001b[A\u001b[A"
     ]
    },
    {
     "name": "stdout",
     "output_type": "stream",
     "text": [
      "3\n",
      "[ -2.18935107e-04   3.81581928e-01   8.01489603e+02]\n",
      "[ -8.65850030e-05  -4.59663570e-02  -4.92191155e+02]\n",
      "492.23720786\n"
     ]
    },
    {
     "name": "stderr",
     "output_type": "stream",
     "text": [
      "\n",
      "\n",
      "\n",
      "\n",
      "\n",
      "\n",
      "\n",
      " 15%|█▍        | 187/1261 [00:30<03:13,  5.54it/s]\u001b[A\u001b[A\u001b[A\u001b[A\u001b[A\u001b[A\u001b[A"
     ]
    },
    {
     "name": "stdout",
     "output_type": "stream",
     "text": [
      "3\n",
      "[  3.33878069e-04  -2.37365128e-01   9.73134043e+02]\n",
      "[ -6.45079682e-04   5.80974087e-01  -6.63891068e+02]\n",
      "664.472687613\n"
     ]
    },
    {
     "name": "stderr",
     "output_type": "stream",
     "text": [
      "\n",
      "\n",
      "\n",
      "\n",
      "\n",
      "\n",
      "\n",
      " 15%|█▍        | 188/1261 [00:30<03:17,  5.44it/s]\u001b[A\u001b[A\u001b[A\u001b[A\u001b[A\u001b[A\u001b[A"
     ]
    },
    {
     "name": "stdout",
     "output_type": "stream",
     "text": [
      "3\n",
      "[ -2.63731404e-04   4.61813633e-01   7.69171524e+02]\n",
      "[ -4.28108638e-05  -1.19632860e-01  -4.59716368e+02]\n",
      "459.836043186\n"
     ]
    },
    {
     "name": "stderr",
     "output_type": "stream",
     "text": [
      "\n",
      "\n",
      "\n",
      "\n",
      "\n",
      "\n",
      "\n",
      " 15%|█▍        | 189/1261 [00:31<03:19,  5.38it/s]\u001b[A\u001b[A\u001b[A\u001b[A\u001b[A\u001b[A\u001b[A\n",
      "\n",
      "\n",
      "\n",
      "\n",
      "\n",
      "\n",
      " 15%|█▌        | 190/1261 [00:31<03:11,  5.60it/s]"
     ]
    },
    {
     "name": "stdout",
     "output_type": "stream",
     "text": [
      "3\n",
      "[ -2.62262497e-04   4.65856297e-01   7.66396162e+02]\n",
      "[ -3.23795640e-05  -1.28930304e-01  -4.56360667e+02]\n",
      "456.489629637\n"
     ]
    },
    {
     "name": "stderr",
     "output_type": "stream",
     "text": [
      "\u001b[A\u001b[A\u001b[A\u001b[A\u001b[A\u001b[A\u001b[A"
     ]
    },
    {
     "name": "stdout",
     "output_type": "stream",
     "text": [
      "3\n",
      "[ -4.04972342e-04   6.29703039e-01   7.19365985e+02]\n",
      "[  8.82016757e-05  -2.73256236e-01  -4.10872988e+02]\n",
      "411.146332189\n"
     ]
    },
    {
     "name": "stderr",
     "output_type": "stream",
     "text": [
      "\n",
      "\n",
      "\n",
      "\n",
      "\n",
      "\n",
      "\n",
      " 15%|█▌        | 191/1261 [00:31<03:08,  5.66it/s]\u001b[A\u001b[A\u001b[A\u001b[A\u001b[A\u001b[A\u001b[A"
     ]
    },
    {
     "name": "stdout",
     "output_type": "stream",
     "text": [
      "3\n",
      "[ -3.97318282e-04   6.18143212e-01   7.24819621e+02]\n",
      "[  1.04706097e-04  -2.75722736e-01  -4.16080131e+02]\n",
      "416.355958711\n"
     ]
    },
    {
     "name": "stderr",
     "output_type": "stream",
     "text": [
      "\n",
      "\n",
      "\n",
      "\n",
      "\n",
      "\n",
      "\n",
      " 15%|█▌        | 192/1261 [00:31<03:13,  5.52it/s]\u001b[A\u001b[A\u001b[A\u001b[A\u001b[A\u001b[A\u001b[A\n",
      "\n",
      "\n",
      "\n",
      "\n",
      "\n",
      "\n",
      " 15%|█▌        | 193/1261 [00:31<03:16,  5.43it/s]\u001b[A\u001b[A\u001b[A\u001b[A\u001b[A\u001b[A\u001b[A"
     ]
    },
    {
     "name": "stdout",
     "output_type": "stream",
     "text": [
      "3\n",
      "[ -2.66366248e-04   4.90751582e-01   7.50263651e+02]\n",
      "[ -2.94584133e-07  -1.67269129e-01  -4.37006277e+02]\n",
      "437.173546351\n",
      "3\n",
      "[ -2.10455040e-04   4.17969166e-01   7.72269725e+02]\n",
      "[ -7.45321538e-05  -7.59449719e-02  -4.63061521e+02]\n",
      "463.137540185\n"
     ]
    },
    {
     "name": "stderr",
     "output_type": "stream",
     "text": [
      "\n",
      "\n",
      "\n",
      "\n",
      "\n",
      "\n",
      "\n",
      " 15%|█▌        | 194/1261 [00:31<03:17,  5.40it/s]\u001b[A\u001b[A\u001b[A\u001b[A\u001b[A\u001b[A\u001b[A\n",
      "\n",
      "\n",
      "\n",
      "\n",
      "\n",
      "\n",
      " 15%|█▌        | 195/1261 [00:32<03:16,  5.42it/s]\u001b[A\u001b[A\u001b[A\u001b[A\u001b[A\u001b[A\u001b[A"
     ]
    },
    {
     "name": "stdout",
     "output_type": "stream",
     "text": [
      "3\n",
      "[ -5.02975815e-05   2.41298218e-01   8.20606117e+02]\n",
      "[ -2.25589664e-04   9.40029743e-02  -5.10746363e+02]\n",
      "510.840591607\n",
      "3\n",
      "[  1.62196694e-04  -1.67859003e-04   8.96388501e+02]\n",
      "[ -3.98708663e-04   3.09274542e-01  -5.88619541e+02]\n",
      "588.929214722\n"
     ]
    },
    {
     "name": "stderr",
     "output_type": "stream",
     "text": [
      "\n",
      "\n",
      "\n",
      "\n",
      "\n",
      "\n",
      "\n",
      " 16%|█▌        | 196/1261 [00:32<03:10,  5.58it/s]\u001b[A\u001b[A\u001b[A\u001b[A\u001b[A\u001b[A\u001b[A\n",
      "\n",
      "\n",
      "\n",
      "\n",
      "\n",
      "\n",
      " 16%|█▌        | 197/1261 [00:32<03:08,  5.65it/s]\u001b[A\u001b[A\u001b[A\u001b[A\u001b[A\u001b[A\u001b[A"
     ]
    },
    {
     "name": "stdout",
     "output_type": "stream",
     "text": [
      "3\n",
      "[  2.26730851e-04  -9.09434297e-02   9.32960959e+02]\n",
      "[ -4.32149743e-04   3.83605565e-01  -6.30027590e+02]\n",
      "630.411628183\n",
      "3\n",
      "[  2.02823030e-04  -1.03383228e-01   9.52316657e+02]\n",
      "[ -3.93296083e-04   3.89268182e-01  -6.54761578e+02]\n",
      "655.151239661\n"
     ]
    },
    {
     "name": "stderr",
     "output_type": "stream",
     "text": [
      "\n",
      "\n",
      "\n",
      "\n",
      "\n",
      "\n",
      "\n",
      " 16%|█▌        | 198/1261 [00:32<03:07,  5.67it/s]\u001b[A\u001b[A\u001b[A\u001b[A\u001b[A\u001b[A\u001b[A\n",
      "\n",
      "\n",
      "\n",
      "\n",
      "\n",
      "\n",
      " 16%|█▌        | 199/1261 [00:32<02:57,  6.00it/s]\u001b[A\u001b[A\u001b[A\u001b[A\u001b[A\u001b[A\u001b[A"
     ]
    },
    {
     "name": "stdout",
     "output_type": "stream",
     "text": [
      "3\n",
      "[ -1.01025678e-05   8.67631046e-02   9.17252616e+02]\n",
      "[ -1.69805814e-04   1.95637015e-01  -6.25150160e+02]\n",
      "625.345966883\n",
      "3\n",
      "[  7.05731187e-04  -6.89754656e-01   1.12610469e+03]\n",
      "[ -8.86988684e-04   9.72350166e-01  -8.34295371e+02]\n",
      "835.268608532\n"
     ]
    },
    {
     "name": "stderr",
     "output_type": "stream",
     "text": [
      "\n",
      "\n",
      "\n",
      "\n",
      "\n",
      "\n",
      "\n",
      " 16%|█▌        | 200/1261 [00:32<03:05,  5.72it/s]\u001b[A\u001b[A\u001b[A\u001b[A\u001b[A\u001b[A\u001b[A\n",
      "\n",
      "\n",
      "\n",
      "\n",
      "\n",
      "\n",
      " 16%|█▌        | 201/1261 [00:33<03:01,  5.83it/s]\u001b[A\u001b[A\u001b[A\u001b[A\u001b[A\u001b[A\u001b[A"
     ]
    },
    {
     "name": "stdout",
     "output_type": "stream",
     "text": [
      "3\n",
      "[  8.10747783e-04  -8.57608093e-01   1.18820107e+03]\n",
      "[ -9.74040482e-04   1.12442759e+00  -8.95967495e+02]\n",
      "897.092896537\n",
      "3\n",
      "[ -9.36880762e-05   2.05363262e-01   8.73529322e+02]\n",
      "[ -8.26283103e-05   6.53540471e-02  -5.78950893e+02]\n",
      "579.01632918\n"
     ]
    },
    {
     "name": "stderr",
     "output_type": "stream",
     "text": [
      "\n",
      "\n",
      "\n",
      "\n",
      "\n",
      "\n",
      "\n",
      " 16%|█▌        | 202/1261 [00:33<03:01,  5.83it/s]\u001b[A\u001b[A\u001b[A\u001b[A\u001b[A\u001b[A\u001b[A\n",
      "\n",
      "\n",
      "\n",
      "\n",
      "\n",
      "\n",
      " 16%|█▌        | 203/1261 [00:33<03:01,  5.84it/s]\u001b[A\u001b[A\u001b[A\u001b[A\u001b[A\u001b[A\u001b[A\n",
      "\n",
      "\n",
      "\n",
      "\n",
      "\n",
      "\n",
      " 16%|█▌        | 204/1261 [00:33<02:57,  5.96it/s]"
     ]
    },
    {
     "name": "stdout",
     "output_type": "stream",
     "text": [
      "3\n",
      "[ -1.86806917e-04   3.21954209e-01   8.34697844e+02]\n",
      "[  1.25425327e-05  -5.55221425e-02  -5.38226875e+02]\n",
      "538.28240966\n",
      "3\n",
      "[ -3.05557341e-04   4.38789519e-01   8.08372890e+02]\n",
      "[  1.32886231e-04  -1.75778711e-01  -5.11640855e+02]\n",
      "511.816766185\n"
     ]
    },
    {
     "name": "stderr",
     "output_type": "stream",
     "text": [
      "\u001b[A\u001b[A\u001b[A\u001b[A\u001b[A\u001b[A\u001b[A\n",
      "\n",
      "\n",
      "\n",
      "\n",
      "\n",
      "\n",
      " 16%|█▋        | 205/1261 [00:33<03:02,  5.78it/s]\u001b[A\u001b[A\u001b[A\u001b[A\u001b[A\u001b[A\u001b[A"
     ]
    },
    {
     "name": "stdout",
     "output_type": "stream",
     "text": [
      "3\n",
      "[ -1.15757293e-04   2.62416767e-01   8.38851770e+02]\n",
      "[ -6.82802669e-05   5.43977793e-03  -5.39496239e+02]\n",
      "539.501747009\n",
      "3\n",
      "[ -7.02338874e-05   2.11005575e-01   8.50918816e+02]\n",
      "[ -1.20089335e-04   5.86948815e-02  -5.49598509e+02]\n",
      "549.657324091\n"
     ]
    },
    {
     "name": "stderr",
     "output_type": "stream",
     "text": [
      "\n",
      "\n",
      "\n",
      "\n",
      "\n",
      "\n",
      "\n",
      " 16%|█▋        | 206/1261 [00:34<03:02,  5.79it/s]\u001b[A\u001b[A\u001b[A\u001b[A\u001b[A\u001b[A\u001b[A\n",
      "\n",
      "\n",
      "\n",
      "\n",
      "\n",
      "\n",
      " 16%|█▋        | 207/1261 [00:34<02:54,  6.05it/s]\u001b[A\u001b[A\u001b[A\u001b[A\u001b[A\u001b[A\u001b[A"
     ]
    },
    {
     "name": "stdout",
     "output_type": "stream",
     "text": [
      "3\n",
      "[ -1.07060113e-04   2.51784031e-01   8.34917041e+02]\n",
      "[ -1.17620325e-04   4.23956633e-02  -5.32838178e+02]\n",
      "532.880691267\n",
      "3\n",
      "[ -5.81180222e-05   2.08674395e-01   8.42122935e+02]\n",
      "[ -1.80734086e-04   9.42146917e-02  -5.38855187e+02]\n",
      "538.949582445\n"
     ]
    },
    {
     "name": "stderr",
     "output_type": "stream",
     "text": [
      "\n",
      "\n",
      "\n",
      "\n",
      "\n",
      "\n",
      "\n",
      " 16%|█▋        | 208/1261 [00:34<02:58,  5.90it/s]\u001b[A\u001b[A\u001b[A\u001b[A\u001b[A\u001b[A\u001b[A\n",
      "\n",
      "\n",
      "\n",
      "\n",
      "\n",
      "\n",
      " 17%|█▋        | 209/1261 [00:34<03:05,  5.68it/s]\u001b[A\u001b[A\u001b[A\u001b[A\u001b[A\u001b[A\u001b[A\n",
      "\n",
      "\n",
      "\n",
      "\n",
      "\n",
      "\n",
      " 17%|█▋        | 210/1261 [00:34<03:01,  5.79it/s]"
     ]
    },
    {
     "name": "stdout",
     "output_type": "stream",
     "text": [
      "3\n",
      "[  2.42668016e-04  -7.18676952e-02   9.11707015e+02]\n",
      "[ -4.59907616e-04   3.60782904e-01  -6.08327951e+02]\n",
      "608.689193504\n",
      "3\n",
      "[  2.85145562e-04  -1.64866375e-01   9.49916817e+02]\n",
      "[ -4.88687262e-04   4.46452827e-01  -6.48081388e+02]\n",
      "648.528329174\n"
     ]
    },
    {
     "name": "stderr",
     "output_type": "stream",
     "text": [
      "\u001b[A\u001b[A\u001b[A\u001b[A\u001b[A\u001b[A\u001b[A\n",
      "\n",
      "\n",
      "\n",
      "\n",
      "\n",
      "\n",
      " 17%|█▋        | 211/1261 [00:34<03:04,  5.70it/s]\u001b[A\u001b[A\u001b[A\u001b[A\u001b[A\u001b[A\u001b[A\n",
      "\n",
      "\n",
      "\n",
      "\n",
      "\n",
      "\n",
      " 17%|█▋        | 212/1261 [00:35<03:01,  5.79it/s]"
     ]
    },
    {
     "name": "stdout",
     "output_type": "stream",
     "text": [
      "3\n",
      "[ -1.90555241e-04   3.32803110e-01   8.26205911e+02]\n",
      "[ -1.21282386e-05  -5.08233468e-02  -5.26842690e+02]\n",
      "526.893525363\n",
      "3\n",
      "[ -3.21832110e-04   4.51344596e-01   7.99809573e+02]\n",
      "[  1.19251445e-04  -1.70133416e-01  -4.99301699e+02]\n",
      "499.471951229\n"
     ]
    },
    {
     "name": "stderr",
     "output_type": "stream",
     "text": [
      "\u001b[A\u001b[A\u001b[A\u001b[A\u001b[A\u001b[A\u001b[A\n",
      "\n",
      "\n",
      "\n",
      "\n",
      "\n",
      "\n",
      " 17%|█▋        | 213/1261 [00:35<03:02,  5.73it/s]\u001b[A\u001b[A\u001b[A\u001b[A\u001b[A\u001b[A\u001b[A\n",
      "\n",
      "\n",
      "\n",
      "\n",
      "\n",
      "\n",
      " 17%|█▋        | 214/1261 [00:35<02:55,  5.96it/s]"
     ]
    },
    {
     "name": "stdout",
     "output_type": "stream",
     "text": [
      "3\n",
      "[ -3.36765182e-04   4.67626174e-01   7.95770779e+02]\n",
      "[  1.24566184e-04  -1.78912795e-01  -4.96950851e+02]\n",
      "497.129887922\n",
      "3\n",
      "[ -2.73945322e-04   4.27680461e-01   7.96838010e+02]\n",
      "[  5.59834462e-05  -1.33856477e-01  -4.98829009e+02]\n",
      "498.962921169\n"
     ]
    },
    {
     "name": "stderr",
     "output_type": "stream",
     "text": [
      "\u001b[A\u001b[A\u001b[A\u001b[A\u001b[A\u001b[A\u001b[A\n",
      "\n",
      "\n",
      "\n",
      "\n",
      "\n",
      "\n",
      " 17%|█▋        | 215/1261 [00:35<03:00,  5.80it/s]\u001b[A\u001b[A\u001b[A\u001b[A\u001b[A\u001b[A\u001b[A"
     ]
    },
    {
     "name": "stdout",
     "output_type": "stream",
     "text": [
      "3\n",
      "[ -1.76459642e-04   3.49240505e-01   8.06169839e+02]\n",
      "[ -6.05341744e-05  -3.79218363e-02  -5.12289687e+02]\n",
      "512.327669658\n",
      "3\n",
      "[ -2.01909866e-04   3.74200461e-01   7.98903745e+02]\n",
      "[ -2.06810661e-05  -7.19770034e-02  -5.05807197e+02]\n",
      "505.87919429\n"
     ]
    },
    {
     "name": "stderr",
     "output_type": "stream",
     "text": [
      "\n",
      "\n",
      "\n",
      "\n",
      "\n",
      "\n",
      "\n",
      " 17%|█▋        | 216/1261 [00:35<03:03,  5.71it/s]\u001b[A\u001b[A\u001b[A\u001b[A\u001b[A\u001b[A\u001b[A\n",
      "\n",
      "\n",
      "\n",
      "\n",
      "\n",
      "\n",
      " 17%|█▋        | 217/1261 [00:35<03:09,  5.51it/s]\u001b[A\u001b[A\u001b[A\u001b[A\u001b[A\u001b[A\u001b[A\n",
      "\n",
      "\n",
      "\n",
      "\n",
      "\n",
      "\n",
      " 17%|█▋        | 218/1261 [00:36<03:01,  5.73it/s]"
     ]
    },
    {
     "name": "stdout",
     "output_type": "stream",
     "text": [
      "3\n",
      "[ -1.73092185e-04   3.46388722e-01   8.02156376e+02]\n",
      "[ -6.11234571e-05  -3.31892532e-02  -5.11518287e+02]\n",
      "511.551537458\n",
      "3\n",
      "[ -1.39667219e-04   3.00991584e-01   8.17125267e+02]\n",
      "[ -7.20790443e-05  -1.16689713e-03  -5.28068163e+02]\n",
      "528.069402337\n"
     ]
    },
    {
     "name": "stderr",
     "output_type": "stream",
     "text": [
      "\u001b[A\u001b[A\u001b[A\u001b[A\u001b[A\u001b[A\u001b[A\n",
      "\n",
      "\n",
      "\n",
      "\n",
      "\n",
      "\n",
      " 17%|█▋        | 219/1261 [00:36<02:59,  5.79it/s]\u001b[A\u001b[A\u001b[A\u001b[A\u001b[A\u001b[A\u001b[A\n",
      "\n",
      "\n",
      "\n",
      "\n",
      "\n",
      "\n",
      " 17%|█▋        | 220/1261 [00:36<02:54,  5.98it/s]"
     ]
    },
    {
     "name": "stdout",
     "output_type": "stream",
     "text": [
      "3\n",
      "[ -4.74208817e-05   2.09659813e-01   8.33408212e+02]\n",
      "[ -1.67557918e-04   9.17714241e-02  -5.42904859e+02]\n",
      "542.996797912\n",
      "3\n",
      "[  2.89396083e-07   1.64346549e-01   8.48067824e+02]\n",
      "[ -1.94818404e-04   1.25909840e-01  -5.60275028e+02]\n",
      "560.401132838\n"
     ]
    },
    {
     "name": "stderr",
     "output_type": "stream",
     "text": [
      "\u001b[A\u001b[A\u001b[A\u001b[A\u001b[A\u001b[A\u001b[A\n",
      "\n",
      "\n",
      "\n",
      "\n",
      "\n",
      "\n",
      " 18%|█▊        | 221/1261 [00:36<02:55,  5.91it/s]\u001b[A\u001b[A\u001b[A\u001b[A\u001b[A\u001b[A\u001b[A\n",
      "\n",
      "\n",
      "\n",
      "\n",
      "\n",
      "\n",
      " 18%|█▊        | 222/1261 [00:36<02:53,  5.98it/s]"
     ]
    },
    {
     "name": "stdout",
     "output_type": "stream",
     "text": [
      "3\n",
      "[  7.69740754e-05   8.11408666e-02   8.69921239e+02]\n",
      "[ -2.61600625e-04   2.05244194e-01  -5.83440167e+02]\n",
      "583.64567259\n",
      "3\n",
      "[  3.35930825e-05   1.20937380e-01   8.60775483e+02]\n",
      "[ -2.19948985e-04   1.66517812e-01  -5.74594479e+02]\n",
      "574.761216471\n"
     ]
    },
    {
     "name": "stderr",
     "output_type": "stream",
     "text": [
      "\u001b[A\u001b[A\u001b[A\u001b[A\u001b[A\u001b[A\u001b[A\n",
      "\n",
      "\n",
      "\n",
      "\n",
      "\n",
      "\n",
      " 18%|█▊        | 223/1261 [00:36<02:58,  5.80it/s]\u001b[A\u001b[A\u001b[A\u001b[A\u001b[A\u001b[A\u001b[A\n",
      "\n",
      "\n",
      "\n",
      "\n",
      "\n",
      "\n",
      " 18%|█▊        | 224/1261 [00:37<02:52,  6.01it/s]"
     ]
    },
    {
     "name": "stdout",
     "output_type": "stream",
     "text": [
      "3\n",
      "[ -6.06759286e-05   2.21995296e-01   8.34443898e+02]\n",
      "[ -1.14754056e-04   5.79888743e-02  -5.48175115e+02]\n",
      "548.233218223\n",
      "3\n",
      "[ -1.15181230e-04   2.95103122e-01   8.06538288e+02]\n",
      "[ -6.21090494e-05  -1.68763586e-02  -5.16827453e+02]\n",
      "516.844391019\n"
     ]
    },
    {
     "name": "stderr",
     "output_type": "stream",
     "text": [
      "\u001b[A\u001b[A\u001b[A\u001b[A\u001b[A\u001b[A\u001b[A\n",
      "\n",
      "\n",
      "\n",
      "\n",
      "\n",
      "\n",
      " 18%|█▊        | 225/1261 [00:37<02:53,  5.98it/s]\u001b[A\u001b[A\u001b[A\u001b[A\u001b[A\u001b[A\u001b[A"
     ]
    },
    {
     "name": "stdout",
     "output_type": "stream",
     "text": [
      "3\n",
      "[  1.76741523e-05   1.76745348e-01   8.30942292e+02]\n",
      "[ -1.81514324e-04   9.27948958e-02  -5.41854422e+02]\n",
      "541.947397976\n",
      "3\n",
      "[ -4.15280795e-05   2.35210295e-01   8.12372894e+02]\n",
      "[ -1.26407868e-04   3.35303857e-02  -5.21135692e+02]\n",
      "521.169348574\n"
     ]
    },
    {
     "name": "stderr",
     "output_type": "stream",
     "text": [
      "\n",
      "\n",
      "\n",
      "\n",
      "\n",
      "\n",
      "\n",
      " 18%|█▊        | 226/1261 [00:37<02:54,  5.93it/s]\u001b[A\u001b[A\u001b[A\u001b[A\u001b[A\u001b[A\u001b[A\n",
      "\n",
      "\n",
      "\n",
      "\n",
      "\n",
      "\n",
      " 18%|█▊        | 227/1261 [00:37<02:58,  5.79it/s]\u001b[A\u001b[A\u001b[A\u001b[A\u001b[A\u001b[A\u001b[A"
     ]
    },
    {
     "name": "stdout",
     "output_type": "stream",
     "text": [
      "3\n",
      "[  5.87592975e-05   1.27387642e-01   8.38746212e+02]\n",
      "[ -2.18337056e-04   1.34993760e-01  -5.48177336e+02]\n",
      "548.312548326\n",
      "3\n",
      "[  7.25549202e-05   9.48367840e-02   8.51746713e+02]\n",
      "[ -2.33473042e-04   1.70425064e-01  -5.64668532e+02]\n",
      "564.83919057\n"
     ]
    },
    {
     "name": "stderr",
     "output_type": "stream",
     "text": [
      "\n",
      "\n",
      "\n",
      "\n",
      "\n",
      "\n",
      "\n",
      " 18%|█▊        | 228/1261 [00:37<03:07,  5.51it/s]\u001b[A\u001b[A\u001b[A\u001b[A\u001b[A\u001b[A\u001b[A\n",
      "\n",
      "\n",
      "\n",
      "\n",
      "\n",
      "\n",
      " 18%|█▊        | 229/1261 [00:37<03:05,  5.55it/s]\u001b[A\u001b[A\u001b[A\u001b[A\u001b[A\u001b[A\u001b[A\n",
      "\n",
      "\n",
      "\n",
      "\n",
      "\n",
      "\n",
      " 18%|█▊        | 230/1261 [00:38<02:58,  5.79it/s]"
     ]
    },
    {
     "name": "stdout",
     "output_type": "stream",
     "text": [
      "3\n",
      "[  8.27712143e-05   7.03415323e-02   8.60179689e+02]\n",
      "[ -2.35992481e-04   1.84662761e-01  -5.70770045e+02]\n",
      "570.954943316\n",
      "3\n",
      "[  4.31557857e-05   9.51299603e-02   8.60688737e+02]\n",
      "[ -1.96757751e-04   1.62743480e-01  -5.75576751e+02]\n",
      "575.739691538\n"
     ]
    },
    {
     "name": "stderr",
     "output_type": "stream",
     "text": [
      "\u001b[A\u001b[A\u001b[A\u001b[A\u001b[A\u001b[A\u001b[A\n",
      "\n",
      "\n",
      "\n",
      "\n",
      "\n",
      "\n",
      " 18%|█▊        | 231/1261 [00:38<02:59,  5.74it/s]\u001b[A\u001b[A\u001b[A\u001b[A\u001b[A\u001b[A\u001b[A"
     ]
    },
    {
     "name": "stdout",
     "output_type": "stream",
     "text": [
      "3\n",
      "[  6.73340191e-05   6.08881440e-02   8.70243117e+02]\n",
      "[ -2.23108419e-04   1.98018274e-01  -5.85267438e+02]\n",
      "585.465679055\n",
      "3\n",
      "[  9.14358674e-05   3.26306127e-02   8.81121594e+02]\n",
      "[ -2.42871806e-04   2.25602479e-01  -6.00174911e+02]\n",
      "600.400756543\n"
     ]
    },
    {
     "name": "stderr",
     "output_type": "stream",
     "text": [
      "\n",
      "\n",
      "\n",
      "\n",
      "\n",
      "\n",
      "\n",
      " 18%|█▊        | 232/1261 [00:38<03:02,  5.65it/s]\u001b[A\u001b[A\u001b[A\u001b[A\u001b[A\u001b[A\u001b[A\n",
      "\n",
      "\n",
      "\n",
      "\n",
      "\n",
      "\n",
      " 18%|█▊        | 233/1261 [00:38<03:04,  5.58it/s]\u001b[A\u001b[A\u001b[A\u001b[A\u001b[A\u001b[A\u001b[A\n",
      "\n",
      "\n",
      "\n",
      "\n",
      "\n",
      "\n",
      " 19%|█▊        | 234/1261 [00:38<02:58,  5.76it/s]"
     ]
    },
    {
     "name": "stdout",
     "output_type": "stream",
     "text": [
      "3\n",
      "[  2.52684775e-04  -1.24863516e-01   9.18932677e+02]\n",
      "[ -3.96733605e-04   3.76253068e-01  -6.37620140e+02]\n",
      "637.996789841\n",
      "3\n",
      "[ -9.43034705e-05   2.34405897e-01   8.27050177e+02]\n",
      "[ -5.63688392e-05   1.98075241e-02  -5.46623404e+02]\n",
      "546.643267758\n"
     ]
    },
    {
     "name": "stderr",
     "output_type": "stream",
     "text": [
      "\u001b[A\u001b[A\u001b[A\u001b[A\u001b[A\u001b[A\u001b[A\n",
      "\n",
      "\n",
      "\n",
      "\n",
      "\n",
      "\n",
      " 19%|█▊        | 235/1261 [00:39<03:05,  5.53it/s]\u001b[A\u001b[A\u001b[A\u001b[A\u001b[A\u001b[A\u001b[A"
     ]
    },
    {
     "name": "stdout",
     "output_type": "stream",
     "text": [
      "3\n",
      "[ -1.03033667e-04   2.37163704e-01   8.27341736e+02]\n",
      "[ -5.32191976e-05   1.74211669e-02  -5.46513244e+02]\n",
      "546.530718494\n",
      "3\n",
      "[ -1.34517888e-04   2.82717408e-01   8.07928928e+02]\n",
      "[ -1.70679332e-05  -3.36510363e-02  -5.24175361e+02]\n",
      "524.209028835\n"
     ]
    },
    {
     "name": "stderr",
     "output_type": "stream",
     "text": [
      "\n",
      "\n",
      "\n",
      "\n",
      "\n",
      "\n",
      "\n",
      " 19%|█▊        | 236/1261 [00:39<03:01,  5.66it/s]\u001b[A\u001b[A\u001b[A\u001b[A\u001b[A\u001b[A\u001b[A\n",
      "\n",
      "\n",
      "\n",
      "\n",
      "\n",
      "\n",
      " 19%|█▉        | 237/1261 [00:39<02:52,  5.93it/s]\u001b[A\u001b[A\u001b[A\u001b[A\u001b[A\u001b[A\u001b[A"
     ]
    },
    {
     "name": "stdout",
     "output_type": "stream",
     "text": [
      "3\n",
      "[ -3.25449067e-04   4.63313258e-01   7.67266850e+02]\n",
      "[  1.65188255e-04  -2.08785399e-01  -4.84909045e+02]\n",
      "485.117996084\n",
      "3\n",
      "[ -3.01846530e-04   4.51946430e-01   7.65780650e+02]\n",
      "[  1.23623345e-04  -1.86286395e-01  -4.83862654e+02]\n",
      "484.049064081\n"
     ]
    },
    {
     "name": "stderr",
     "output_type": "stream",
     "text": [
      "\n",
      "\n",
      "\n",
      "\n",
      "\n",
      "\n",
      "\n",
      " 19%|█▉        | 238/1261 [00:39<02:55,  5.82it/s]\u001b[A\u001b[A\u001b[A\u001b[A\u001b[A\u001b[A\u001b[A\n",
      "\n",
      "\n",
      "\n",
      "\n",
      "\n",
      "\n",
      " 19%|█▉        | 239/1261 [00:39<02:52,  5.92it/s]\u001b[A\u001b[A\u001b[A\u001b[A\u001b[A\u001b[A\u001b[A"
     ]
    },
    {
     "name": "stdout",
     "output_type": "stream",
     "text": [
      "3\n",
      "[ -2.51151291e-04   4.13857388e-01   7.69499593e+02]\n",
      "[  6.65907505e-05  -1.48055524e-01  -4.85669730e+02]\n",
      "485.81785254\n",
      "3\n",
      "[ -1.36509594e-04   3.06176001e-01   7.92547493e+02]\n",
      "[ -4.42828207e-05  -4.57204507e-02  -5.08376616e+02]\n",
      "508.422380672\n"
     ]
    },
    {
     "name": "stderr",
     "output_type": "stream",
     "text": [
      "\n",
      "\n",
      "\n",
      "\n",
      "\n",
      "\n",
      "\n",
      " 19%|█▉        | 240/1261 [00:39<02:55,  5.83it/s]\u001b[A\u001b[A\u001b[A\u001b[A\u001b[A\u001b[A\u001b[A\n",
      "\n",
      "\n",
      "\n",
      "\n",
      "\n",
      "\n",
      " 19%|█▉        | 241/1261 [00:40<02:54,  5.84it/s]\u001b[A\u001b[A\u001b[A\u001b[A\u001b[A\u001b[A\u001b[A"
     ]
    },
    {
     "name": "stdout",
     "output_type": "stream",
     "text": [
      "3\n",
      "[ -3.56562899e-05   1.93114700e-01   8.20937132e+02]\n",
      "[ -1.57438052e-04   7.59470058e-02  -5.37569482e+02]\n",
      "537.645586289\n",
      "3\n",
      "[  1.71338772e-05   1.24858776e-01   8.44704223e+02]\n",
      "[ -2.06340929e-04   1.42645384e-01  -5.64429310e+02]\n",
      "564.57216149\n"
     ]
    },
    {
     "name": "stderr",
     "output_type": "stream",
     "text": [
      "\n",
      "\n",
      "\n",
      "\n",
      "\n",
      "\n",
      "\n",
      " 19%|█▉        | 242/1261 [00:40<02:57,  5.73it/s]\u001b[A\u001b[A\u001b[A\u001b[A\u001b[A\u001b[A\u001b[A\n",
      "\n",
      "\n",
      "\n",
      "\n",
      "\n",
      "\n",
      " 19%|█▉        | 243/1261 [00:40<03:03,  5.56it/s]\u001b[A\u001b[A\u001b[A\u001b[A\u001b[A\u001b[A\u001b[A\n",
      "\n",
      "\n",
      "\n",
      "\n",
      "\n",
      "\n",
      " 19%|█▉        | 244/1261 [00:40<02:58,  5.71it/s]"
     ]
    },
    {
     "name": "stdout",
     "output_type": "stream",
     "text": [
      "3\n",
      "[ -3.72665704e-05   1.83590049e-01   8.28037617e+02]\n",
      "[ -1.58015597e-04   8.53150551e-02  -5.44639323e+02]\n",
      "544.72479562\n",
      "3\n",
      "[ -5.55827106e-05   1.92346232e-01   8.29913351e+02]\n",
      "[ -1.31548636e-04   7.07111788e-02  -5.47171794e+02]\n",
      "547.242636509\n"
     ]
    },
    {
     "name": "stderr",
     "output_type": "stream",
     "text": [
      "\u001b[A\u001b[A\u001b[A\u001b[A\u001b[A\u001b[A\u001b[A\n",
      "\n",
      "\n",
      "\n",
      "\n",
      "\n",
      "\n",
      " 19%|█▉        | 245/1261 [00:40<02:59,  5.67it/s]\u001b[A\u001b[A\u001b[A\u001b[A\u001b[A\u001b[A\u001b[A"
     ]
    },
    {
     "name": "stdout",
     "output_type": "stream",
     "text": [
      "3\n",
      "[  2.65355859e-05   1.18823815e-01   8.44147445e+02]\n",
      "[ -2.16242759e-04   1.42417571e-01  -5.58954874e+02]\n",
      "559.097507808\n",
      "3\n",
      "[  1.23702295e-04   1.89598862e-02   8.68606495e+02]\n",
      "[ -3.29389421e-04   2.52471494e-01  -5.83742745e+02]\n",
      "583.995545741\n"
     ]
    },
    {
     "name": "stderr",
     "output_type": "stream",
     "text": [
      "\n",
      "\n",
      "\n",
      "\n",
      "\n",
      "\n",
      "\n",
      " 20%|█▉        | 246/1261 [00:40<02:59,  5.64it/s]\u001b[A\u001b[A\u001b[A\u001b[A\u001b[A\u001b[A\u001b[A\n",
      "\n",
      "\n",
      "\n",
      "\n",
      "\n",
      "\n",
      " 20%|█▉        | 247/1261 [00:41<03:01,  5.59it/s]\u001b[A\u001b[A\u001b[A\u001b[A\u001b[A\u001b[A\u001b[A"
     ]
    },
    {
     "name": "stdout",
     "output_type": "stream",
     "text": [
      "3\n",
      "[  1.55958742e-04  -2.77858334e-02   8.85605116e+02]\n",
      "[ -3.71195237e-04   3.06787203e-01  -6.02555534e+02]\n",
      "602.862692157\n",
      "3\n",
      "[  1.21395476e-04   5.76269127e-03   8.75030903e+02]\n",
      "[ -3.38693167e-04   2.71987726e-01  -5.88569182e+02]\n",
      "588.841508566\n"
     ]
    },
    {
     "name": "stderr",
     "output_type": "stream",
     "text": [
      "\n",
      "\n",
      "\n",
      "\n",
      "\n",
      "\n",
      "\n",
      " 20%|█▉        | 248/1261 [00:41<02:57,  5.70it/s]\u001b[A\u001b[A\u001b[A\u001b[A\u001b[A\u001b[A\u001b[A\n",
      "\n",
      "\n",
      "\n",
      "\n",
      "\n",
      "\n",
      " 20%|█▉        | 249/1261 [00:41<03:01,  5.57it/s]\u001b[A\u001b[A\u001b[A\u001b[A\u001b[A\u001b[A\u001b[A"
     ]
    },
    {
     "name": "stdout",
     "output_type": "stream",
     "text": [
      "3\n",
      "[ -2.34916305e-04   4.08454275e-01   7.64593320e+02]\n",
      "[  1.80242279e-05  -1.28997669e-01  -4.80759700e+02]\n",
      "480.888715591\n",
      "3\n",
      "[ -1.86706208e-04   3.56169421e-01   7.77912585e+02]\n",
      "[ -4.00303461e-05  -7.08649503e-02  -4.93515417e+02]\n",
      "493.586322014\n"
     ]
    },
    {
     "name": "stderr",
     "output_type": "stream",
     "text": [
      "\n",
      "\n",
      "\n",
      "\n",
      "\n",
      "\n",
      "\n",
      " 20%|█▉        | 250/1261 [00:41<03:04,  5.49it/s]\u001b[A\u001b[A\u001b[A\u001b[A\u001b[A\u001b[A\u001b[A\n",
      "\n",
      "\n",
      "\n",
      "\n",
      "\n",
      "\n",
      " 20%|█▉        | 251/1261 [00:41<03:08,  5.35it/s]\u001b[A\u001b[A\u001b[A\u001b[A\u001b[A\u001b[A\u001b[A"
     ]
    },
    {
     "name": "stdout",
     "output_type": "stream",
     "text": [
      "3\n",
      "[ -2.49210940e-04   4.19520723e-01   7.63691778e+02]\n",
      "[  2.68715316e-05  -1.37228104e-01  -4.79897543e+02]\n",
      "480.034798418\n",
      "3\n",
      "[ -1.11701222e-04   2.76660314e-01   7.99192346e+02]\n",
      "[ -1.06922039e-04   3.94424915e-04  -5.14409718e+02]\n",
      "514.410219141\n"
     ]
    },
    {
     "name": "stderr",
     "output_type": "stream",
     "text": [
      "\n",
      "\n",
      "\n",
      "\n",
      "\n",
      "\n",
      "\n",
      " 20%|█▉        | 252/1261 [00:42<03:03,  5.51it/s]\u001b[A\u001b[A\u001b[A\u001b[A\u001b[A\u001b[A\u001b[A\n",
      "\n",
      "\n",
      "\n",
      "\n",
      "\n",
      "\n",
      " 20%|██        | 253/1261 [00:42<03:03,  5.49it/s]\u001b[A\u001b[A\u001b[A\u001b[A\u001b[A\u001b[A\u001b[A"
     ]
    },
    {
     "name": "stdout",
     "output_type": "stream",
     "text": [
      "3\n",
      "[ -1.10253282e-04   2.70438616e-01   8.01146258e+02]\n",
      "[ -1.01828782e-04  -2.90255527e-04  -5.14371156e+02]\n",
      "514.371548228\n",
      "3\n",
      "[ -6.85258184e-05   2.15693858e-01   8.19982864e+02]\n",
      "[ -1.31491911e-04   4.49546172e-02  -5.32856851e+02]\n",
      "532.901936846\n"
     ]
    },
    {
     "name": "stderr",
     "output_type": "stream",
     "text": [
      "\n",
      "\n",
      "\n",
      "\n",
      "\n",
      "\n",
      "\n",
      " 20%|██        | 254/1261 [00:42<03:02,  5.50it/s]\u001b[A\u001b[A\u001b[A\u001b[A\u001b[A\u001b[A\u001b[A\n",
      "\n",
      "\n",
      "\n",
      "\n",
      "\n",
      "\n",
      " 20%|██        | 255/1261 [00:42<03:05,  5.44it/s]\u001b[A\u001b[A\u001b[A\u001b[A\u001b[A\u001b[A\u001b[A\n",
      "\n",
      "\n",
      "\n",
      "\n",
      "\n",
      "\n",
      " 20%|██        | 256/1261 [00:42<02:58,  5.63it/s]"
     ]
    },
    {
     "name": "stdout",
     "output_type": "stream",
     "text": [
      "3\n",
      "[ -2.62447783e-05   1.70154514e-01   8.30182585e+02]\n",
      "[ -1.68535530e-04   8.07597998e-02  -5.37516952e+02]\n",
      "537.597880098\n",
      "3\n",
      "[  1.29451068e-05   1.14953910e-01   8.48558408e+02]\n",
      "[ -2.22053355e-04   1.46696860e-01  -5.56926510e+02]\n",
      "557.073428425\n"
     ]
    },
    {
     "name": "stderr",
     "output_type": "stream",
     "text": [
      "\u001b[A\u001b[A\u001b[A\u001b[A\u001b[A\u001b[A\u001b[A\n",
      "\n",
      "\n",
      "\n",
      "\n",
      "\n",
      "\n",
      " 20%|██        | 257/1261 [00:42<03:01,  5.53it/s]\u001b[A\u001b[A\u001b[A\u001b[A\u001b[A\u001b[A\u001b[A"
     ]
    },
    {
     "name": "stdout",
     "output_type": "stream",
     "text": [
      "3\n",
      "[  2.14536101e-04  -5.95666134e-02   8.86820820e+02]\n",
      "[ -4.22143176e-04   3.15739359e-01  -5.90961388e+02]\n",
      "591.277549327\n",
      "3\n",
      "[  1.60355652e-04  -1.65589541e-02   8.79165122e+02]\n",
      "[ -3.64087776e-04   2.66598231e-01  -5.79786058e+02]\n",
      "580.053019863\n"
     ]
    },
    {
     "name": "stderr",
     "output_type": "stream",
     "text": [
      "\n",
      "\n",
      "\n",
      "\n",
      "\n",
      "\n",
      "\n",
      " 20%|██        | 258/1261 [00:43<03:03,  5.47it/s]\u001b[A\u001b[A\u001b[A\u001b[A\u001b[A\u001b[A\u001b[A\n",
      "\n",
      "\n",
      "\n",
      "\n",
      "\n",
      "\n",
      " 21%|██        | 259/1261 [00:43<03:09,  5.29it/s]\u001b[A\u001b[A\u001b[A\u001b[A\u001b[A\u001b[A\u001b[A"
     ]
    },
    {
     "name": "stdout",
     "output_type": "stream",
     "text": [
      "3\n",
      "[ -7.98848616e-05   2.22617588e-01   8.23063266e+02]\n",
      "[ -1.10530215e-04   1.77857183e-02  -5.22462524e+02]\n",
      "522.480420702\n",
      "3\n",
      "[ -1.90474816e-04   3.39002572e-01   7.92102834e+02]\n",
      "[  1.15001998e-07  -1.01493317e-01  -4.87713072e+02]\n",
      "487.814565181\n"
     ]
    },
    {
     "name": "stderr",
     "output_type": "stream",
     "text": [
      "\n",
      "\n",
      "\n",
      "\n",
      "\n",
      "\n",
      "\n",
      " 21%|██        | 260/1261 [00:43<03:07,  5.34it/s]\u001b[A\u001b[A\u001b[A\u001b[A\u001b[A\u001b[A\u001b[A\n",
      "\n",
      "\n",
      "\n",
      "\n",
      "\n",
      "\n",
      " 21%|██        | 261/1261 [00:43<03:12,  5.21it/s]"
     ]
    },
    {
     "name": "stdout",
     "output_type": "stream",
     "text": [
      "3\n",
      "[ -9.41005951e-05   2.26312175e-01   8.28934109e+02]\n",
      "[ -7.19844028e-05  -9.53995229e-03  -5.22067828e+02]\n",
      "522.07744031\n"
     ]
    },
    {
     "name": "stderr",
     "output_type": "stream",
     "text": [
      "\u001b[A\u001b[A\u001b[A\u001b[A\u001b[A\u001b[A\u001b[A\n",
      "\n",
      "\n",
      "\n",
      "\n",
      "\n",
      "\n",
      " 21%|██        | 262/1261 [00:43<03:15,  5.11it/s]"
     ]
    },
    {
     "name": "stdout",
     "output_type": "stream",
     "text": [
      "3\n",
      "[ -2.81144084e-04   3.97984316e-01   7.92761353e+02]\n",
      "[  1.07680555e-04  -1.79237590e-01  -4.83242670e+02]\n",
      "483.422015536\n"
     ]
    },
    {
     "name": "stderr",
     "output_type": "stream",
     "text": [
      "\u001b[A\u001b[A\u001b[A\u001b[A\u001b[A\u001b[A\u001b[A\n",
      "\n",
      "\n",
      "\n",
      "\n",
      "\n",
      "\n",
      " 21%|██        | 263/1261 [00:44<03:16,  5.09it/s]\u001b[A\u001b[A\u001b[A\u001b[A\u001b[A\u001b[A\u001b[A"
     ]
    },
    {
     "name": "stdout",
     "output_type": "stream",
     "text": [
      "3\n",
      "[ -2.28698367e-04   3.43158448e-01   8.08471128e+02]\n",
      "[  7.76083531e-05  -1.46574756e-01  -4.93700447e+02]\n",
      "493.847099801\n",
      "3\n",
      "[ -1.63246935e-04   2.86917712e-01   8.19858611e+02]\n",
      "[  1.79086161e-05  -9.91230207e-02  -5.02824958e+02]\n",
      "502.924099224\n"
     ]
    },
    {
     "name": "stderr",
     "output_type": "stream",
     "text": [
      "\n",
      "\n",
      "\n",
      "\n",
      "\n",
      "\n",
      "\n",
      " 21%|██        | 264/1261 [00:44<03:13,  5.16it/s]\u001b[A\u001b[A\u001b[A\u001b[A\u001b[A\u001b[A\u001b[A\n",
      "\n",
      "\n",
      "\n",
      "\n",
      "\n",
      "\n",
      " 21%|██        | 265/1261 [00:44<03:11,  5.20it/s]\u001b[A\u001b[A\u001b[A\u001b[A\u001b[A\u001b[A\u001b[A"
     ]
    },
    {
     "name": "stdout",
     "output_type": "stream",
     "text": [
      "3\n",
      "[ -6.86866880e-05   1.86005988e-01   8.45670101e+02]\n",
      "[ -8.54513275e-05   7.12882591e-03  -5.28858105e+02]\n",
      "528.865319631\n",
      "3\n",
      "[ -7.26175615e-05   1.75567204e-01   8.56381304e+02]\n",
      "[ -8.09796154e-05   1.86900380e-02  -5.42283521e+02]\n",
      "542.302291747\n"
     ]
    },
    {
     "name": "stderr",
     "output_type": "stream",
     "text": [
      "\n",
      "\n",
      "\n",
      "\n",
      "\n",
      "\n",
      "\n",
      " 21%|██        | 266/1261 [00:44<03:06,  5.34it/s]\u001b[A\u001b[A\u001b[A\u001b[A\u001b[A\u001b[A\u001b[A\n",
      "\n",
      "\n",
      "\n",
      "\n",
      "\n",
      "\n",
      " 21%|██        | 267/1261 [00:44<03:05,  5.35it/s]\u001b[A\u001b[A\u001b[A\u001b[A\u001b[A\u001b[A\u001b[A"
     ]
    },
    {
     "name": "stdout",
     "output_type": "stream",
     "text": [
      "3\n",
      "[ -8.29813292e-05   1.86652432e-01   8.53451073e+02]\n",
      "[ -8.77235285e-05   1.92174557e-02  -5.38455356e+02]\n",
      "538.474661117\n",
      "3\n",
      "[ -1.00261655e-04   1.95883916e-01   8.55270585e+02]\n",
      "[ -5.71550923e-05  -6.04129447e-04  -5.38909938e+02]\n",
      "538.910599703\n"
     ]
    },
    {
     "name": "stderr",
     "output_type": "stream",
     "text": [
      "\n",
      "\n",
      "\n",
      "\n",
      "\n",
      "\n",
      "\n",
      " 21%|██▏       | 268/1261 [00:45<03:06,  5.33it/s]\u001b[A\u001b[A\u001b[A\u001b[A\u001b[A\u001b[A\u001b[A\n",
      "\n",
      "\n",
      "\n",
      "\n",
      "\n",
      "\n",
      " 21%|██▏       | 269/1261 [00:45<03:03,  5.40it/s]\u001b[A\u001b[A\u001b[A\u001b[A\u001b[A\u001b[A\u001b[A"
     ]
    },
    {
     "name": "stdout",
     "output_type": "stream",
     "text": [
      "3\n",
      "[ -1.13565018e-04   1.99005333e-01   8.61025313e+02]\n",
      "[ -5.83154377e-05   9.55875147e-03  -5.48728861e+02]\n",
      "548.738478258\n",
      "3\n",
      "[ -1.04731419e-04   2.08773175e-01   8.54380778e+02]\n",
      "[ -5.36320034e-05  -1.43511065e-02  -5.38223171e+02]\n",
      "538.237575866\n"
     ]
    },
    {
     "name": "stderr",
     "output_type": "stream",
     "text": [
      "\n",
      "\n",
      "\n",
      "\n",
      "\n",
      "\n",
      "\n",
      " 21%|██▏       | 270/1261 [00:45<03:01,  5.45it/s]\u001b[A\u001b[A\u001b[A\u001b[A\u001b[A\u001b[A\u001b[A\n",
      "\n",
      "\n",
      "\n",
      "\n",
      "\n",
      "\n",
      " 21%|██▏       | 271/1261 [00:45<03:07,  5.28it/s]"
     ]
    },
    {
     "name": "stdout",
     "output_type": "stream",
     "text": [
      "3\n",
      "[ -6.76679786e-05   2.16435574e-01   8.39671341e+02]\n",
      "[ -1.01898297e-04  -2.15105611e-02  -5.18063943e+02]\n",
      "518.085555075\n",
      "3\n",
      "[ -1.81002743e-04   3.17698522e-01   8.13983331e+02]\n",
      "[  3.91080185e-06  -1.20380822e-01  -4.87723776e+02]\n",
      "487.844160631\n"
     ]
    },
    {
     "name": "stderr",
     "output_type": "stream",
     "text": [
      "\u001b[A\u001b[A\u001b[A\u001b[A\u001b[A\u001b[A\u001b[A\n",
      "\n",
      "\n",
      "\n",
      "\n",
      "\n",
      "\n",
      " 22%|██▏       | 272/1261 [00:45<03:06,  5.32it/s]\u001b[A\u001b[A\u001b[A\u001b[A\u001b[A\u001b[A\u001b[A\n",
      "\n",
      "\n",
      "\n",
      "\n",
      "\n",
      "\n",
      " 22%|██▏       | 273/1261 [00:45<03:01,  5.45it/s]\u001b[A\u001b[A\u001b[A\u001b[A\u001b[A\u001b[A\u001b[A"
     ]
    },
    {
     "name": "stdout",
     "output_type": "stream",
     "text": [
      "3\n",
      "[ -1.65433871e-05   1.76903757e-01   8.40942282e+02]\n",
      "[ -1.51859730e-04   1.35581706e-02  -5.12418448e+02]\n",
      "512.432157623\n",
      "3\n",
      "[ -1.75965880e-06   1.65741220e-01   8.38701005e+02]\n",
      "[ -1.68865272e-04   1.99171138e-02  -5.03792189e+02]\n",
      "503.812275336\n"
     ]
    },
    {
     "name": "stderr",
     "output_type": "stream",
     "text": [
      "\n",
      "\n",
      "\n",
      "\n",
      "\n",
      "\n",
      "\n",
      " 22%|██▏       | 274/1261 [00:46<02:58,  5.52it/s]\u001b[A\u001b[A\u001b[A\u001b[A\u001b[A\u001b[A\u001b[A"
     ]
    }
   ],
   "source": [
    "input_video = 'project_video.mp4'\n",
    "output_video = 'lane_detection.mp4'\n",
    "input_clip = VideoFileClip(input_video,audio=False)\n",
    "output_clip = input_clip.fl_image(find_lane)\n",
    "%time output_clip.write_videofile(output_video, audio=False)"
   ]
  },
  {
   "cell_type": "code",
   "execution_count": null,
   "metadata": {
    "collapsed": true
   },
   "outputs": [],
   "source": []
  }
 ],
 "metadata": {
  "anaconda-cloud": {},
  "kernelspec": {
   "display_name": "Python [conda env:cv2]",
   "language": "python",
   "name": "conda-env-cv2-py"
  },
  "language_info": {
   "codemirror_mode": {
    "name": "ipython",
    "version": 3
   },
   "file_extension": ".py",
   "mimetype": "text/x-python",
   "name": "python",
   "nbconvert_exporter": "python",
   "pygments_lexer": "ipython3",
   "version": "3.5.2"
  }
 },
 "nbformat": 4,
 "nbformat_minor": 1
}
